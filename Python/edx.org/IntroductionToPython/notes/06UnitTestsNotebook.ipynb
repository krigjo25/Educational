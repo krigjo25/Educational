{
 "cells": [
  {
   "cell_type": "markdown",
   "metadata": {},
   "source": [
    "# Unit Tests Notebook"
   ]
  },
  {
   "cell_type": "markdown",
   "metadata": {},
   "source": [
    "-   Up to now, code testing has been used with `print` statements, alternative the CS50 has been relied on for code testing. It's most commonly to to write a personal code for testing the programs.\n",
    "\n",
    "Notice that the code below, could plausibly be tested by using obvious numbers such as `2`. However consider how you might want to create a test that ensures the code function appropriately"
   ]
  },
  {
   "cell_type": "code",
   "execution_count": null,
   "metadata": {},
   "outputs": [],
   "source": [
    "def main():\n",
    "\n",
    "    x = int(input('What is x?: '))\n",
    "    return print (f'x squared is {Square(x)}')\n",
    "\n",
    "def Square(x): return x*x\n",
    "\n",
    "if __name__=='__main__':\n",
    "    main()"
   ]
  },
  {
   "cell_type": "markdown",
   "metadata": {},
   "source": [
    "-   Following convention, create a new test unit\n",
    "\n",
    "Notice that the `Square()` function is imported from `calc.py`. By convention a function called `TestSquare()` is created.\n",
    "\n",
    "Inside that function we define some condition to test.<br>\n",
    "In the console window you would notice that nothing is being outputted.<br>\n",
    "It could be that everything is running fine !<br>\n",
    "Alternativly, it could be that the test function<br>\n",
    "did not discover one of the 'corner cases' that could produce an error.\n",
    "\n",
    "Right now the Test function is testing two conditions. If there were more condition<br>\n",
    "to meet the test code could easily become bloated.<br>\n",
    "How can we expand our test capabilities without expanding the code?<br>"
   ]
  },
  {
   "cell_type": "code",
   "execution_count": null,
   "metadata": {},
   "outputs": [],
   "source": [
    "#   Importing custom responsories\n",
    "from resources.calculators.calc import Geometry\n",
    "\n",
    "def main(): return TestSquare()\n",
    "\n",
    "def TestSquare():\n",
    "\n",
    "    #   Initializing variables\n",
    "    geo = Geometry()\n",
    "\n",
    "    if geo.Square(2) != 4: return print('2 squared was not 4')\n",
    "    elif geo.Square(3) != 9: return print('3 squared was not 9')\n",
    "\n",
    "\n",
    "if __name__=='__main__':\n",
    "    main()"
   ]
  },
  {
   "cell_type": "markdown",
   "metadata": {},
   "source": [
    "##  Assert\n",
    "\n",
    "Python's assert command allows the program<br>\n",
    "to tell the complier that something, some assertion, is true. \n",
    "\n",
    "Notice that `geo.square(2)` and `geo.square(3)` is asserted, and should be equal.<br>\n"
   ]
  },
  {
   "cell_type": "code",
   "execution_count": null,
   "metadata": {},
   "outputs": [],
   "source": [
    "#   Importing custom responsories\n",
    "from resources.calculators.calc import Geometry\n",
    "\n",
    "def main(): return TestSquare()\n",
    "\n",
    "def TestSquare():\n",
    "\n",
    "    #   Initializing variables\n",
    "    geo = Geometry()\n",
    "\n",
    "    try :\n",
    "        assert geo.Square(2) == 4\n",
    "        assert geo.Square(4) == 9\n",
    "\n",
    "    except AssertionError as e:\n",
    "\n",
    "        print('Something went horrible wrong\\n While testing the function')\n",
    "\n",
    "if __name__=='__main__':\n",
    "    main()"
   ]
  },
  {
   "cell_type": "markdown",
   "metadata": {},
   "source": [
    "-   Purposely break the code\n",
    "\n",
    "Notice `*` has been changed to `+` in the square function.\n",
    "\n",
    "- Running the code below, you will notice an AssertionError<br> \n",
    "is raised by the complier. Essentially, this is the complier<br>\n",
    "telling us that one of the condition were not met."
   ]
  },
  {
   "cell_type": "code",
   "execution_count": 1,
   "metadata": {},
   "outputs": [
    {
     "name": "stdout",
     "output_type": "stream",
     "text": [
      "Something went horrible wrong\n",
      " While testing the function\n"
     ]
    }
   ],
   "source": [
    "def main(): return TestSquare()\n",
    "\n",
    "def Square(n):\n",
    "    return n + n\n",
    "\n",
    "\n",
    "def TestSquare():\n",
    "\n",
    "    try :\n",
    "\n",
    "        assert Square(2) == 4\n",
    "        assert Square(4) == 9\n",
    "\n",
    "    except AssertionError as e:print('Something went horrible wrong\\n While testing the function')\n",
    "\n",
    "\n",
    "if __name__ == \"__main__\":\n",
    "    main()"
   ]
  },
  {
   "cell_type": "markdown",
   "metadata": {},
   "source": [
    "-   One of the challanges which can be faced. The code could be more burdensome if we wanted to provide more descriptive error output to our users."
   ]
  },
  {
   "cell_type": "markdown",
   "metadata": {},
   "source": [
    "Notice Running the code will produce multiple errors. However. Its not producing all the errors above.<br>\n",
    "This is a good illustration that is's worth testing multiple cases such that you might catch situations where there are coding mistakes.\n",
    "\n",
    "-   The above code illustrates a major challenge: How could we make it easier to test your code without dozens of lines of code like the above?\n",
    "\n",
    "[Python's documentation of assert](https://docs.python.org/3/reference/simple_stmts.html#assert)"
   ]
  },
  {
   "cell_type": "code",
   "execution_count": null,
   "metadata": {},
   "outputs": [],
   "source": [
    "from resources.calculators.calc import Geometry\n",
    "\n",
    "\n",
    "def main():\n",
    "    return TestSquare()\n",
    "\n",
    "\n",
    "def TestSquare():\n",
    "\n",
    "    #   Assigning classes to variables\n",
    "    geo = Geometry()\n",
    "\n",
    "    try:assert geo.Square(2) == 4\n",
    "    except AssertionError:print(\"2 squared is not 4\")\n",
    "\n",
    "    try:assert geo.Square(3) == 9\n",
    "    except AssertionError:print(\"3 squared is not 9\")\n",
    "\n",
    "    try:assert geo.Square(-2) == 4\n",
    "\n",
    "    except AssertionError:print(\"-2 squared is not 4\")\n",
    "\n",
    "    try:assert geo.Square(-3) == 9\n",
    "    except AssertionError:print(\"-3 squared is not 9\")\n",
    "\n",
    "    try:assert geo.Square(0) == 0\n",
    "    except AssertionError:print(\"0 squared is not 0\")\n",
    "\n",
    "\n",
    "if __name__ == \"__main__\":\n",
    "    main()"
   ]
  },
  {
   "cell_type": "markdown",
   "metadata": {},
   "source": [
    "## PyTest\n",
    "\n",
    "-   Pytest is a third-party library that allows you to unit test the program.<br>\n",
    "That is, such as functions within the program.\n",
    "\n",
    "- To utilize `pytest` `pip install pytest` into the terminal.\n",
    "Before applying pytest, modify the code as follow\n",
    "\n",
    "notice how the code below asserts all the conditions that has be tested.\n",
    "\n",
    "-   Pytest allows the programmer to run the program directly in the  through it, so the result can be easily viewed."
   ]
  },
  {
   "cell_type": "code",
   "execution_count": null,
   "metadata": {},
   "outputs": [],
   "source": [
    "from resources.calculators.calc import Geometry\n",
    "\n",
    "def main():\n",
    "    return TestSquare()\n",
    "\n",
    "\n",
    "def TestSquare():\n",
    "\n",
    "    #   Assigning classes to variables\n",
    "    geo = Geometry()\n",
    "\n",
    "    assert geo.Square(2) == 4\n",
    "    assert geo.Square(3) == 9\n",
    "    assert geo.Square(-2) == 4\n",
    "    assert geo.Square(-3) == 9\n",
    "    assert geo.Square(0) == 0\n",
    "\n",
    "if __name__ == \"__main__\":\n",
    "    main()"
   ]
  },
  {
   "cell_type": "markdown",
   "metadata": {},
   "source": [
    "In the terminal window type pytest pytest.py immediately an output will be provided. Notice the red `F` near the top of the output, indicating that something in the code has failed.<br>\n",
    "Further, notice that the red `E` provides some hints about the errors in the `calc.py` program. <br>\n",
    "Based on the output, a programmer could imagine a scenatio where `3*3` has outputted `6` insted of `9`. <br>\n",
    "Based on the results of the test, the code can be corrected. \n",
    "After changing `+` back to `*` re run the program.<br>\n",
    "\n",
    "Notice how the pytest provides 0 errors.\n",
    "\n",
    "- Returning calc.py back to its broken state\n",
    "\n",
    "- Notice it has been created a class with five different function to test. Testing framework such as pytest will run each function, even if there was a failure in one of them. running the DemoPyTest.py its noticeable many more errors are being displayed. More error outputs allopws the programmer to further explore what might be producing the problems.\n",
    "\n",
    "-   returing calc.py to correctly performed state\n",
    "[Python's documentation of pytest](https://docs.pytest.org/en/7.1.x/getting-started.html)"
   ]
  },
  {
   "cell_type": "markdown",
   "metadata": {},
   "source": [
    "##  Testing Strings\n",
    "\n",
    "Going back in time, consider the following code is up for testing"
   ]
  },
  {
   "cell_type": "code",
   "execution_count": null,
   "metadata": {},
   "outputs": [],
   "source": [
    "def main():\n",
    "    name = input(\"What's your name? \")\n",
    "    hello(name)\n",
    "\n",
    "\n",
    "def hello(to=\"world\"):\n",
    "    print(\"hello,\", to)\n",
    "\n",
    "\n",
    "if __name__ == \"__main__\":\n",
    "    main()"
   ]
  },
  {
   "cell_type": "markdown",
   "metadata": {},
   "source": [
    "Consider the following for the Test."
   ]
  },
  {
   "cell_type": "code",
   "execution_count": null,
   "metadata": {},
   "outputs": [],
   "source": [
    "from resources.files.hello import hello\n",
    "import pytest\n",
    "class StringTest():\n",
    "\n",
    "    def HelloWorldTest(self):\n",
    "\n",
    "        assert hello('Kristoffer') == 'Hello, Kristoffer'\n",
    "        assert hello() == 'Hello, World'\n",
    "\n",
    "        return\n",
    "\n",
    "\n",
    "if __name__ == '__main__':\n",
    "    srt = StringTest()\n",
    "    srt.HelloWorldTest()"
   ]
  },
  {
   "cell_type": "markdown",
   "metadata": {},
   "source": [
    "Looking at the code, you might think the approach will work well. What can happend here?\n",
    "`hello.py` does not return a value, but prints a value.\n",
    "\n",
    "Notice the code below, the hello function now returns a string insted of printing it"
   ]
  },
  {
   "cell_type": "code",
   "execution_count": null,
   "metadata": {},
   "outputs": [],
   "source": [
    "    def hello(self, name=\"World\"):\n",
    "        return f'Hello, {name}'"
   ]
  },
  {
   "cell_type": "markdown",
   "metadata": {},
   "source": [
    "## Organizing Test into Folders"
   ]
  },
  {
   "cell_type": "markdown",
   "metadata": {},
   "source": [
    "-   Unit testing code using multiple ntest is so common that you have the ability to run a whole folder of tests with a single command.\n",
    "\n",
    "-   pytest will not allow us to run test as a folder simply with this file (or a whole set of files) alone without a special __init__ file. Leave __init__ file empty notifies pytest that the whole folder containing __init__.py has test that can be run.\n",
    "[Pytest’s documentation of import mechanisms](https://docs.pytest.org/en/7.1.x/explanation/pythonpath.html?highlight=folder#pytest-import-mechanisms-and-sys-path-pythonpath)"
   ]
  }
 ],
 "metadata": {
  "kernelspec": {
   "display_name": "Python 3.10.5 64-bit",
   "language": "python",
   "name": "python3"
  },
  "language_info": {
   "codemirror_mode": {
    "name": "ipython",
    "version": 3
   },
   "file_extension": ".py",
   "mimetype": "text/x-python",
   "name": "python",
   "nbconvert_exporter": "python",
   "pygments_lexer": "ipython3",
   "version": "3.10.5"
  },
  "orig_nbformat": 4,
  "vscode": {
   "interpreter": {
    "hash": "949777d72b0d2535278d3dc13498b2535136f6dfe0678499012e853ee9abcab1"
   }
  }
 },
 "nbformat": 4,
 "nbformat_minor": 2
}
