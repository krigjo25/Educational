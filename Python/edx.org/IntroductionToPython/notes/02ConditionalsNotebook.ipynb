{
 "cells": [
  {
   "cell_type": "markdown",
   "metadata": {},
   "source": [
    "#   Conditionals NoteBook"
   ]
  },
  {
   "cell_type": "markdown",
   "metadata": {},
   "source": [
    "## Conditionals\n",
    "\n",
    "Conditionals allow the program to make decisions.\n",
    "\n",
    "like the program has the choice between taking the left road or right road based upon certain conditions.\n",
    "\n",
    "`If rain on left road take right`\n",
    "`elif rain on right road take left`\n",
    "`else go straight forward`\n",
    "\n",
    "conditionals are built within Python are a set of 'operators' that can be used to ask mathematical questions.\n",
    "\n",
    "`>` denotes greater than<br>\n",
    "`>=` denotes great than or equal to<br>\n",
    "\n",
    "`<` denotes less than<br>\n",
    "`<=` denotes less than or equal to<br>\n",
    "`!=` denotes not equal to<br>\n",
    "`==` denotes equals do notice the double equal sign ! A single equal sign would assign a value to a variable, while doubble equal signs are used to compare variables or values.\n",
    "\n",
    "Conditional statements comapres a left or a right-hand term.\n",
    "\n",
    "From the code below, notice how<br>\n",
    "the program takes the input of the user<br>\n",
    "for both **x** & **y**, casting them as<br>\n",
    "an integer and saving them into their respective variables.<br>\n",
    "Then, the `if` statement compares x and y. `if` the condition<br>\n",
    "of `x < y` is met, the `print` statement is executed.\n",
    "\n",
    "`if` statements use `bool` or boolean values (true or false) to<br>\n",
    "decide wheter or not to execute. `if` the statement of `x > y`<br>\n",
    "is truee, the complier will register it as `True` and execute the code<br>\n",
    "\n",
    "\n"
   ]
  },
  {
   "cell_type": "code",
   "execution_count": null,
   "metadata": {},
   "outputs": [],
   "source": [
    "##  Example 1.1\n",
    "\n",
    "#   Initializing variables\n",
    "x = int(input('What\\'s x :'))\n",
    "y = int(input('What\\'s y :'))\n",
    "\n",
    "#   If x is less than y\n",
    "if x < y:print('x is less than y')"
   ]
  },
  {
   "cell_type": "markdown",
   "metadata": {},
   "source": [
    "##  Control Flow, elif and else\n",
    "\n"
   ]
  },
  {
   "cell_type": "code",
   "execution_count": null,
   "metadata": {},
   "outputs": [],
   "source": [
    "##  Example 1.2\n",
    "\n",
    "#   Initializing variables\n",
    "x = int(input('What\\'s x :'))\n",
    "y = int(input('What\\'s y :'))\n",
    "\n",
    "#   If x is less than y\n",
    "if x < y: print('x is less than y')\n",
    "if x > y: print('x is greater than y')\n",
    "if x == y: print('x is equal to y')\n",
    "\n"
   ]
  },
  {
   "cell_type": "markdown",
   "metadata": {},
   "source": [
    "Notice in the program how the program are providing a series of `if` statement.\n",
    "\n",
    "1. `if` statement is ecaluated\n",
    "2. Then the second statement runs its evaulated\n",
    "3. Finally,, the last `if` statement runs its evaluation. This flow of decisions are called 'Control flow'\n",
    "\n",
    "The program above can be improved by not<br>\n",
    "asking three consecutive questions. After all<br>\n",
    "not every statement can have an outcome of 'True'<br>\n",
    "Notice how the use of `elif` allow the program to make less decisions.\n",
    "\n",
    "The `if` statement is evaulated, if the statement is<br>\n",
    "found to be true. all the `elif` statements does not<br>\n",
    "run at all. However if the `if` statement is evaulated<br>\n",
    "and found to be false, the first `elif` statement will be<br>\n",
    "evaulated.  If this is true, it will not evaulate the last<br>\n",
    "statement.\n"
   ]
  },
  {
   "cell_type": "code",
   "execution_count": null,
   "metadata": {},
   "outputs": [],
   "source": [
    "##  Example 1.2\n",
    "\n",
    "#   Initializing variables\n",
    "x = int(input('What\\'s x :'))\n",
    "y = int(input('What\\'s y :'))\n",
    "\n",
    "#   Conditional statements\n",
    "if x < y: print('x is less than y')\n",
    "elif x > y: print('x is greater than y')\n",
    "if x == y: print('x is equal to y')\n"
   ]
  },
  {
   "cell_type": "markdown",
   "metadata": {},
   "source": [
    "\n",
    "### or\n",
    "\n",
    "`or` allows the program to decide between one or more alternatives. f.eks we could improve the program a little bit more"
   ]
  },
  {
   "cell_type": "code",
   "execution_count": null,
   "metadata": {},
   "outputs": [],
   "source": [
    "##  Example 1.3\n",
    "\n",
    "#   Initializing variables\n",
    "x = int(input('What\\'s x :'))\n",
    "y = int(input('What\\'s y :'))\n",
    "\n",
    "#   Conditional statements\n",
    "if x > y or x < y: print('x is not equal to y')\n",
    "else: print('x is equal to y')\n"
   ]
  },
  {
   "cell_type": "markdown",
   "metadata": {},
   "source": [
    "Notice that the complexity is decreased and the efficiency of our code is increaed.\n",
    "\n",
    "at this point the code is great. However the design could be further improved."
   ]
  },
  {
   "cell_type": "code",
   "execution_count": null,
   "metadata": {},
   "outputs": [],
   "source": [
    "##  Example 1.4\n",
    "\n",
    "#   Initializing variables\n",
    "x = int(input('What\\'s x :'))\n",
    "y = int(input('What\\'s y :'))\n",
    "\n",
    "#   Conditional statements\n",
    "if x != y: print('x is not equal to y')\n",
    "else: print('x is equal to y')"
   ]
  },
  {
   "cell_type": "markdown",
   "metadata": {},
   "source": [
    "`or` has been removed entirely, and simply one question will have to be asked, very efficient.\n",
    "\n",
    "for the purpose of illustration. The code could be changed as follows"
   ]
  },
  {
   "cell_type": "code",
   "execution_count": null,
   "metadata": {},
   "outputs": [],
   "source": [
    "##  Example 1.5\n",
    "\n",
    "#   Initializing variables\n",
    "x = int(input('What\\'s x :'))\n",
    "y = int(input('What\\'s y :'))\n",
    "\n",
    "#   Conditional statements\n",
    "if x == y: print('x is equal to y')\n",
    "else: print('x is not equal to y')"
   ]
  },
  {
   "cell_type": "markdown",
   "metadata": {},
   "source": [
    "Notice that the `==` operator evaluates if what is on the left and right are equal to eachother. That use of double equal signs is very important. If there is only one equal sign, and aerror will likely be thrown by the complier as only one equal sign assigns a value to a variable."
   ]
  },
  {
   "cell_type": "markdown",
   "metadata": {},
   "source": [
    "### and\n",
    "\n",
    "`and` is similar to `or` and can be used withinn conditional statements.\n"
   ]
  },
  {
   "cell_type": "code",
   "execution_count": 2,
   "metadata": {},
   "outputs": [
    {
     "name": "stdout",
     "output_type": "stream",
     "text": [
      "A\n"
     ]
    }
   ],
   "source": [
    "##  Example 1.6\n",
    "\n",
    "#   Initializing an input\n",
    "score = int(input('Score :'))\n",
    "\n",
    "#   Initializing a conditional flow\n",
    "if score >= 90 and score <=100:print('A')\n",
    "elif score >= 80 and score < 90: print('B')\n",
    "elif score >= 70 and score < 80: print('C')\n",
    "elif score >= 60 and score < 70 print('D')\n",
    "else: print('F')"
   ]
  },
  {
   "cell_type": "markdown",
   "metadata": {},
   "source": [
    "Notive that executing the code will require an inpuut of the score to get a grade. However, notice how there are potentials for bugs.\n",
    "\n",
    "Typically we do not want to trust our user to input the correct information.``"
   ]
  },
  {
   "cell_type": "code",
   "execution_count": 7,
   "metadata": {},
   "outputs": [
    {
     "name": "stdout",
     "output_type": "stream",
     "text": [
      "F\n"
     ]
    }
   ],
   "source": [
    "##  Example 1.7\n",
    "\n",
    "#   Initializing an input\n",
    "score = int(input('Score :'))\n",
    "\n",
    "#   Initializing a conditional flow\n",
    "if 90 <= score <=100: print('A')\n",
    "elif 80 <= score < 90: print('B')\n",
    "elif 70 <= score < 80: print('C')\n",
    "elif 60 <= score < 70: print('D')\n",
    "else: print('F')"
   ]
  },
  {
   "cell_type": "markdown",
   "metadata": {},
   "source": [
    "Notice how Python allows operators and conditions to chain together in a way quite uncommon to other programming languages."
   ]
  },
  {
   "cell_type": "code",
   "execution_count": null,
   "metadata": {},
   "outputs": [],
   "source": [
    "##  Example 1.8\n",
    "\n",
    "#   Initializing an input\n",
    "score = int(input('Score :'))\n",
    "\n",
    "#   Initializing a conditional flow\n",
    "if score >= 90: print('A')\n",
    "elif score >= 80: print('B')\n",
    "elif score >= 70: print('C')\n",
    "elif score >= 60: print('D')\n",
    "else: print('F')"
   ]
  },
  {
   "cell_type": "markdown",
   "metadata": {},
   "source": [
    "Notice how the program is improved by asking fewer questions. This makes the program easier to read and far more maintainable in the future.\n",
    "\n",
    "Python's documentation on [Control flow](https://docs.python.org/3/tutorial/controlflow.html)"
   ]
  },
  {
   "cell_type": "markdown",
   "metadata": {},
   "source": [
    "## Modulo\n",
    "\n",
    "In mathmatics parity refers to wheter a number<br>\n",
    "is either even or odd. The module `%` operator<br>\n",
    "in programming allows one to see if two numbers<<br>>\n",
    "divide evenly or divide and have a reminder.<br>\n",
    "\n",
    "4 % 2 would result in zero, because it evenly<br>\n",
    "divides. However 3 % 2 does not divide evenly<br>\n",
    "and would result in a number other than zero."
   ]
  },
  {
   "cell_type": "code",
   "execution_count": null,
   "metadata": {},
   "outputs": [],
   "source": [
    "#  Example 1.8\n",
    "\n",
    "#   Initializing an input\n",
    "x = int(input('What\\'s x? :'))\n",
    "\n",
    "#   Calculate using a module\n",
    "if x % 2 == 0:\n",
    "    print('Even')\n",
    "else:\n",
    "    print('Odd')\n",
    "\n",
    "#   Notice how the users can type any number from 1 or greater\n",
    "#   to see if its even or odd"
   ]
  },
  {
   "cell_type": "markdown",
   "metadata": {},
   "source": [
    "##  Creating a Own Parity Function\n",
    "\n",
    "As we talked about in Lecture 0, it would be usefull to create a function.\n",
    "\n",
    "We can create a function to check whether a number is even or odd."
   ]
  },
  {
   "cell_type": "code",
   "execution_count": 8,
   "metadata": {},
   "outputs": [
    {
     "name": "stdout",
     "output_type": "stream",
     "text": [
      "Even\n"
     ]
    }
   ],
   "source": [
    "#  Example 1.8\n",
    "\n",
    "#   Creating a function to call Even or odd\n",
    "def main():\n",
    "\n",
    "\n",
    "    #   Initializing an input\n",
    "    x = int(input('What\\'s x? :'))\n",
    "\n",
    "    #   Calculate using a module\n",
    "    if EvenOrOdd(x):\n",
    "        print('Even')\n",
    "    else:\n",
    "        print('Odd')\n",
    "\n",
    "#   Creating a function to calculate the input\n",
    "def EvenOrOdd(n):\n",
    "\n",
    "    #   Can the argument be devided on 2?\n",
    "    if n % 2 == 0: return True\n",
    "    else: return False\n",
    "\n",
    "main()"
   ]
  },
  {
   "cell_type": "markdown",
   "metadata": {},
   "source": [
    "Notice that one reason the `if` statement in `EvenOrOdd(x)` works, even though there is no operator there. This is because the function returns a `bool`, True or False. Back to the main function. The `if` statement simply evaluates wheter or not `EvenOrOdd` of `x` is true or false.\n",
    "\n",
    "##  Pythonic\n",
    "\n",
    "In the programming world, there are types of programming that are called `Pythonic` in nature. That is, there are ways to program that are somtimes only seen in Python programming. Consider the following revision to the program"
   ]
  },
  {
   "cell_type": "code",
   "execution_count": null,
   "metadata": {},
   "outputs": [],
   "source": [
    "#  Example 1.9\n",
    "\n",
    "#   Creating a function to call Even or odd\n",
    "def main():\n",
    "\n",
    "\n",
    "    #   Initializing an input\n",
    "    x = int(input('What\\'s x? :'))\n",
    "\n",
    "    #   Calculate using a module\n",
    "    if EvenOrOdd(x):\n",
    "        print('Even')\n",
    "    else:\n",
    "        print('Odd')\n",
    "\n",
    "    return\n",
    "\n",
    "#   Creating a function to calculate the input\n",
    "def EvenOrOdd(n):\n",
    "\n",
    "    #   Can the argument be devided on 2?\n",
    "    return True if n % 2 == 0 else False\n",
    "\n",
    "main()"
   ]
  },
  {
   "cell_type": "markdown",
   "metadata": {},
   "source": [
    "Notice the retunr statement of `EvenOrOdd` is almost like a sentence in English. This is a unique way of coding which is only seen in Python.\n",
    "\n",
    "We can futher revise the code and make it more and more readable."
   ]
  },
  {
   "cell_type": "code",
   "execution_count": null,
   "metadata": {},
   "outputs": [],
   "source": [
    "#  Example 1.9\n",
    "\n",
    "#   Creating a function to call Even or odd\n",
    "def main():\n",
    "\n",
    "\n",
    "    #   Initializing an input\n",
    "    x = int(input('What\\'s x? :'))\n",
    "\n",
    "    #   Calculate using a module\n",
    "    if EvenOrOdd(x):\n",
    "        print('Even')\n",
    "    else:\n",
    "        print('Odd')\n",
    "\n",
    "    return\n",
    "\n",
    "#   Creating a function to calculate the input\n",
    "def EvenOrOdd(n):\n",
    "    return n % 2 == 0\n",
    "\n",
    "main()"
   ]
  },
  {
   "cell_type": "markdown",
   "metadata": {},
   "source": [
    "The program will evaluate what is happening within the `n % 2 == 0` as either true or false and simply return that to the main function."
   ]
  },
  {
   "cell_type": "markdown",
   "metadata": {},
   "source": [
    "##  Summuary\n",
    "\n",
    "In the lecture there has been a discussion about\n",
    "\n",
    "- Conditionals :\n",
    "-   *   If Statments\n",
    "-   *   Control flow elif and else\n",
    "-   * Or, and, modulo, creating a function and Pythonic coding."
   ]
  }
 ],
 "metadata": {
  "kernelspec": {
   "display_name": "Python 3.10.5 64-bit",
   "language": "python",
   "name": "python3"
  },
  "language_info": {
   "codemirror_mode": {
    "name": "ipython",
    "version": 3
   },
   "file_extension": ".py",
   "mimetype": "text/x-python",
   "name": "python",
   "nbconvert_exporter": "python",
   "pygments_lexer": "ipython3",
   "version": "3.10.5"
  },
  "orig_nbformat": 4,
  "vscode": {
   "interpreter": {
    "hash": "949777d72b0d2535278d3dc13498b2535136f6dfe0678499012e853ee9abcab1"
   }
  }
 },
 "nbformat": 4,
 "nbformat_minor": 2
}
