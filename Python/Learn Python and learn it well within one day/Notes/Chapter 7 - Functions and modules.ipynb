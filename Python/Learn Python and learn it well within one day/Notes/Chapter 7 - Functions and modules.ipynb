{
 "cells": [
  {
   "cell_type": "markdown",
   "metadata": {},
   "source": [
    "#   Chapter 7 - Function & Modules Notebook"
   ]
  },
  {
   "cell_type": "markdown",
   "metadata": {},
   "source": [
    "## 7.1 What are functions?\n",
    "pre written codes which perfomrs a certain task. \n",
    "\n",
    "Can be a part of a class or stand alone\n",
    "Some requires data to perform a certain task called Arguments. \n",
    "passes in the function in the parenthese ((required)arg, (required)arg, (1 optional)*arg, (optionals)**kward)"
   ]
  },
  {
   "cell_type": "markdown",
   "metadata": {},
   "source": [
    "##  7.2 Defining a own function\n",
    "\n",
    "function can be defined by \n",
    "def functionName():\n",
    "    return\n",
    "\n",
    "**Def** \n",
    "    tells the program, the intended code from the next line is a part of the function\n",
    "    \n",
    "**return**\n",
    "tells the program to return an answer from the function, when its executed the function will exit\n",
    "if function doesnt need to return a value simply return or return none\n",
    "\n",
    "strings, numbers and variable can be declared before assigned to the ()"
   ]
  },
  {
   "cell_type": "markdown",
   "metadata": {},
   "source": [
    "##  7.4 Variable Scope\n",
    "Variable scope is a conscept for variables defined with-in a function (local variable)\n",
    "Can only be acsessed with-in the function\n",
    "\n",
    "Variable which is defined outside a function is a global variable\n",
    "Can be accsessed every where\n",
    "\n",
    "Global variables can be changed with-in the function "
   ]
  },
  {
   "cell_type": "markdown",
   "metadata": {},
   "source": [
    "##  7.4 Default parameters\n",
    "a defined function can have default values such as (a,b,c = 5 ) a, b, c, is defined as 5\n",
    "\n"
   ]
  },
  {
   "cell_type": "markdown",
   "metadata": {},
   "source": [
    "##  7.5 Variable Length Argument List\n",
    "\n",
    "When we're not sure if there is more than one assignment to pass, there is a * def function(*args) to pass x numbers\n",
    "remember to use a loop inside, its passed as a list\n",
    "    \n",
    ">   formal argument = var\n",
    ">    non-keyworded argument = *var\n",
    ">    keyworded argument = **var\n"
   ]
  },
  {
   "cell_type": "markdown",
   "metadata": {},
   "source": [
    "#   7.6 Importing modules\n",
    "Python has a large number of built-in functions. These functions are saved in files known as modules. fuctionfiles.py - modules\n",
    "    \n",
    "import moduleName\n",
    "Imports the whole module, but modulename.function has to be used\n",
    "modules can be imported as keyword (import random as r)\n",
    "\n",
    "from module import function. \n",
    "Imports spesific functions\n",
    "    \n",
    "importing modules from another folder.\n",
    "import sys\n",
    "if 'C:\\\\MyPythonModules' not in sys.path: sys.path.append('C:\\\\MyPythonModules')"
   ]
  },
  {
   "cell_type": "markdown",
   "metadata": {},
   "source": [
    "#   7.7 Creating our Own Module\n",
    "\n",
    "    Save the file with .py extentsion, put it in the same folder as the Python file you're importing from"
   ]
  },
  {
   "cell_type": "code",
   "execution_count": null,
   "metadata": {},
   "outputs": [],
   "source": []
  }
 ],
 "metadata": {
  "language_info": {
   "name": "python"
  },
  "orig_nbformat": 4
 },
 "nbformat": 4,
 "nbformat_minor": 2
}
