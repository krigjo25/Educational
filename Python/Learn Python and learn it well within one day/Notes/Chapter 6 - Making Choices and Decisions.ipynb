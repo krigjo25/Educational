{
 "cells": [
  {
   "cell_type": "markdown",
   "metadata": {},
   "source": [
    "#   Chapter 6 - Making Choices and Decisions\n",
    "Looking at the control flow tools such as \n",
    "\n",
    "**if**\n",
    "Evaluates if a certain condition is met\n",
    "\n",
    "**for**\n",
    "Execute statements untill there is nothing to execute\n",
    "\n",
    "**while**\n",
    "While A is True, Execute.\n",
    "\n",
    "**try and except**\n",
    "Determinds what the program should do when an error occurs."
   ]
  },
  {
   "cell_type": "markdown",
   "metadata": {},
   "source": [
    "## 6.1 Conditon statements\n",
    "\n",
    "Comparison operators :\n",
    "\n",
    "| operator | comments |\n",
    "|:-------:| :--------: |\n",
    "| == | Equals |\n",
    "| != | Not equal|\n",
    "| > | Greater than |\n",
    "| < | Smaller than |\n",
    "| >= | Greater than or equal to |\n",
    "| <= | Smaller than or equal to |\n",
    "| and | Combines multiple conditions, returning true if all condtions is met |\n",
    "| or | Combines multiple conditions, returning true if atleast one condition is met |\n",
    "| not | Combines multiple conditions, returning true if the condition is false |\n"
   ]
  },
  {
   "cell_type": "code",
   "execution_count": 3,
   "metadata": {},
   "outputs": [
    {
     "name": "stdout",
     "output_type": "stream",
     "text": [
      "False\n",
      "True\n",
      "False\n",
      "True\n",
      "False\n",
      "True\n",
      "5\n"
     ]
    }
   ],
   "source": [
    "a = 5\n",
    "b = 6\n",
    "\n",
    "# Returning a boolean value\n",
    "# is a greater than b?\n",
    "c = a > b\n",
    "print(c)\n",
    "\n",
    "# is a less than b?\n",
    "c = a < b\n",
    "print(c)\n",
    "\n",
    "# is a equal than b?\n",
    "c = a == b\n",
    "print(c)\n",
    "\n",
    "# is a  not equal to b?\n",
    "c = a != b\n",
    "print(c)\n",
    "\n",
    "# is a greater or equal to b?\n",
    "c = a >= b\n",
    "print(c)\n",
    "\n",
    "# is a less than or equal than b?\n",
    "c = a <= b\n",
    "print(c)\n",
    "\n",
    "# a or b?\n",
    "c = a or b\n",
    "print(c) "
   ]
  },
  {
   "cell_type": "markdown",
   "metadata": {},
   "source": [
    "## 6.2 If Statements\n",
    "\n",
    "Most commonly used control flow statement. Checking if a condition is met and perform the appropirate action based on the result of the evaluation. \n",
    "If conditon 1 is met: \n",
    "    do A\n",
    "\n",
    "elif condition is met:\n",
    "    do B\n",
    "else:\n",
    "    do C\n",
    "\n",
    "elif stands for \"else if\" "
   ]
  },
  {
   "cell_type": "code",
   "execution_count": 4,
   "metadata": {},
   "outputs": [
    {
     "name": "stdout",
     "output_type": "stream",
     "text": [
      "1 is neither greater or equal to 2\n"
     ]
    }
   ],
   "source": [
    "#   Initializing the variables to compare\n",
    "a = 1\n",
    "b = 2\n",
    "c = 3\n",
    "d = 4\n",
    "\n",
    "#   Checking if the condition is met \n",
    "if a > b:\n",
    "    print(f'{a} is greater than {b}')\n",
    "\n",
    "elif a >= b:\n",
    "    print(f'{a} is greater or equal to {b}')\n",
    "\n",
    "elif a == b:\n",
    "    print(f'{a} and {b} is equal')\n",
    "\n",
    "else:\n",
    "    print(f'{a} is neither greater or equal to {b}')\n"
   ]
  },
  {
   "cell_type": "markdown",
   "metadata": {},
   "source": [
    "## 6.3 Inline if statement\n",
    "\n",
    "Simple form of an if statement, more convinient if there is only a simple tast to perform.\n",
    "Do task a if condition is true else do Task B\n"
   ]
  },
  {
   "cell_type": "code",
   "execution_count": 8,
   "metadata": {},
   "outputs": [
    {
     "name": "stdout",
     "output_type": "stream",
     "text": [
      "1\n"
     ]
    }
   ],
   "source": [
    "#   Initializing the variables to compare\n",
    "num = input('Type in an integer.:')\n",
    "a = 1 if num == '1' else 13\n",
    "\n",
    "print(a)\n"
   ]
  },
  {
   "cell_type": "markdown",
   "metadata": {},
   "source": [
    "## 6.4 For loop\n",
    "\n",
    "Executes statements untill there is nothing else to execute execute\n",
    "\n",
    "Can be used with :\n",
    "    list, tuples and dictionaries\n",
    "    \n",
    "Bultin functions\n",
    "    enumerate(), \n",
    "    .items(),\n",
    "    range()  \n",
    "\n",
    "**Tip**\n",
    "Unless otherwise stated, it starts from zero.\n",
    "\n",
    "looping through a variable text looping through a sequence of text\n",
    "\n"
   ]
  },
  {
   "cell_type": "markdown",
   "metadata": {},
   "source": [
    "## 6.5 While loop\n",
    "\n",
    "While the condition is true do A\n",
    "\n"
   ]
  },
  {
   "cell_type": "markdown",
   "metadata": {},
   "source": [
    "## 6.6 Break\n",
    "\n",
    "Exit the loop when condtion a is met.\n",
    "if not used the statement will continue untill another statement is met\n"
   ]
  },
  {
   "cell_type": "markdown",
   "metadata": {},
   "source": [
    "## 6.7 Continue\n",
    "\n",
    "Opposite of break, but skips selected variable when a certain condition is met"
   ]
  },
  {
   "cell_type": "markdown",
   "metadata": {},
   "source": [
    "## 6.8 Try, except\n",
    "\n",
    "Controls how a program proceeds when an error occours."
   ]
  }
 ],
 "metadata": {
  "kernelspec": {
   "display_name": "Python 3.10.5 64-bit (windows store)",
   "language": "python",
   "name": "python3"
  },
  "language_info": {
   "codemirror_mode": {
    "name": "ipython",
    "version": 3
   },
   "file_extension": ".py",
   "mimetype": "text/x-python",
   "name": "python",
   "nbconvert_exporter": "python",
   "pygments_lexer": "ipython3",
   "version": "3.10.5"
  },
  "orig_nbformat": 4,
  "vscode": {
   "interpreter": {
    "hash": "8260862554d27b7d0ec26f530052bd6c544de7b0084aa89a3e7dadc962908b17"
   }
  }
 },
 "nbformat": 4,
 "nbformat_minor": 2
}
