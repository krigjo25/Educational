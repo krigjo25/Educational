{
 "cells": [
  {
   "cell_type": "markdown",
   "metadata": {},
   "source": [
    "#   Chapter 6 - Making Choices and Decisions"
   ]
  },
  {
   "cell_type": "markdown",
   "metadata": {},
   "source": [
    "Looking at the control flow  such as if, for, while, try and except\n",
    "\n",
    "## 6.1 Conditon statements\n",
    "Comparison operators :\n",
    ">   not equal !=\n",
    ">   Greater than >\n",
    ">   Smaller than <\n",
    ">   Greater than or equal to >=\n",
    ">   Smaller than or equal to <=\n",
    "\n",
    "## 6.2 If Statements\n",
    "Allows the program to evaluate if a certan condition is met\n",
    "\n",
    "If conditon 1 is met: \n",
    "    do A\n",
    "\n",
    "elif condition is met:\n",
    "    do B\n",
    "else:\n",
    "    do C\n",
    "\n",
    "## 6.3 Inline if statement\n",
    "\n",
    "Simple form of an if statement, more convinient if there is only a simple tast to perform.\n",
    "Do task a if condition is true else do Task B\n",
    "\n",
    "## 6.4 For loop\n",
    "\n",
    "Executes statements untill there is nothing else to execute execute\n",
    "\n",
    "Can be used with :\n",
    "    list, tuples and dictionaries\n",
    "    \n",
    "Bultin functions\n",
    "    enumerate(), \n",
    "    .items(),\n",
    "    range()  \n",
    "\n",
    "**Tip**\n",
    "Unless otherwise stated, it starts from zero.\n",
    "\n",
    "looping through a variable text looping through a sequence of text\n",
    "\n",
    "## 6.5 While loop\n",
    "\n",
    "While the condition is true do A\n",
    "\n",
    "## 6.6 Break\n",
    "\n",
    "Exit the loop when condtion a is met.\n",
    "if not used the statement will continue untill another statement is met\n",
    "\n",
    "## 6.7 Continue\n",
    "\n",
    "Opposite of break, but skips selected variable when a certain condition is met\n",
    "\n",
    "## 6.8 Try, except\n",
    "\n",
    "Controls how a program proceeds when an error occours."
   ]
  },
  {
   "cell_type": "code",
   "execution_count": null,
   "metadata": {},
   "outputs": [],
   "source": []
  }
 ],
 "metadata": {
  "language_info": {
   "name": "python"
  },
  "orig_nbformat": 4
 },
 "nbformat": 4,
 "nbformat_minor": 2
}
