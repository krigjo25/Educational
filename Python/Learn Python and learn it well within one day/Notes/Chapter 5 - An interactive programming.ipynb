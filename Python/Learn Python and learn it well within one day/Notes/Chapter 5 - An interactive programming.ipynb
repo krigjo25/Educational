{
 "cells": [
  {
   "cell_type": "markdown",
   "metadata": {},
   "source": [
    "# Chapter 5 - An interactive programming Notebook"
   ]
  },
  {
   "cell_type": "markdown",
   "metadata": {},
   "source": [
    "## 5.1 Input()\n",
    "\n",
    "## 5.2  Print()\n",
    "- can have multiple agruments,\n",
    "- using triple quotes, will span the message over multiple lines.\n",
    "\n",
    "## 5.3 Triple quotes\n",
    "\n",
    "\n",
    "\n",
    "## 5.4 Escape characters\n",
    "- Tab \\t(ab), \\\\, \\\", \\', \\n(ew line) (r not\\tab)\n"
   ]
  },
  {
   "cell_type": "code",
   "execution_count": 1,
   "metadata": {},
   "outputs": [],
   "source": [
    "\n",
    "#   Initializing variables\n",
    "name = input(' Please insert a name : ')\n",
    "age = input(f'insert a age, {name}? :')\n",
    "\n",
    "print (f'5.0 An interactive program:\\n Inserted name : {name}.\\nInserdet age {age}.\\n')\n",
    "\n",
    "#   Using Escape Characters\n",
    "\n",
    "print('\\tHello World (using tabular)\\nThis is a newline \\n\\nThis is doubble newline \\ncreating a backslash \"\\\\\" \\n \\r')"
   ]
  }
 ],
 "metadata": {
  "kernelspec": {
   "display_name": "Python 3.10.5 64-bit",
   "language": "python",
   "name": "python3"
  },
  "language_info": {
   "codemirror_mode": {
    "name": "ipython",
    "version": 3
   },
   "file_extension": ".py",
   "mimetype": "text/x-python",
   "name": "python",
   "nbconvert_exporter": "python",
   "pygments_lexer": "ipython3",
   "version": "3.10.5"
  },
  "orig_nbformat": 4,
  "vscode": {
   "interpreter": {
    "hash": "b6213e0af081d56db034f795ff49d96980936e2ae540dda57fc6c3cbea6a5fc9"
   }
  }
 },
 "nbformat": 4,
 "nbformat_minor": 2
}
