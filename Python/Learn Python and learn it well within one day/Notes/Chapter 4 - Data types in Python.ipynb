{
 "cells": [
  {
   "cell_type": "markdown",
   "metadata": {},
   "source": [
    "# Data types in Python Notebook"
   ]
  },
  {
   "cell_type": "markdown",
   "metadata": {},
   "source": [
    "##   Chapter 4 - Data types in Python.\n",
    "\n",
    "Basic data types integer, float and string\n",
    "advanced data types : list, tuple and dictionary"
   ]
  },
  {
   "cell_type": "markdown",
   "metadata": {},
   "source": [
    "### 4.1 Integers\n",
    "\n",
    "Numbers with out decimal places eg. -5 - 5\n",
    "declaration variableName = initial value\n",
    "    \n",
    "e.g \n",
    "-3, -2 -1, 0, 1, 2, 3\n",
    "e.g mobile numbers equals integers.\n",
    "\n",
    "\n"
   ]
  },
  {
   "cell_type": "code",
   "execution_count": 5,
   "metadata": {},
   "outputs": [
    {
     "name": "stdout",
     "output_type": "stream",
     "text": [
      "Integers : age:20\n",
      " Mobile number:12345678\n"
     ]
    }
   ],
   "source": [
    "age = 20\n",
    "num = 12345678\n",
    "print(f'Integers : age:{age}\\n Mobile number:{num}')"
   ]
  },
  {
   "cell_type": "markdown",
   "metadata": {},
   "source": [
    "### 4.2 Float\n",
    "Numbers with decimal parts as 3.14 etc.\n",
    "Declares in the same way as integers."
   ]
  },
  {
   "cell_type": "code",
   "execution_count": 6,
   "metadata": {},
   "outputs": [
    {
     "name": "stdout",
     "output_type": "stream",
     "text": [
      "floated numbers : \n",
      " height: 1.82cm\n",
      " weight: 67.2kg\n"
     ]
    }
   ],
   "source": [
    "height, weight = 1.82, 67.2\n",
    "print(f'floated numbers : \\n height: {height}cm\\n weight: {weight}kg')"
   ]
  },
  {
   "cell_type": "markdown",
   "metadata": {},
   "source": [
    "### 4.3 Strings\n",
    "strings refers to  text. both single and double quotes can be used as a string. ('', \"\")\n",
    "concatenate sign (+) can be used to combine multiple strings\n",
    "\n",
    "Python has multiple functions to manipulate strings like **upper()**, **lower()** \n",
    "\n",
    "upper() method to manipulate the string to capitalize all the letters in a string.\n",
    "\n",
    "lower() a method to manipulate the string to lower all the letters in a string.\n",
    "\n",
    "capitalizee() a method to manipulate the string to capitalize the first letter a string.\n",
    "\n",
    "#### Formated strings\n",
    "\n",
    "Strings can be formated using the % operator. It gives you a grater control over how you want your string to be displayed and stored. \n",
    "\n",
    "The syntax for using the % operator\n",
    "print('text to be formated') % (var, var1, var2)\n",
    "\n",
    "The parentheses behind the % sign is actually known as a tuple. These placeholders will be replaced with the variable *brand*, the value *1299* & the variable *exr*\n",
    "\n",
    "%s formatter is used to represent a string\n",
    "%d formatter is used to represent an integer, can add an integer between % d to represent the length\n",
    "%f formatter is used to format floats (numbers with decimals). we formated it as %4.2f (length, decimalplaces)\n",
    "\n"
   ]
  },
  {
   "cell_type": "code",
   "execution_count": 22,
   "metadata": {},
   "outputs": [
    {
     "name": "stdout",
     "output_type": "stream",
     "text": [
      "HELLO WORLD\n",
      "\n",
      "hello world\n",
      "\n",
      "Hello world\n",
      "\n",
      "The price of this Android phone is 1299 EUR and the exchange rate is 1.23 USD to 1 EUR\n"
     ]
    }
   ],
   "source": [
    "#   Initializing variables\n",
    "txt = 'Hello World\\n'\n",
    "\n",
    "txt = txt.upper()\n",
    "print(txt)\n",
    "\n",
    "txt = txt.lower()\n",
    "print(txt)\n",
    "\n",
    "txt = txt.capitalize()\n",
    "print(txt)\n",
    "\n",
    "brand, exr = 'Android', 1.2345\n",
    "msg = \"The price of this %s phone is %d EUR and the exchange rate is %4.2f USD to 1 EUR\" % (brand, 1299, exr)\n",
    "print(msg)"
   ]
  },
  {
   "cell_type": "markdown",
   "metadata": {},
   "source": [
    "### 4.4 Type Casting in Python\n",
    "    Converting string into integers, integers into string etc\n",
    "    bultin function : **int()**, **str()**,**float()**\n",
    "    int(\"1\") converts into 1, but int(\"1.2\") doesnt work neither does int(\"str\")"
   ]
  },
  {
   "cell_type": "markdown",
   "metadata": {},
   "source": [
    "### 4.5 List\n",
    "    Refers to a collection of dataq which are normally related. They are ordered\n",
    "    e.g \n",
    "        uAlias = ['jhon', 'Jake', 'Timmb']\n",
    "        uAge = [21,23,24,51,53]\n",
    "\n",
    "    Can be accsessed using index \n",
    "    e.g \n",
    "    uAlias[0]\n",
    "\n",
    "    Notation uAlias[start:end] is known as slice, includes a third number known as stepper uAlias[start:end:Stepper]\n",
    "    Slices has a default value whihch is zero\n",
    "\n",
    "    bult-in functions :\n",
    "        .append() - Add one more to the list,\n",
    "        del list[index] - remove one from the list.\n",
    "\n"
   ]
  },
  {
   "cell_type": "markdown",
   "metadata": {},
   "source": [
    "### 4.6 Tuples\n",
    "    Declaring a tuple : tupleName = ()\n",
    "    ex :\n",
    "        monthsOfYear = (\"Jan\", \"Feb\", \"Mar\", \"Apr\", \"May\", \"Jun\", \"Jul\", \"Aug\", \"Sep\", \"Oct\", \"Nov\", \"Dec\")\n",
    "\n",
    "    Same as list, beside it can NOT be altered when the tuple is set.\n",
    "\n"
   ]
  },
  {
   "cell_type": "markdown",
   "metadata": {},
   "source": [
    "### 4.7 Dictonary\n",
    "        Dictionary : dictionaryName {key:data} / dict(key:data)\n",
    "                                        - keys are requered to accsess the information, keys can be strings, integers\n",
    "\n",
    "    A collection of related data PAIRS\n",
    "    Set same as dicitonary besides the key, and they're not ordered.\n",
    "    acsessing a dictonary dictName[key]\n",
    "    adding values to a dictonary dictName['key'] = value\n",
    "    removing values from a dictonary del dictName[key]"
   ]
  },
  {
   "cell_type": "code",
   "execution_count": null,
   "metadata": {},
   "outputs": [],
   "source": []
  }
 ],
 "metadata": {
  "kernelspec": {
   "display_name": "Python 3.10.5 64-bit (windows store)",
   "language": "python",
   "name": "python3"
  },
  "language_info": {
   "codemirror_mode": {
    "name": "ipython",
    "version": 3
   },
   "file_extension": ".py",
   "mimetype": "text/x-python",
   "name": "python",
   "nbconvert_exporter": "python",
   "pygments_lexer": "ipython3",
   "version": "3.10.5"
  },
  "orig_nbformat": 4,
  "vscode": {
   "interpreter": {
    "hash": "8260862554d27b7d0ec26f530052bd6c544de7b0084aa89a3e7dadc962908b17"
   }
  }
 },
 "nbformat": 4,
 "nbformat_minor": 2
}
