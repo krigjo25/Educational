{
 "cells": [
  {
   "cell_type": "markdown",
   "metadata": {},
   "source": [
    "# Data types in Python Notebook"
   ]
  },
  {
   "cell_type": "markdown",
   "metadata": {},
   "source": [
    "##   Chapter 4 - Data types in Python.\n",
    "\n",
    "Basic data types integer, float and string\n",
    "advanced data types : list, tuple and dictionary"
   ]
  },
  {
   "cell_type": "markdown",
   "metadata": {},
   "source": [
    "### 4.1 Integers\n",
    "\n",
    "Numbers with out decimal places eg. -5 - 5\n",
    "declaration variableName = initial value\n",
    "    \n",
    "e.g \n",
    "-3, -2 -1, 0, 1, 2, 3\n",
    "e.g mobile numbers equals integers.\n",
    "\n",
    "\n"
   ]
  },
  {
   "cell_type": "code",
   "execution_count": 5,
   "metadata": {},
   "outputs": [
    {
     "name": "stdout",
     "output_type": "stream",
     "text": [
      "Integers : age:20\n",
      " Mobile number:12345678\n"
     ]
    }
   ],
   "source": [
    "age = 20\n",
    "num = 12345678\n",
    "print(f'Integers : age:{age}\\n Mobile number:{num}')"
   ]
  },
  {
   "cell_type": "markdown",
   "metadata": {},
   "source": [
    "### 4.2 Float\n",
    "Numbers with decimal parts as 3.14 etc.\n",
    "Declares in the same way as integers."
   ]
  },
  {
   "cell_type": "code",
   "execution_count": 6,
   "metadata": {},
   "outputs": [
    {
     "name": "stdout",
     "output_type": "stream",
     "text": [
      "floated numbers : \n",
      " height: 1.82cm\n",
      " weight: 67.2kg\n"
     ]
    }
   ],
   "source": [
    "height, weight = 1.82, 67.2\n",
    "print(f'floated numbers : \\n height: {height}cm\\n weight: {weight}kg')"
   ]
  },
  {
   "cell_type": "markdown",
   "metadata": {},
   "source": [
    "### 4.3 Strings\n",
    "strings refers to  text. both single and double quotes can be used as a string. ('', \"\")\n",
    "concatenate sign (+) can be used to combine multiple strings\n",
    "\n",
    "Python has multiple functions to manipulate strings like **upper()**, **lower()** \n",
    "\n",
    "upper() method to manipulate the string to capitalize all the letters in a string.\n",
    "\n",
    "lower() a method to manipulate the string to lower all the letters in a string.\n",
    "\n",
    "capitalizee() a method to manipulate the string to capitalize the first letter a string.\n",
    "\n",
    "#### Formated strings\n",
    "\n",
    "Strings can be formated using the % operator. It gives you a grater control over how you want your string to be displayed and stored. \n",
    "\n",
    "The syntax for using the % operator\n",
    "print('text to be formated') % (var, var1, var2)\n",
    "\n",
    "The parentheses behind the % sign is actually known as a tuple. These placeholders will be replaced with the variable *brand*, the value *1299* & the variable *exr*\n",
    "\n",
    "%s formatter is used to represent a string\n",
    "%d formatter is used to represent an integer, can add an integer between % d to represent the length\n",
    "%f formatter is used to format floats (numbers with decimals). we formated it as %4.2f (length, decimalplaces)\n",
    "\n"
   ]
  },
  {
   "cell_type": "code",
   "execution_count": 22,
   "metadata": {},
   "outputs": [
    {
     "name": "stdout",
     "output_type": "stream",
     "text": [
      "HELLO WORLD\n",
      "\n",
      "hello world\n",
      "\n",
      "Hello world\n",
      "\n",
      "The price of this Android phone is 1299 EUR and the exchange rate is 1.23 USD to 1 EUR\n"
     ]
    }
   ],
   "source": [
    "#   Initializing variables\n",
    "txt = 'Hello World\\n'\n",
    "\n",
    "txt = txt.upper()\n",
    "print(txt)\n",
    "\n",
    "txt = txt.lower()\n",
    "print(txt)\n",
    "\n",
    "txt = txt.capitalize()\n",
    "print(txt)\n",
    "\n",
    "brand, exr = 'Android', 1.2345\n",
    "msg = \"The price of this %s phone is %d EUR and the exchange rate is %4.2f USD to 1 EUR\" % (brand, 1299, exr)\n",
    "print(msg)"
   ]
  },
  {
   "cell_type": "markdown",
   "metadata": {},
   "source": [
    "### 4.4 Type Casting in Python\n",
    "\n",
    "Sometimes in the program its necessary for us to convert data types.\n",
    "There is 3 built-in functions which allow us to do type casting.\n",
    "\n",
    "In Python we can convert a integer into string with the builtin method **str()** \n",
    "and vice versa with the builtin method **int()** which only accepts integers\n",
    "we can also convert an integer into a decimal value by using the **float()**\n",
    "    "
   ]
  },
  {
   "cell_type": "code",
   "execution_count": 3,
   "metadata": {},
   "outputs": [
    {
     "name": "stdout",
     "output_type": "stream",
     "text": [
      " Converting a Integer into a floated number\n",
      "1.0\n",
      "\n",
      " Converting a string into a integer\n",
      "1\n",
      " vice versa\n",
      "1\n",
      "\n"
     ]
    }
   ],
   "source": [
    "# Initializing variables\n",
    "v = 1\n",
    "v = float(v)\n",
    "print(f' Converting a Integer into a floated number\\n{v}\\n')\n",
    "\n",
    "msg = '1'\n",
    "\n",
    "v = int(msg)\n",
    "msg = str(v)\n",
    "print(f' Converting a string into a integer\\n{v}\\n vice versa\\n{msg}\\n')"
   ]
  },
  {
   "cell_type": "markdown",
   "metadata": {},
   "source": [
    "### 4.5 List\n",
    "\n",
    "Refers to a collection of data which are normally related. The list are ordered\n",
    "\n",
    "Can be accsessed using index \n",
    "\n",
    "\n",
    "Notation uname[start:end] is known as slice, includes a third number known as stepper uname[start:end:Stepper]\n",
    "Slices has a default value whihch is zero\n",
    "\n",
    "\n"
   ]
  },
  {
   "cell_type": "code",
   "execution_count": 9,
   "metadata": {},
   "outputs": [
    {
     "name": "stdout",
     "output_type": "stream",
     "text": [
      "printing name list['Jake', 'Raymond', 'Rosa'] & age list[21, 23, 24, 51, 53]\n",
      "\n",
      "Printing the index\n",
      "Jake\n",
      "\n",
      "Appended Amy to the list\n",
      "['Jake', 'Raymond', 'Rosa', 'Amy']\n",
      "\n"
     ]
    }
   ],
   "source": [
    "#   Initializing a list\n",
    "name = ['Jake', 'Raymond', 'Rosa']\n",
    "age = [21, 23, 24, 51, 53]\n",
    "\n",
    "print(f'printing name list{name} & age list{age}\\n')\n",
    "# Accsessing data using index\n",
    "x =name[0]\n",
    "\n",
    "print(f'Printing the index\\n{x}\\n')\n",
    "#   Slicing the list\n",
    "name[1:2]\n",
    "\n",
    "#   Adding values into the list\n",
    "name.append('Amy')\n",
    "print(f'Appended Amy to the list\\n{name}\\n')\n",
    "\n",
    "#   Deleting the list\n",
    "del name, age\n",
    "\n"
   ]
  },
  {
   "cell_type": "markdown",
   "metadata": {},
   "source": [
    "### 4.6 Tuples\n",
    "\n",
    "Tuples are the same as a list, besides it can NOT be altered, when the tuple is set.\n"
   ]
  },
  {
   "cell_type": "code",
   "execution_count": null,
   "metadata": {},
   "outputs": [],
   "source": [
    "#   Declare a tuple and assign values to the tuple\n",
    "monthsOfYear = (\"Jan\", \"Feb\", \"Mar\", \"Apr\", \"May\", \"Jun\", \"Jul\", \"Aug\", \"Sep\", \"Oct\", \"Nov\", \"Dec\")"
   ]
  },
  {
   "cell_type": "markdown",
   "metadata": {},
   "source": [
    "### 4.7 Dictonary\n",
    "        Dictionary : dictionaryName {key:data} / dict(key:data)\n",
    "                                        - keys are requered to accsess the information, keys can be strings, integers\n",
    "\n",
    "    A collection of related data PAIRS\n",
    "    Set same as dicitonary besides the key, and they're not ordered.\n",
    "    acsessing a dictonary dictName[key]\n",
    "    adding values to a dictonary dictName['key'] = value\n",
    "    removing values from a dictonary del dictName[key]"
   ]
  },
  {
   "cell_type": "code",
   "execution_count": null,
   "metadata": {},
   "outputs": [],
   "source": [
    "#   Declare a dictionary and assign value to it\n",
    "dictionary = {  'key':'Data',\n",
    "                0:0}"
   ]
  },
  {
   "cell_type": "code",
   "execution_count": null,
   "metadata": {},
   "outputs": [],
   "source": []
  }
 ],
 "metadata": {
  "kernelspec": {
   "display_name": "Python 3.10.5 64-bit",
   "language": "python",
   "name": "python3"
  },
  "language_info": {
   "codemirror_mode": {
    "name": "ipython",
    "version": 3
   },
   "file_extension": ".py",
   "mimetype": "text/x-python",
   "name": "python",
   "nbconvert_exporter": "python",
   "pygments_lexer": "ipython3",
   "version": "3.10.5"
  },
  "orig_nbformat": 4,
  "vscode": {
   "interpreter": {
    "hash": "b6213e0af081d56db034f795ff49d96980936e2ae540dda57fc6c3cbea6a5fc9"
   }
  }
 },
 "nbformat": 4,
 "nbformat_minor": 2
}
