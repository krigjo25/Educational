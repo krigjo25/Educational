{
 "cells": [
  {
   "cell_type": "markdown",
   "metadata": {},
   "source": [
    "# Data types in Python Notebook"
   ]
  },
  {
   "cell_type": "markdown",
   "metadata": {},
   "source": [
    "##   Chapter 4 - Data types in Python.\n",
    "\n",
    "Basic data types integer, float and string\n",
    "advanced data types : list, tuple and dictionary"
   ]
  },
  {
   "cell_type": "markdown",
   "metadata": {},
   "source": [
    "### 4.1 Integers\n",
    "\n",
    "Numbers with out decimal places eg. -5 - 5\n",
    "declaration variableName = initial value\n",
    "    \n",
    "e.g \n",
    "-3, -2 -1, 0, 1, 2, 3\n",
    "e.g mobile numbers equals integers.\n",
    "\n",
    "\n"
   ]
  },
  {
   "cell_type": "markdown",
   "metadata": {},
   "source": [
    "### 4.2 Float\n",
    "    Numbers with decimal parts as 3.14 etc.\n",
    "    same declaration as integers"
   ]
  },
  {
   "cell_type": "markdown",
   "metadata": {},
   "source": [
    "### 4.3 Strings\n",
    "    strings equals text ('', \"\")\n"
   ]
  },
  {
   "cell_type": "markdown",
   "metadata": {},
   "source": [
    "### 4.4 Type Casting in Python\n",
    "    Converting string into integers, integers into string etc\n",
    "    bultin function : int(), str(),float()\n",
    "    int(\"1\") converts into 1, but int(\"1.2\") doesnt work neither does int(\"str\")"
   ]
  },
  {
   "cell_type": "markdown",
   "metadata": {},
   "source": [
    "### 4.5 List\n",
    "    Refers to a collection of dataq which are normally related. They are ordered\n",
    "    e.g \n",
    "        uAlias = ['jhon', 'Jake', 'Timmb']\n",
    "        uAge = [21,23,24,51,53]\n",
    "\n",
    "    Can be accsessed using index \n",
    "    e.g \n",
    "    uAlias[0]\n",
    "\n",
    "    Notation uAlias[start:end] is known as slice, includes a third number known as stepper uAlias[start:end:Stepper]\n",
    "    Slices has a default value whihch is zero\n",
    "\n",
    "    bult-in functions :\n",
    "        .append() - Add one more to the list,\n",
    "        del list[index] - remove one from the list.\n",
    "\n"
   ]
  },
  {
   "cell_type": "markdown",
   "metadata": {},
   "source": [
    "### 4.6 Tuples\n",
    "    Declaring a tuple : tupleName = ()\n",
    "    ex :\n",
    "        monthsOfYear = (\"Jan\", \"Feb\", \"Mar\", \"Apr\", \"May\", \"Jun\", \"Jul\", \"Aug\", \"Sep\", \"Oct\", \"Nov\", \"Dec\")\n",
    "\n",
    "    Same as list, beside it can NOT be altered when the tuple is set.\n",
    "\n"
   ]
  },
  {
   "cell_type": "markdown",
   "metadata": {},
   "source": [
    "### 4.7 Dictonary\n",
    "        Dictionary : dictionaryName {key:data} / dict(key:data)\n",
    "                                        - keys are requered to accsess the information, keys can be strings, integers\n",
    "\n",
    "    A collection of related data PAIRS\n",
    "    Set same as dicitonary besides the key, and they're not ordered.\n",
    "    acsessing a dictonary dictName[key]\n",
    "    adding values to a dictonary dictName['key'] = value\n",
    "    removing values from a dictonary del dictName[key]"
   ]
  },
  {
   "cell_type": "code",
   "execution_count": null,
   "metadata": {},
   "outputs": [],
   "source": []
  }
 ],
 "metadata": {
  "language_info": {
   "name": "python"
  },
  "orig_nbformat": 4
 },
 "nbformat": 4,
 "nbformat_minor": 2
}
