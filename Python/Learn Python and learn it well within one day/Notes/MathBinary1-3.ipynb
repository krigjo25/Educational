{
 "cells": [
  {
   "cell_type": "markdown",
   "metadata": {},
   "source": [
    "#   Project Math and Binary Part 1  Notebook"
   ]
  },
  {
   "cell_type": "markdown",
   "metadata": {},
   "source": [
    "##  Gametasks.py\n",
    "\n",
    "is a module that contains three functions that perform certain tasks in our project these functions does not require any information about an instance or a class and are thus not written as apart of a class"
   ]
  },
  {
   "cell_type": "markdown",
   "metadata": {},
   "source": [
    "##   1.1 Print Game Instructions\n",
    "\n",
    "PrintInstructions() has one parameter called instructions and simply uses the built-in print() functionallity to print the value of instruction onto the display."
   ]
  },
  {
   "cell_type": "code",
   "execution_count": null,
   "metadata": {},
   "outputs": [],
   "source": [
    "def Instructions(inst):\n",
    "    return print(inst)"
   ]
  },
  {
   "cell_type": "markdown",
   "metadata": {},
   "source": [
    "##   1.2.1 Getting the user's score\n",
    "\n",
    "The second function is called GetScore(). This function accepts one parameter, **name**.\n",
    "\n",
    "The function opens a file called 'scores.txt' in 'r' mode.\n",
    "\n",
    "**scores.txt**<br>\n",
    "Name  HeistScore<br>\n",
    "Jake. J.P, 1<br>\n",
    "Raymond. J.H 2<br>\n",
    "Charles. B. 0<br>\n",
    "Amy. S.     1<br>\n",
    "Rosa. D.    1<br>\n",
    "Terry J.    1<br>\n",
    "Norm. S.    0<br>\n",
    "Micheal H.  0<br>\n",
    "\n",
    "\n",
    "The function reads the file line by line using a for loop\n",
    "Within the for loop, each line is split using the split function.\n",
    "and the result of the split function is stored in a list called content."
   ]
  },
  {
   "cell_type": "code",
   "execution_count": 53,
   "metadata": {},
   "outputs": [
    {
     "name": "stdout",
     "output_type": "stream",
     "text": [
      "-1\n"
     ]
    }
   ],
   "source": [
    "def GetScore(name):\n",
    "\n",
    "    #   Opening the text file\n",
    "    with open(f'scores.txt', 'r') as f:\n",
    "\n",
    "        #   Using a for loop to read the file line by line\n",
    "        for i in f:\n",
    "             \n",
    "            #   Splitting the content of the file\n",
    "            i = i.split(',')\n",
    "\n",
    "            #   Closing the file\n",
    "            f.close()                \n",
    "\n",
    "#   Calling the method\n",
    "GetScore('Micheal. S')\n",
    "    "
   ]
  },
  {
   "cell_type": "markdown",
   "metadata": {},
   "source": [
    "##  1.2.2\n",
    "Next. still within the for loop, the function checks if any of the lines has the same username as the value that is passed in as the parameter. If there is, the function closes the file and returns the score beside that username.\n",
    "\n",
    "After looping through the file, if the function does not find a match for the username, it exits the for loop, closes the file and returns -1\n",
    "\n"
   ]
  },
  {
   "cell_type": "code",
   "execution_count": 59,
   "metadata": {},
   "outputs": [
    {
     "name": "stdout",
     "output_type": "stream",
     "text": [
      "['Jake. J.P', '      1', '\\n']\n",
      "['Raymond. J.H', '   2', '\\n']\n",
      "['Charles. B', '     0', '\\n']\n",
      "['Amy. S', '         1', '\\n']\n",
      "['Rosa. D', '        1', '\\n']\n",
      "['Terry J', '        1', '\\n']\n",
      "['Norm. S', '        0', '\\n']\n",
      "['Micheal. H', '      0', '']\n",
      "Micheal. H has won       0 heist\n",
      "Closing the file\n"
     ]
    },
    {
     "ename": "ValueError",
     "evalue": "I/O operation on closed file.",
     "output_type": "error",
     "traceback": [
      "\u001b[1;31m---------------------------------------------------------------------------\u001b[0m",
      "\u001b[1;31mValueError\u001b[0m                                Traceback (most recent call last)",
      "\u001b[1;32mc:\\Users\\krigj_b\\Documents\\Educational\\Python\\Learn Python and learn it well within one day\\Notes\\MathBinary1-3.ipynb Cell 8'\u001b[0m in \u001b[0;36m<cell line: 28>\u001b[1;34m()\u001b[0m\n\u001b[0;32m     <a href='vscode-notebook-cell:/c%3A/Users/krigj_b/Documents/Educational/Python/Learn%20Python%20and%20learn%20it%20well%20within%20one%20day/Notes/MathBinary1-3.ipynb#ch0000007?line=24'>25</a>\u001b[0m         \u001b[39mreturn\u001b[39;00m        \n\u001b[0;32m     <a href='vscode-notebook-cell:/c%3A/Users/krigj_b/Documents/Educational/Python/Learn%20Python%20and%20learn%20it%20well%20within%20one%20day/Notes/MathBinary1-3.ipynb#ch0000007?line=26'>27</a>\u001b[0m \u001b[39m#   Calling the method\u001b[39;00m\n\u001b[1;32m---> <a href='vscode-notebook-cell:/c%3A/Users/krigj_b/Documents/Educational/Python/Learn%20Python%20and%20learn%20it%20well%20within%20one%20day/Notes/MathBinary1-3.ipynb#ch0000007?line=27'>28</a>\u001b[0m GetScore(\u001b[39m'\u001b[39;49m\u001b[39mMicheal. H\u001b[39;49m\u001b[39m'\u001b[39;49m)\n",
      "\u001b[1;32mc:\\Users\\krigj_b\\Documents\\Educational\\Python\\Learn Python and learn it well within one day\\Notes\\MathBinary1-3.ipynb Cell 8'\u001b[0m in \u001b[0;36mGetScore\u001b[1;34m(name)\u001b[0m\n\u001b[0;32m      <a href='vscode-notebook-cell:/c%3A/Users/krigj_b/Documents/Educational/Python/Learn%20Python%20and%20learn%20it%20well%20within%20one%20day/Notes/MathBinary1-3.ipynb#ch0000007?line=0'>1</a>\u001b[0m \u001b[39mdef\u001b[39;00m \u001b[39mGetScore\u001b[39m(name):\n\u001b[0;32m      <a href='vscode-notebook-cell:/c%3A/Users/krigj_b/Documents/Educational/Python/Learn%20Python%20and%20learn%20it%20well%20within%20one%20day/Notes/MathBinary1-3.ipynb#ch0000007?line=1'>2</a>\u001b[0m \n\u001b[0;32m      <a href='vscode-notebook-cell:/c%3A/Users/krigj_b/Documents/Educational/Python/Learn%20Python%20and%20learn%20it%20well%20within%20one%20day/Notes/MathBinary1-3.ipynb#ch0000007?line=2'>3</a>\u001b[0m     \u001b[39m#   Opening the text file\u001b[39;00m\n\u001b[0;32m      <a href='vscode-notebook-cell:/c%3A/Users/krigj_b/Documents/Educational/Python/Learn%20Python%20and%20learn%20it%20well%20within%20one%20day/Notes/MathBinary1-3.ipynb#ch0000007?line=3'>4</a>\u001b[0m     \u001b[39mwith\u001b[39;00m \u001b[39mopen\u001b[39m(\u001b[39mf\u001b[39m\u001b[39m'\u001b[39m\u001b[39mscores.txt\u001b[39m\u001b[39m'\u001b[39m, \u001b[39m'\u001b[39m\u001b[39mr\u001b[39m\u001b[39m'\u001b[39m) \u001b[39mas\u001b[39;00m f:\n\u001b[0;32m      <a href='vscode-notebook-cell:/c%3A/Users/krigj_b/Documents/Educational/Python/Learn%20Python%20and%20learn%20it%20well%20within%20one%20day/Notes/MathBinary1-3.ipynb#ch0000007?line=4'>5</a>\u001b[0m \n\u001b[0;32m      <a href='vscode-notebook-cell:/c%3A/Users/krigj_b/Documents/Educational/Python/Learn%20Python%20and%20learn%20it%20well%20within%20one%20day/Notes/MathBinary1-3.ipynb#ch0000007?line=5'>6</a>\u001b[0m         \u001b[39m#   Using a for loop to read the file line by line\u001b[39;00m\n\u001b[1;32m----> <a href='vscode-notebook-cell:/c%3A/Users/krigj_b/Documents/Educational/Python/Learn%20Python%20and%20learn%20it%20well%20within%20one%20day/Notes/MathBinary1-3.ipynb#ch0000007?line=6'>7</a>\u001b[0m         \u001b[39mfor\u001b[39;00m i \u001b[39min\u001b[39;00m f:\n\u001b[0;32m      <a href='vscode-notebook-cell:/c%3A/Users/krigj_b/Documents/Educational/Python/Learn%20Python%20and%20learn%20it%20well%20within%20one%20day/Notes/MathBinary1-3.ipynb#ch0000007?line=7'>8</a>\u001b[0m              \n\u001b[0;32m      <a href='vscode-notebook-cell:/c%3A/Users/krigj_b/Documents/Educational/Python/Learn%20Python%20and%20learn%20it%20well%20within%20one%20day/Notes/MathBinary1-3.ipynb#ch0000007?line=8'>9</a>\u001b[0m             \u001b[39m#   Splitting the content of the file\u001b[39;00m\n\u001b[0;32m     <a href='vscode-notebook-cell:/c%3A/Users/krigj_b/Documents/Educational/Python/Learn%20Python%20and%20learn%20it%20well%20within%20one%20day/Notes/MathBinary1-3.ipynb#ch0000007?line=9'>10</a>\u001b[0m             i \u001b[39m=\u001b[39m i\u001b[39m.\u001b[39msplit(\u001b[39m'\u001b[39m\u001b[39m,\u001b[39m\u001b[39m'\u001b[39m)\n\u001b[0;32m     <a href='vscode-notebook-cell:/c%3A/Users/krigj_b/Documents/Educational/Python/Learn%20Python%20and%20learn%20it%20well%20within%20one%20day/Notes/MathBinary1-3.ipynb#ch0000007?line=11'>12</a>\u001b[0m             \u001b[39mprint\u001b[39m(i)\n",
      "\u001b[1;31mValueError\u001b[0m: I/O operation on closed file."
     ]
    }
   ],
   "source": [
    "def GetScore(name):\n",
    "\n",
    "    #   Opening the text file\n",
    "    with open(f'scores.txt', 'r') as f:\n",
    "\n",
    "        #   Using a for loop to read the file line by line\n",
    "        for i in f:\n",
    "             \n",
    "            #   Splitting the content of the file\n",
    "            i = i.split(',')\n",
    "\n",
    "            print(i)\n",
    "            if name in i:\n",
    "\n",
    "                print(f'{i[0]} has won {i[1]} heist\\nClosing the file')\n",
    "\n",
    "                #   Closing the file\n",
    "                f.close()\n",
    "\n",
    "        if name not in i:    \n",
    "            #   Closing the file\n",
    "            f.close()\n",
    "\n",
    "            return print('-1')\n",
    "        return        \n",
    "\n",
    "#   Calling the method\n",
    "GetScore('Micheal. H')"
   ]
  },
  {
   "cell_type": "markdown",
   "metadata": {},
   "source": [
    "## 1.2.3\n",
    "\n",
    "Now we modify the code.\n",
    "\n",
    "We change the 'r' mode into 'w' mode and create a new file.\n",
    "adding the code into a try, except block to handle the 'File not found' error.\n",
    "\n",
    "Informing users that the file does not exist, and then proceed to create the file. We"
   ]
  },
  {
   "cell_type": "code",
   "execution_count": 62,
   "metadata": {},
   "outputs": [
    {
     "name": "stdout",
     "output_type": "stream",
     "text": [
      "The file were not found... Procceeding to create it\n"
     ]
    },
    {
     "ename": "ValueError",
     "evalue": "I/O operation on closed file.",
     "output_type": "error",
     "traceback": [
      "\u001b[1;31m---------------------------------------------------------------------------\u001b[0m",
      "\u001b[1;31mFileNotFoundError\u001b[0m                         Traceback (most recent call last)",
      "\u001b[1;32mc:\\Users\\krigj_b\\Documents\\Educational\\Python\\Learn Python and learn it well within one day\\Notes\\MathBinary1-3.ipynb Cell 10'\u001b[0m in \u001b[0;36mGetScore\u001b[1;34m(name)\u001b[0m\n\u001b[0;32m      <a href='vscode-notebook-cell:/c%3A/Users/krigj_b/Documents/Educational/Python/Learn%20Python%20and%20learn%20it%20well%20within%20one%20day/Notes/MathBinary1-3.ipynb#ch0000009?line=3'>4</a>\u001b[0m \u001b[39mtry\u001b[39;00m:\n\u001b[0;32m      <a href='vscode-notebook-cell:/c%3A/Users/krigj_b/Documents/Educational/Python/Learn%20Python%20and%20learn%20it%20well%20within%20one%20day/Notes/MathBinary1-3.ipynb#ch0000009?line=4'>5</a>\u001b[0m \n\u001b[0;32m      <a href='vscode-notebook-cell:/c%3A/Users/krigj_b/Documents/Educational/Python/Learn%20Python%20and%20learn%20it%20well%20within%20one%20day/Notes/MathBinary1-3.ipynb#ch0000009?line=5'>6</a>\u001b[0m     \u001b[39m#   Opening the text file\u001b[39;00m\n\u001b[1;32m----> <a href='vscode-notebook-cell:/c%3A/Users/krigj_b/Documents/Educational/Python/Learn%20Python%20and%20learn%20it%20well%20within%20one%20day/Notes/MathBinary1-3.ipynb#ch0000009?line=6'>7</a>\u001b[0m     \u001b[39mwith\u001b[39;00m \u001b[39mopen\u001b[39;49m(\u001b[39mf\u001b[39;49m\u001b[39m'\u001b[39;49m\u001b[39mscores.txt\u001b[39;49m\u001b[39m'\u001b[39;49m, \u001b[39m'\u001b[39;49m\u001b[39mr\u001b[39;49m\u001b[39m'\u001b[39;49m) \u001b[39mas\u001b[39;00m f:\n\u001b[0;32m      <a href='vscode-notebook-cell:/c%3A/Users/krigj_b/Documents/Educational/Python/Learn%20Python%20and%20learn%20it%20well%20within%20one%20day/Notes/MathBinary1-3.ipynb#ch0000009?line=7'>8</a>\u001b[0m \n\u001b[0;32m      <a href='vscode-notebook-cell:/c%3A/Users/krigj_b/Documents/Educational/Python/Learn%20Python%20and%20learn%20it%20well%20within%20one%20day/Notes/MathBinary1-3.ipynb#ch0000009?line=8'>9</a>\u001b[0m         \u001b[39m#   Using a for loop to read the file line by line\u001b[39;00m\n\u001b[0;32m     <a href='vscode-notebook-cell:/c%3A/Users/krigj_b/Documents/Educational/Python/Learn%20Python%20and%20learn%20it%20well%20within%20one%20day/Notes/MathBinary1-3.ipynb#ch0000009?line=9'>10</a>\u001b[0m         \u001b[39mfor\u001b[39;00m i \u001b[39min\u001b[39;00m f:\n\u001b[0;32m     <a href='vscode-notebook-cell:/c%3A/Users/krigj_b/Documents/Educational/Python/Learn%20Python%20and%20learn%20it%20well%20within%20one%20day/Notes/MathBinary1-3.ipynb#ch0000009?line=10'>11</a>\u001b[0m             \n\u001b[0;32m     <a href='vscode-notebook-cell:/c%3A/Users/krigj_b/Documents/Educational/Python/Learn%20Python%20and%20learn%20it%20well%20within%20one%20day/Notes/MathBinary1-3.ipynb#ch0000009?line=11'>12</a>\u001b[0m             \u001b[39m#   Splitting the content of the file\u001b[39;00m\n",
      "\u001b[1;31mFileNotFoundError\u001b[0m: [Errno 2] No such file or directory: 'scores.txt'",
      "\nDuring handling of the above exception, another exception occurred:\n",
      "\u001b[1;31mValueError\u001b[0m                                Traceback (most recent call last)",
      "\u001b[1;32mc:\\Users\\krigj_b\\Documents\\Educational\\Python\\Learn Python and learn it well within one day\\Notes\\MathBinary1-3.ipynb Cell 10'\u001b[0m in \u001b[0;36m<cell line: 52>\u001b[1;34m()\u001b[0m\n\u001b[0;32m     <a href='vscode-notebook-cell:/c%3A/Users/krigj_b/Documents/Educational/Python/Learn%20Python%20and%20learn%20it%20well%20within%20one%20day/Notes/MathBinary1-3.ipynb#ch0000009?line=48'>49</a>\u001b[0m         \u001b[39mreturn\u001b[39;00m        \n\u001b[0;32m     <a href='vscode-notebook-cell:/c%3A/Users/krigj_b/Documents/Educational/Python/Learn%20Python%20and%20learn%20it%20well%20within%20one%20day/Notes/MathBinary1-3.ipynb#ch0000009?line=50'>51</a>\u001b[0m \u001b[39m#   Calling the method\u001b[39;00m\n\u001b[1;32m---> <a href='vscode-notebook-cell:/c%3A/Users/krigj_b/Documents/Educational/Python/Learn%20Python%20and%20learn%20it%20well%20within%20one%20day/Notes/MathBinary1-3.ipynb#ch0000009?line=51'>52</a>\u001b[0m GetScore(\u001b[39m'\u001b[39;49m\u001b[39mMicheal. H\u001b[39;49m\u001b[39m'\u001b[39;49m)\n",
      "\u001b[1;32mc:\\Users\\krigj_b\\Documents\\Educational\\Python\\Learn Python and learn it well within one day\\Notes\\MathBinary1-3.ipynb Cell 10'\u001b[0m in \u001b[0;36mGetScore\u001b[1;34m(name)\u001b[0m\n\u001b[0;32m     <a href='vscode-notebook-cell:/c%3A/Users/krigj_b/Documents/Educational/Python/Learn%20Python%20and%20learn%20it%20well%20within%20one%20day/Notes/MathBinary1-3.ipynb#ch0000009?line=34'>35</a>\u001b[0m \u001b[39mwith\u001b[39;00m \u001b[39mopen\u001b[39m(\u001b[39m'\u001b[39m\u001b[39mScores.txt\u001b[39m\u001b[39m'\u001b[39m, \u001b[39m'\u001b[39m\u001b[39mw\u001b[39m\u001b[39m'\u001b[39m) \u001b[39mas\u001b[39;00m f:\n\u001b[0;32m     <a href='vscode-notebook-cell:/c%3A/Users/krigj_b/Documents/Educational/Python/Learn%20Python%20and%20learn%20it%20well%20within%20one%20day/Notes/MathBinary1-3.ipynb#ch0000009?line=36'>37</a>\u001b[0m     txt \u001b[39m=\u001b[39m \u001b[39m'''\u001b[39m\n\u001b[0;32m     <a href='vscode-notebook-cell:/c%3A/Users/krigj_b/Documents/Educational/Python/Learn%20Python%20and%20learn%20it%20well%20within%20one%20day/Notes/MathBinary1-3.ipynb#ch0000009?line=37'>38</a>\u001b[0m \u001b[39m    Jake. J.P,      1,\u001b[39m\n\u001b[0;32m     <a href='vscode-notebook-cell:/c%3A/Users/krigj_b/Documents/Educational/Python/Learn%20Python%20and%20learn%20it%20well%20within%20one%20day/Notes/MathBinary1-3.ipynb#ch0000009?line=38'>39</a>\u001b[0m \u001b[39m    Raymond. J.H,   2,\u001b[39m\n\u001b[1;32m   (...)\u001b[0m\n\u001b[0;32m     <a href='vscode-notebook-cell:/c%3A/Users/krigj_b/Documents/Educational/Python/Learn%20Python%20and%20learn%20it%20well%20within%20one%20day/Notes/MathBinary1-3.ipynb#ch0000009?line=44'>45</a>\u001b[0m \u001b[39m    Micheal. H,     0,\u001b[39m\n\u001b[0;32m     <a href='vscode-notebook-cell:/c%3A/Users/krigj_b/Documents/Educational/Python/Learn%20Python%20and%20learn%20it%20well%20within%20one%20day/Notes/MathBinary1-3.ipynb#ch0000009?line=45'>46</a>\u001b[0m \u001b[39m    \u001b[39m\u001b[39m'''\u001b[39m\n\u001b[1;32m---> <a href='vscode-notebook-cell:/c%3A/Users/krigj_b/Documents/Educational/Python/Learn%20Python%20and%20learn%20it%20well%20within%20one%20day/Notes/MathBinary1-3.ipynb#ch0000009?line=46'>47</a>\u001b[0m f\u001b[39m.\u001b[39;49mwrite(txt)\n\u001b[0;32m     <a href='vscode-notebook-cell:/c%3A/Users/krigj_b/Documents/Educational/Python/Learn%20Python%20and%20learn%20it%20well%20within%20one%20day/Notes/MathBinary1-3.ipynb#ch0000009?line=47'>48</a>\u001b[0m f\u001b[39m.\u001b[39mclose()\n\u001b[0;32m     <a href='vscode-notebook-cell:/c%3A/Users/krigj_b/Documents/Educational/Python/Learn%20Python%20and%20learn%20it%20well%20within%20one%20day/Notes/MathBinary1-3.ipynb#ch0000009?line=48'>49</a>\u001b[0m \u001b[39mreturn\u001b[39;00m\n",
      "\u001b[1;31mValueError\u001b[0m: I/O operation on closed file."
     ]
    }
   ],
   "source": [
    "def GetScore(name):\n",
    "\n",
    "    #   Attempting to open the file\n",
    "    try:\n",
    "\n",
    "        #   Opening the text file\n",
    "        with open(f'scores.txt', 'r') as f:\n",
    "\n",
    "            #   Using a for loop to read the file line by line\n",
    "            for i in f:\n",
    "                \n",
    "                #   Splitting the content of the file\n",
    "                i = i.split(',')\n",
    "\n",
    "                print(i)\n",
    "                if name in i:\n",
    "\n",
    "                    print(f'{i[0]} has won {i[1]} heist\\nClosing the file')\n",
    "\n",
    "                    #   Closing the file\n",
    "                    f.close()\n",
    "\n",
    "            if name not in i:    \n",
    "                #   Closing the file\n",
    "                f.close()\n",
    "\n",
    "                return print('-1')\n",
    "\n",
    "    #   Try statment failed, proceed to prone an error\n",
    "    except IOError as e:\n",
    "\n",
    "        print('The file were not found... Procceeding to create it')\n",
    "\n",
    "        #   Creating the file\n",
    "        with open('Scores.txt', 'w') as f:\n",
    "\n",
    "            txt = '''\n",
    "            Jake. J.P,      1,\n",
    "            Raymond. J.H,   2,\n",
    "            Charles. B,     0,\n",
    "            Amy. S,         1,\n",
    "            Rosa. D,        1,\n",
    "            Terry J,        1,\n",
    "            Norm. S,        0,\n",
    "            Micheal. H,     0,\n",
    "            '''\n",
    "            while len(txt):\n",
    "                f.write(txt)\n",
    "\n",
    "            #   Closing the file\n",
    "            f.close()\n",
    "        return        \n",
    "\n",
    "#   Calling the method\n",
    "GetScore('Micheal. H')"
   ]
  }
 ],
 "metadata": {
  "kernelspec": {
   "display_name": "Python 3.10.5 64-bit (windows store)",
   "language": "python",
   "name": "python3"
  },
  "language_info": {
   "codemirror_mode": {
    "name": "ipython",
    "version": 3
   },
   "file_extension": ".py",
   "mimetype": "text/x-python",
   "name": "python",
   "nbconvert_exporter": "python",
   "pygments_lexer": "ipython3",
   "version": "3.10.5"
  },
  "orig_nbformat": 4,
  "vscode": {
   "interpreter": {
    "hash": "da24d7b7dd3c86bb9e13f4aeb887c509d17f7c3ac26293a89f48f4d1d2c687b8"
   }
  }
 },
 "nbformat": 4,
 "nbformat_minor": 2
}
