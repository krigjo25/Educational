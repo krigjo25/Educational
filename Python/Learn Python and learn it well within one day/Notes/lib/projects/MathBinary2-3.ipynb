{
 "cells": [
  {
   "cell_type": "markdown",
   "metadata": {},
   "source": [
    "#   Game Classes Notebook"
   ]
  },
  {
   "cell_type": "markdown",
   "metadata": {},
   "source": [
    "#   2.1 The Game Class\n",
    "\n",
    "\n",
    "**Three Classes**\n",
    "-   Game\n",
    "-   MathGame\n",
    "-   BinaryGame\n",
    "\n",
    "**Game Class**\n",
    "\n",
    "The class has one Initializer\n",
    "with two parameters **self**, **NOQ**.\n",
    "NOQ has a default value of zero.\n",
    "\n",
    "Within the initializer, we assign NOQ to an **Instance variable** called _NOQ.\n",
    "\n",
    "Define the initializer and add this assignment statement yourself.\n",
    "\n",
    "## 2.1.2\n",
    "\n",
    "The Game class also has a property for getting and setting the value of **_NOQ** The Code for \n"
   ]
  }
 ],
 "metadata": {
  "kernelspec": {
   "display_name": "Python 3.10.5 64-bit (windows store)",
   "language": "python",
   "name": "python3"
  },
  "language_info": {
   "name": "python",
   "version": "3.10.5"
  },
  "orig_nbformat": 4,
  "vscode": {
   "interpreter": {
    "hash": "da24d7b7dd3c86bb9e13f4aeb887c509d17f7c3ac26293a89f48f4d1d2c687b8"
   }
  }
 },
 "nbformat": 4,
 "nbformat_minor": 2
}
