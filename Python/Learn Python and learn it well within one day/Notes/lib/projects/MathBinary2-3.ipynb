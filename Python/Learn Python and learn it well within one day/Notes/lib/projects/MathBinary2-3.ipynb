{
 "cells": [
  {
   "cell_type": "markdown",
   "metadata": {},
   "source": [
    "#   Game Classes Notebook"
   ]
  },
  {
   "cell_type": "markdown",
   "metadata": {},
   "source": [
    "#   2.1 The Game Class\n",
    "\n",
    "\n",
    "**Three Classes**\n",
    "-   Game\n",
    "-   MathGame\n",
    "-   BinaryGame\n",
    "\n",
    "**Game Class**\n",
    "\n",
    "The class has one Initializer\n",
    "with two parameters **self**, **NOQ**.\n",
    "NOQ has a default value of zero.\n",
    "\n",
    "Within the initializer, we assign NOQ to an **Instance variable** called _NOQ.\n",
    "\n",
    "Define the initializer and add this assignment statement yourself.\n"
   ]
  },
  {
   "cell_type": "code",
   "execution_count": null,
   "metadata": {},
   "outputs": [],
   "source": [
    "#   Initiating object 'Game'\n",
    "class Game():\n",
    "\n",
    "    #   Initializing the Initializer\n",
    "    def __init__(self, NOQ = 0):\n",
    "\n",
    "        self._NOQ = NOQ\n",
    "\n",
    "        return"
   ]
  },
  {
   "cell_type": "markdown",
   "metadata": {},
   "source": [
    "### 2.1 The Game class \n",
    "\n",
    "-   @Property to retrieve and set the value of `_NOQ`.\n",
    "-   setter property has two values, `self`,`value` and print out a message\n",
    "-   If the value is less than one add 1 to `_NOQ`. If the value is above 10 assign 10 to the instance variable. Else assign the value to the instance variable"
   ]
  },
  {
   "cell_type": "code",
   "execution_count": null,
   "metadata": {},
   "outputs": [],
   "source": [
    "#   Initiating object 'Game'\n",
    "class Game():\n",
    "\n",
    "    #   Initializing the Initializer\n",
    "    def __init__(self, NOQ = 0):\n",
    "\n",
    "        self._NOQ = NOQ\n",
    "\n",
    "        return\n",
    "\n",
    "    #   Declare a property \n",
    "    @property\n",
    "    def NoQuestions(self):\n",
    "\n",
    "        return self._NOQ\n",
    "\n",
    "    @NoQuestions.setter\n",
    "    def NoQuestions(self, value):\n",
    "\n",
    "        #   If the value is less than 1\n",
    "        if value < 1:\n",
    "\n",
    "            #   add a initial value to the instance variable \n",
    "            self._NOQ +=1\n",
    "\n",
    "            return print('Minimum Number of questions is 1')\n",
    "\n",
    "        #   If the value is greater than 10\n",
    "        elif value > 10:\n",
    "\n",
    "            #   add a initial value to the instance variable \n",
    "            self._NOQ = 10\n",
    "\n",
    "            return print('Maximum number of question is 10')\n",
    "\n",
    "        else:\n",
    "\n",
    "            self._NOQ = value\n",
    "\n",
    "        return self._NOQ\n",
    "\n"
   ]
  },
  {
   "cell_type": "markdown",
   "metadata": {},
   "source": [
    "#   2.2 The Binary Class\n",
    "\n",
    "*   Define the class\n",
    "*   Create a method to generate base-2 numbers questions\n",
    "*   generate a random integer using the python responsories (random)\n",
    "*   Initialize a variable to store the data, during the game\n",
    "*   Loop through the `_NOQ`. Generate a random number between 1-100 assign the result the variable\n",
    "*   Prompt the user to type in an integer, assign it to a local variable.\n",
    "*   Create a try, except statement to check wheter the user is correct or an error if there is an error raise error message and prompt the user to answer again\n",
    "\n"
   ]
  },
  {
   "cell_type": "code",
   "execution_count": null,
   "metadata": {},
   "outputs": [],
   "source": [
    "#   Initiating object 'BinaryGame'\n",
    "class BinaryGame(Game):\n",
    "\n",
    "    #   Initializing the Initializer\n",
    "    def __init__(self):\n",
    "        return\n",
    "\n",
    "    #   Generate questions method\n",
    "    def GenerateQuestion(self):\n",
    "\n",
    "        ''' \n",
    "                GenerateQuestions()\n",
    "            an Instance method to generates binary questions.\n",
    "\n",
    "        '''\n",
    "\n",
    "        #   Importing randint function\n",
    "        from random import randint\n",
    "\n",
    "        #   Initializing a local variable called 'Score'\n",
    "        Score   = 0\n",
    "\n",
    "        #   Looping through using for loop to evaluate the answer\n",
    "        for i in range(self._NOQ):\n",
    "\n",
    "            #   Initializing a variable and choosing a random integer from 1-100\n",
    "            x = randint(1,100)\n",
    "\n",
    "            #   Prompt the user to type in an integer\n",
    "            prmpt = input()\n",
    "\n",
    "        #   Creating a while loop to loop through a true statement\n",
    "        while True:\n",
    "\n",
    "            #   Creating a try, except loop\n",
    "            try:\n",
    "                # Converting the string into an integer base 2\n",
    "                prmpt = int(prmpt, base=2)\n",
    "\n",
    "                #   Updating the user Score\n",
    "\n",
    "                #   Breaking out from the while loop\n",
    "                break\n",
    "\n",
    "            except:\n",
    "\n",
    "                #   Print out an error message\n",
    "                print('')\n",
    "\n",
    "                #   Prompting the user to answer again\n",
    "\n"
   ]
  }
 ],
 "metadata": {
  "kernelspec": {
   "display_name": "Python 3.10.5 64-bit (windows store)",
   "language": "python",
   "name": "python3"
  },
  "language_info": {
   "name": "python",
   "version": "3.10.5"
  },
  "orig_nbformat": 4,
  "vscode": {
   "interpreter": {
    "hash": "da24d7b7dd3c86bb9e13f4aeb887c509d17f7c3ac26293a89f48f4d1d2c687b8"
   }
  }
 },
 "nbformat": 4,
 "nbformat_minor": 2
}
