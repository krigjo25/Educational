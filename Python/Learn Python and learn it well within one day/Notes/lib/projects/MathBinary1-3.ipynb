{
 "cells": [
  {
   "cell_type": "markdown",
   "metadata": {},
   "source": [
    "#   Project Math and Binary Part 1  Notebook"
   ]
  },
  {
   "cell_type": "markdown",
   "metadata": {},
   "source": [
    "##  Gametasks.py\n",
    "\n",
    "is a module that contains three functions that perform certain tasks in our project these functions does not require any information about an instance or a class and are thus not written as apart of a class"
   ]
  },
  {
   "cell_type": "markdown",
   "metadata": {},
   "source": [
    "##   1.1 Print Game Instructions\n",
    "\n",
    "**Instructions()** has one parameter called instructions and simply uses the built-in print() functionallity to print the value of instruction onto the display."
   ]
  },
  {
   "cell_type": "code",
   "execution_count": 1,
   "metadata": {},
   "outputs": [],
   "source": [
    "def Instructions(inst):\n",
    "    return print(inst)"
   ]
  },
  {
   "cell_type": "markdown",
   "metadata": {},
   "source": [
    "##   1.2.1 Getting the user's score\n",
    "\n",
    "The second function is called GetScore(). This function accepts one parameter, **name**.\n",
    "\n",
    "The function opens a file called 'scores.txt' in 'r' mode.\n",
    "\n",
    "**scores.txt**<br>\n",
    "Name  HeistScore<br>\n",
    "Jake. J.P, 1<br>\n",
    "Raymond. J.H 2<br>\n",
    "Charles. B. 0<br>\n",
    "Amy. S.     1<br>\n",
    "Rosa. D.    1<br>\n",
    "Terry J.    1<br>\n",
    "Norm. S.    0<br>\n",
    "Micheal H.  0<br>\n",
    "\n",
    "\n",
    "The function reads the file line by line using a for loop\n",
    "Within the for loop, each line is split using the split function.\n",
    "and the result of the split function is stored in a list called content."
   ]
  },
  {
   "cell_type": "code",
   "execution_count": null,
   "metadata": {},
   "outputs": [],
   "source": [
    "def GetScore(name):\n",
    "\n",
    "    #   Opening the text file\n",
    "    with open(f'txt/Scores.txt', 'r') as f:\n",
    "\n",
    "        #   Using a for loop to read the file line by line\n",
    "        for i in f:\n",
    "             \n",
    "            #   Splitting the content of the file\n",
    "            i = i.split(',')\n",
    "\n",
    "            #   Closing the file\n",
    "            f.close()                \n",
    "\n",
    "#   Calling the method\n",
    "GetScore('Micheal. S')\n",
    "    "
   ]
  },
  {
   "cell_type": "markdown",
   "metadata": {},
   "source": [
    "##  1.2.2\n",
    "Next. still within the for loop, the function checks if any of the lines has the same username as the value that is passed in as the parameter. If there is, the function closes the file and returns the score beside that username.\n",
    "\n",
    "After looping through the file, if the function does not find a match for the username, it exits the for loop, closes the file and returns -1\n",
    "\n"
   ]
  },
  {
   "cell_type": "code",
   "execution_count": null,
   "metadata": {},
   "outputs": [],
   "source": [
    "def GetScore(name):\n",
    "\n",
    "    #   Opening the text file\n",
    "    with open(f'scores.txt', 'r') as f:\n",
    "\n",
    "        #   Using a for loop to read the file line by line\n",
    "        for i in f:\n",
    "             \n",
    "            #   Splitting the content of the file\n",
    "            i = i.split(',')\n",
    "\n",
    "            print(i)\n",
    "            if name in i:\n",
    "\n",
    "                print(f'{i[0]} has won {i[1]} heist\\nClosing the file')\n",
    "\n",
    "                #   Closing the file\n",
    "                f.close()\n",
    "\n",
    "        if name not in i:    \n",
    "            #   Closing the file\n",
    "            f.close()\n",
    "\n",
    "            return print('-1')\n",
    "        return        \n",
    "\n",
    "#   Calling the method\n",
    "GetScore('Micheal. H')"
   ]
  },
  {
   "cell_type": "markdown",
   "metadata": {},
   "source": [
    "## 1.2.3\n",
    "\n",
    "Now we modify the code.\n",
    "\n",
    "We change the 'r' mode into 'w' mode and create a new file.\n",
    "adding the code into a try, except block to handle the 'File not found' error.\n",
    "\n",
    "Informing users that the file does not exist, and then proceed to create the file. We"
   ]
  },
  {
   "cell_type": "code",
   "execution_count": 63,
   "metadata": {},
   "outputs": [],
   "source": [
    "def GetScore(name):\n",
    "\n",
    "    #   Attempting to open the file\n",
    "    try:\n",
    "\n",
    "        #   Opening the text file\n",
    "        with open(f'txt/scores.txt', 'r') as f:\n",
    "\n",
    "            #   Using a for loop to read the file line by line\n",
    "            for i in f:\n",
    "                \n",
    "                #   Splitting the content of the file\n",
    "                i = i.split(',')\n",
    "\n",
    "                print(i)\n",
    "                if name in i:\n",
    "\n",
    "                    print(f'{i[0]} has won {i[1]} heist\\nClosing the file')\n",
    "\n",
    "                    #   Closing the file\n",
    "                    f.close()\n",
    "\n",
    "            if name not in i:    \n",
    "                #   Closing the file\n",
    "                f.close()\n",
    "\n",
    "                return print('-1')\n",
    "\n",
    "    #   Try statment failed, proceed to prone an error\n",
    "    except IOError as e:\n",
    "\n",
    "        print('The file were not found... Procceeding to create it')\n",
    "\n",
    "        #   Creating the file\n",
    "        with open('txt/Scores.txt', 'w') as f:\n",
    "\n",
    "            txt = '''\n",
    "            Jake. J.P,      1,\n",
    "            Raymond. J.H,   2,\n",
    "            Charles. B,     0,\n",
    "            Amy. S,         1,\n",
    "            Rosa. D,        1,\n",
    "            Terry J,        1,\n",
    "            Norm. S,        0,\n",
    "            Micheal. H,     0,\n",
    "            '''\n",
    "\n",
    "            #   Writing into the text file\n",
    "            f.write(txt)\n",
    "\n",
    "            #   Closing the file\n",
    "            f.close()\n",
    "        return        \n",
    "\n",
    "#   Calling the method\n",
    "GetScore('Micheal. H')"
   ]
  }
 ],
 "metadata": {
  "kernelspec": {
   "display_name": "Python 3.10.5 64-bit (windows store)",
   "language": "python",
   "name": "python3"
  },
  "language_info": {
   "codemirror_mode": {
    "name": "ipython",
    "version": 3
   },
   "file_extension": ".py",
   "mimetype": "text/x-python",
   "name": "python",
   "nbconvert_exporter": "python",
   "pygments_lexer": "ipython3",
   "version": "3.10.5"
  },
  "orig_nbformat": 4,
  "vscode": {
   "interpreter": {
    "hash": "da24d7b7dd3c86bb9e13f4aeb887c509d17f7c3ac26293a89f48f4d1d2c687b8"
   }
  }
 },
 "nbformat": 4,
 "nbformat_minor": 2
}
