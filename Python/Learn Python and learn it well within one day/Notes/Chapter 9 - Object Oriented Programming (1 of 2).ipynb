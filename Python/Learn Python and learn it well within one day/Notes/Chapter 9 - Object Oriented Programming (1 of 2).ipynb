{
 "cells": [
  {
   "cell_type": "markdown",
   "metadata": {},
   "source": [
    "#   Chapter 9 - Object Oriented Programming (OOP) Notebook"
   ]
  },
  {
   "cell_type": "markdown",
   "metadata": {},
   "source": [
    "##  9.1 What is Object Oriented Programming? \n",
    "\n",
    "Object Oriented Programming (OOP) is an approach to programming, that breaks a programming problem into objects that interact with each other. They're created from templates known as classes.\n",
    "\n",
    "OOP can be thought as a book, where the class object is the blueprint of the book ( the cover and the back). The **Instializer** can be looked as the Table Of Content, while **methods** is the books chapters and **variables** are the books sections\n",
    "\n",
    "\n",
    "OOP Is like a book where the cover is the OOP, and pages is the methods, \n"
   ]
  },
  {
   "cell_type": "markdown",
   "metadata": {},
   "source": [
    "##  9.2 Writing our own class\n",
    "\n",
    "class keyword followed by the name of the class. Its common practive to use PascalCasing when naming classes. It refers to the practice of capitalizing the first letter of each word.\n",
    "\n",
    "A class consist of:\n",
    "-   Variables, storing data\n",
    "-   Functions, Code blocks to perform a certain task for us, functions whitin a class is more formaly called for methods.\n",
    "\n",
    "\n",
    "An Instializer is called whenever an object of the class is created.\n",
    "\n",
    "\n",
    "\n",
    "    self keyword refers to an instance itself."
   ]
  },
  {
   "cell_type": "code",
   "execution_count": 1,
   "metadata": {},
   "outputs": [],
   "source": [
    "#   Createing a class\n",
    "\n",
    "class ProStaff:\n",
    "\n",
    "    #   Creating a Initializer\n",
    "    def __init__(self, pos, name, salary):\n",
    "        self.pos = pos\n",
    "        self.name = name\n",
    "        self.salary = salary\n",
    "\n",
    "        return 'Creating Prostaff Object'\n",
    "\n",
    "    def __str__(self):\n",
    "        return f'Position {self.pos}, Name {self.name}, Salary {self.salary}'\n"
   ]
  },
  {
   "cell_type": "markdown",
   "metadata": {},
   "source": [
    "##  9.3 Instaniating an Object\n",
    "\n",
    "    How to use the class\n",
    "        Calling the class\n",
    "            ceo = ProStaff('Jane Doe', 'Prostaff CEO', 1000000)\n",
    "        \n",
    "        Accsessing instance variables / methods\n",
    "            ceo.name,\n",
    "            ceo.pos,\n",
    "            ceo.salary\n",
    "            ceo.calculateSalary()\n",
    "        altering instance variables\n",
    "            ceo.name, ceo.pos, ceo.salary = 'Jake Doe', 'Python Developer', 2000"
   ]
  },
  {
   "cell_type": "markdown",
   "metadata": {},
   "source": [
    "##  9.4 Properties\n",
    "\n",
    "    To prevent error, such as wrongly altering positions or salary\n",
    "    we use properties. They provide us with a way to check the values \n",
    "    of the changes which we want to make before allowing the changes occour\n",
    "    \n",
    "    @property \n",
    "        known as a decorator\n",
    "        allows us to alter the functionallity of the method which follows by using ceo.pos\n",
    "    \n",
    "    @method.setter\n",
    "        When users tries to update the value of _pos  by using\n",
    "        ceo.pos = 'Manager' it should use the pos() method to update the value. e.g(ceo.pos = value)\n",
    "        if the value is neither 'Manager' or 'Ceo' the value will not be updated \n",
    "        after declaring those two properties, you no longer accsess directly to the value\n",
    "\n",
    "\n",
    "    - adding single underscore in front of a variable notifies other developer to not accsess that variable directly unless,\n",
    "        They have a compelling reason to.\n",
    "\n",
    "    - adding two underscores, just means no touchy"
   ]
  },
  {
   "cell_type": "markdown",
   "metadata": {},
   "source": [
    "##  9.5 Name Mangling"
   ]
  }
 ],
 "metadata": {
  "kernelspec": {
   "display_name": "Python 3.10.5 64-bit (windows store)",
   "language": "python",
   "name": "python3"
  },
  "language_info": {
   "codemirror_mode": {
    "name": "ipython",
    "version": 3
   },
   "file_extension": ".py",
   "mimetype": "text/x-python",
   "name": "python",
   "nbconvert_exporter": "python",
   "pygments_lexer": "ipython3",
   "version": "3.10.5"
  },
  "orig_nbformat": 4,
  "vscode": {
   "interpreter": {
    "hash": "da24d7b7dd3c86bb9e13f4aeb887c509d17f7c3ac26293a89f48f4d1d2c687b8"
   }
  }
 },
 "nbformat": 4,
 "nbformat_minor": 2
}
