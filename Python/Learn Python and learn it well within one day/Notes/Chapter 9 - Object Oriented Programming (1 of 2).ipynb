{
 "cells": [
  {
   "cell_type": "markdown",
   "metadata": {},
   "source": [
    "#   Chapter 9 - Object Oriented Programming (OOP) Notebook"
   ]
  },
  {
   "cell_type": "markdown",
   "metadata": {},
   "source": [
    "##  9.1 What is OOP? \n",
    "OOP Is like a book where the cover is the OOP, and pages is the methods, \n",
    "it is an approach to programming that breaks a programming problem into objects that interact with each other.\n",
    "Objects are created from templates known as classes. You can think of a class as the blueprint of a building. \n",
    "An object is the actual “building” that we build based on the blueprint. To understand how object-oriented programming works, \n",
    "\n"
   ]
  },
  {
   "cell_type": "markdown",
   "metadata": {},
   "source": [
    "##  9.2 Writing our own class\n",
    "\n",
    "    Class keyword followed by the name of the class.\n",
    "\n",
    "    - Comon practice PascalCasing (CamelCase)\n",
    "    A class consist of variables and functions. We've learned so far :\n",
    "        - Variables storing data\n",
    "        - Functions code blocks to perform a certain tasks for us. Function with-in a class is more formaly called for methods.\n",
    "\n",
    "    An instializer is called whenever an object of the class is created. \n",
    "\n",
    "    self keyword refers to an instance itself."
   ]
  },
  {
   "cell_type": "markdown",
   "metadata": {},
   "source": [
    "##  9.3 Instaniating an Object\n",
    "\n",
    "    How to use the class\n",
    "        Calling the class\n",
    "            ceo = ProStaff('Jane Doe', 'Prostaff CEO', 1000000)\n",
    "        \n",
    "        Accsessing instance variables / methods\n",
    "            ceo.name,\n",
    "            ceo.pos,\n",
    "            ceo.salary\n",
    "            ceo.calculateSalary()\n",
    "        altering instance variables\n",
    "            ceo.name, ceo.pos, ceo.salary = 'Jake Doe', 'Python Developer', 2000"
   ]
  },
  {
   "cell_type": "markdown",
   "metadata": {},
   "source": [
    "##  9.4 Properties\n",
    "\n",
    "    To prevent error, such as wrongly altering positions or salary\n",
    "    we use properties. They provide us with a way to check the values \n",
    "    of the changes which we want to make before allowing the changes occour\n",
    "    \n",
    "    @property \n",
    "        known as a decorator\n",
    "        allows us to alter the functionallity of the method which follows by using ceo.pos\n",
    "    \n",
    "    @method.setter\n",
    "        When users tries to update the value of _pos  by using\n",
    "        ceo.pos = 'Manager' it should use the pos() method to update the value. e.g(ceo.pos = value)\n",
    "        if the value is neither 'Manager' or 'Ceo' the value will not be updated \n",
    "        after declaring those two properties, you no longer accsess directly to the value\n",
    "\n",
    "\n",
    "    - adding single underscore in front of a variable notifies other developer to not accsess that variable directly unless,\n",
    "        They have a compelling reason to.\n",
    "\n",
    "    - adding two underscores, just means no touchy"
   ]
  },
  {
   "cell_type": "markdown",
   "metadata": {},
   "source": [
    "##  9.5 Name Mangling"
   ]
  }
 ],
 "metadata": {
  "language_info": {
   "name": "python"
  },
  "orig_nbformat": 4
 },
 "nbformat": 4,
 "nbformat_minor": 2
}
