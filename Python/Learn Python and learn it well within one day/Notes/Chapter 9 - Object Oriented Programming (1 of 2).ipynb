{
 "cells": [
  {
   "cell_type": "markdown",
   "metadata": {},
   "source": [
    "#   Chapter 9 - Object Oriented Programming (OOP) Notebook"
   ]
  },
  {
   "cell_type": "markdown",
   "metadata": {},
   "source": [
    "##  9.1 What is Object Oriented Programming? \n",
    "\n",
    "Object Oriented Programming (OOP) is an approach to programming, that breaks a programming problem into objects that interact with each other. They're created from templates known as classes.\n",
    "\n",
    "OOP can be thought as a book, where the class object is the blueprint of the book ( the cover and the back). The **Instializer** can be looked as the Table Of Content, while **methods** is the books chapters and **variables** are the books sections\n",
    "\n",
    "\n",
    "OOP Is like a book where the cover is the OOP, and pages is the methods, \n"
   ]
  },
  {
   "cell_type": "markdown",
   "metadata": {},
   "source": [
    "##  9.2 Writing our own class\n",
    "\n",
    "class keyword followed by the name of the class. Its common practive to use PascalCasing when naming classes. It refers to the practice of capitalizing the first letter of each word.\n",
    "\n",
    "A class consist of:\n",
    "-   Variables, storing data\n",
    "-   Functions, Code blocks to perform a certain task for us, functions whitin a class is more formaly called for methods.\n",
    "\n",
    "\n",
    "**(__init__)** <br>\n",
    "The underscores indicates that this function should not be touched unless its necessary..\n",
    "\n",
    "Python comes with a large number of special methods. All special methods have two underescores in front and at the back of their names. T\n",
    "\n",
    "An Instializer is called whenever an object of the class is created.\n",
    "An initializer is frequently used to initialize the variables. (give them initial values) in the class.\n",
    "\n",
    "The variables which initialized witin the Initializer function are called for **Instance variables**, as they're prefixed with a self keyword.\n",
    "\n",
    "An Instializer is optional, can be installed after objectt creation, later or not \n",
    "\n",
    "**__str__**<br>\n",
    "Is another method that is commonly included when in object creation. Its used to create human readable string that represents the class.\n",
    "\n",
    "\n"
   ]
  },
  {
   "cell_type": "code",
   "execution_count": 18,
   "metadata": {},
   "outputs": [],
   "source": [
    "#   Create a class\n",
    "class ProStaff:\n",
    "\n",
    "    #   Creating a Initializer\n",
    "    def __init__(self, pos, name, salary):\n",
    "\n",
    "        self._pos = pos\n",
    "        self.name = name\n",
    "        self.salary = salary\n",
    "\n",
    "        return print('Creating Prostaff Object')\n",
    "\n",
    "    def __str__(self):\n",
    "\n",
    "        return f'Position {self._pos}, Name {self.name}, Salary {self.salary}'\n",
    "\n",
    "    #   Creating a method called CalculateSalary\n",
    "    def CalculateSalary(self):\n",
    "\n",
    "        ''' CalculateSalary\n",
    "            Calculates the Salary for the employees.\n",
    "        '''\n",
    "        #   Initializing variables\n",
    "        msg = f'\\nEnter number of hours worked for {self.name}'\n",
    "        msg1 = f'\\nEnter the h/rate for {self.name}'\n",
    "\n",
    "        #   Declear inputs\n",
    "        h = input(msg)\n",
    "        hr = input(msg1)\n",
    "\n",
    "        #   Converting from string into integer\n",
    "        h = int(h)\n",
    "        hr = int(hr)\n",
    "\n",
    "        self.salary = h*hr\n",
    "\n",
    "        return self.salary\n"
   ]
  },
  {
   "cell_type": "markdown",
   "metadata": {},
   "source": [
    "##  9.3 Instaniating an Object\n",
    "\n",
    "\n",
    "### How to use the class\n",
    "\n",
    "Create a object (Instantiating an object)\n",
    "As it can be seen in the previous section in the initializer\n",
    "we initialize the object with **Prostaff('Position', 'Name', Salary)**\n",
    "\n",
    "After the object has been instantiated, the **instance variables**, **methods** can be accessed. To access the instance variables and methods we use the dot **.** operator after the object's name to access any instance. e.g (a.pos) to print the output there is no need for the **print()** function.\n",
    "\n",
    "To print a string representation of the object, we pass the object's name  to the **print()** function, when we do this we call **__str__ method**\n",
    "\n",
    "\n",
    "\n"
   ]
  },
  {
   "cell_type": "code",
   "execution_count": 11,
   "metadata": {},
   "outputs": [
    {
     "name": "stdout",
     "output_type": "stream",
     "text": [
      "Creating Prostaff Object\n"
     ]
    },
    {
     "data": {
      "text/plain": [
       "0"
      ]
     },
     "execution_count": 11,
     "metadata": {},
     "output_type": "execute_result"
    }
   ],
   "source": [
    "#   Instantiating an object\n",
    "a = ProStaff('Basic', 'Daniel K', 0)\n",
    "\n",
    "#   Accessing the Variable Instances\n",
    "a.name, a.pos, a.salary\n",
    "\n",
    "#   Altering Instance variables\n",
    "a.pos = 'Mananger'\n",
    "\n",
    "#   Using the class method\n",
    "a.CalculateSalary()\n",
    "\n",
    "#   Calling the __str__ method\n",
    "print(a)"
   ]
  },
  {
   "cell_type": "markdown",
   "metadata": {},
   "source": [
    "##  9.4 Properties\n",
    "\n",
    "Properties provide provide a way to check the values \n",
    "of the changes which we want to make before allowing the changes to occour.\n",
    "\n",
    "Adding a single underscore in front of a variable is a customary way to signal to other programmers. the variable should not be touched directly.\n",
    "\n",
    "\n",
    "    \n",
    "**@property**<br>\n",
    "\n",
    "known as a decorator allows us to alter the functionallity of the method and not directly the instance.\n",
    "\n",
    "\n",
    "\n",
    "This decorator tells the complier, when users trying to updated the value of _pos, it should use the **Position()** method \n",
    "\n",
    "**@method.setter**<br>\n",
    "\n",
    "As loong as the value that is assigned is neither 'Basic' or 'Mananger', there will be no changes made\n",
    "\n",
    "if the value is neither 'Manager' or 'Ceo' the value will not be updated \n",
    "after declaring those two properties, you no longer accsess directly to the value\n",
    "\n",
    "\n",
    "-   Adding single underscore in front of a variable notifies other developer to not accsess that variable directly unless, They have a compelling reason to.\n",
    "\n",
    "- adding two underscores, just means no touchy"
   ]
  },
  {
   "cell_type": "code",
   "execution_count": 25,
   "metadata": {},
   "outputs": [
    {
     "name": "stdout",
     "output_type": "stream",
     "text": [
      "Creating Prostaff Object\n",
      "Getter method\n"
     ]
    },
    {
     "data": {
      "text/plain": [
       "'Basic'"
      ]
     },
     "execution_count": 25,
     "metadata": {},
     "output_type": "execute_result"
    }
   ],
   "source": [
    "#   Create a class\n",
    "class ProStaff:\n",
    "\n",
    "    #   Creating a Initializer\n",
    "    def __init__(self, pos, name, salary):\n",
    "\n",
    "        self._pos = pos\n",
    "        self.name = name\n",
    "        self.salary = salary\n",
    "\n",
    "        return print('Creating Prostaff Object')\n",
    "\n",
    "    def __str__(self):\n",
    "\n",
    "        return f'Position {self._pos}, Name {self.name}, Salary {self.salary}'\n",
    "\n",
    "    # 9.4  Using property decorator\n",
    "    @property\n",
    "\n",
    "    #   Getter method\n",
    "    def Pos(self):\n",
    "\n",
    "        print('Getter method')\n",
    "\n",
    "        return self._pos\n",
    "\n",
    "    #9.4   Setter method\n",
    "    @Pos.setter\n",
    "    def Pos(self, value):\n",
    "\n",
    "        if value == 'Mananger' or value == 'Basic':\n",
    "            self._pos = value\n",
    "\n",
    "        else:\n",
    "            print('Position does not exists. No changes made.')\n",
    "\n",
    "        return\n",
    "\n",
    "    #   Creating a method called CalculateSalary\n",
    "    def CalculateSalary(self):\n",
    "\n",
    "        ''' CalculateSalary\n",
    "            Calculates the Salary for the employees.\n",
    "        '''\n",
    "        #   Initializing variables\n",
    "        msg = f'\\nEnter number of hours worked for {self.name}'\n",
    "        msg1 = f'\\nEnter the h/rate for {self.name}'\n",
    "\n",
    "        #   Declear inputs\n",
    "        h = input(msg)\n",
    "        hr = input(msg1)\n",
    "\n",
    "        #   Converting from string into integer\n",
    "        h = int(h)\n",
    "        hr = int(hr)\n",
    "\n",
    "        self.salary = h*hr\n",
    "\n",
    "        return self.salary\n"
   ]
  },
  {
   "cell_type": "code",
   "execution_count": 26,
   "metadata": {},
   "outputs": [
    {
     "name": "stdout",
     "output_type": "stream",
     "text": [
      "Creating Prostaff Object\n",
      "Position does not exists. No changes made.\n"
     ]
    }
   ],
   "source": [
    "#   Instantiating an object\n",
    "a = ProStaff('Basic', 'Daniel K', 0)\n",
    "\n",
    "#   Accessing the decorator\n",
    "a.Pos = 'CEO'\n",
    "\n"
   ]
  },
  {
   "cell_type": "markdown",
   "metadata": {},
   "source": [
    "##  9.5 Name Mangling\n",
    "\n",
    "When the complier encounts a variable with two leading underscores, it transforms the name by adding a singlee underscore and the class name in front of the variable so by adding doubble underscores to a variable \"hides the variable for the public\"."
   ]
  },
  {
   "cell_type": "code",
   "execution_count": 30,
   "metadata": {},
   "outputs": [
    {
     "data": {
      "text/plain": [
       "5"
      ]
     },
     "execution_count": 30,
     "metadata": {},
     "output_type": "execute_result"
    }
   ],
   "source": [
    "class A:\n",
    "    def __init__(self):\n",
    "        self.__x = 5\n",
    "        self._y = 6\n",
    "a = A()\n",
    "\n",
    "#   Accessing _y\n",
    "a._y\n",
    "#   Accessing __x\n",
    "a._A__x"
   ]
  },
  {
   "cell_type": "markdown",
   "metadata": {},
   "source": [
    "#   9.6 What is Self"
   ]
  }
 ],
 "metadata": {
  "kernelspec": {
   "display_name": "Python 3.10.5 64-bit (windows store)",
   "language": "python",
   "name": "python3"
  },
  "language_info": {
   "codemirror_mode": {
    "name": "ipython",
    "version": 3
   },
   "file_extension": ".py",
   "mimetype": "text/x-python",
   "name": "python",
   "nbconvert_exporter": "python",
   "pygments_lexer": "ipython3",
   "version": "3.10.5"
  },
  "orig_nbformat": 4,
  "vscode": {
   "interpreter": {
    "hash": "da24d7b7dd3c86bb9e13f4aeb887c509d17f7c3ac26293a89f48f4d1d2c687b8"
   }
  }
 },
 "nbformat": 4,
 "nbformat_minor": 2
}
