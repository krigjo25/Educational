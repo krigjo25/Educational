{
 "cells": [
  {
   "cell_type": "markdown",
   "metadata": {},
   "source": [
    "#   Chapter 8 - Working with files Notebook"
   ]
  },
  {
   "cell_type": "markdown",
   "metadata": {},
   "source": [
    "##  8.1 Openning & Reading Text Files\n",
    "    \n",
    "    Modes :\n",
    "        r   - Read Only,\n",
    "        r+  - for read and write\n",
    "        w   - Write Only,\n",
    "                - If the specified file does not exist, it will be created, \n",
    "                otherwise the previous data will be erased\n",
    "\n",
    "        a   - appending text\n",
    "                -   if the specified file does not exist it will be created,\n",
    "                    otherwise any data will be added to the end of the file\n",
    "        \n",
    "    \n",
    "    built-in\n",
    "        f = open('path to txt file','mode')\n",
    "        f.readline() - Reads only one line\n",
    "        f.readlines() - reads everything ( using for i in f print(i)) is an alternative way\n",
    "        f.write() - writes in to the document\n",
    "        read() - reads the document\n",
    "        remove(file)\n",
    "        rename(old|new)"
   ]
  },
  {
   "cell_type": "markdown",
   "metadata": {},
   "source": [
    "##  8.3 Writing text to files"
   ]
  },
  {
   "cell_type": "markdown",
   "metadata": {},
   "source": [
    "##  8.4 Opening and Reading Text Files by Buffer Size\n"
   ]
  },
  {
   "cell_type": "markdown",
   "metadata": {},
   "source": [
    "##  8.5 Opening, Reading and Writing Binary Files\n",
    "    Binary files refer to any file which is non-text e.g (img / video)\n",
    "\n",
    "    Modes\n",
    "        rb - Read binary\n",
    "        wb - write binary\n",
    "\n"
   ]
  },
  {
   "cell_type": "markdown",
   "metadata": {},
   "source": [
    "##  8.6 Rename & Delete Files"
   ]
  }
 ],
 "metadata": {
  "language_info": {
   "name": "python"
  },
  "orig_nbformat": 4
 },
 "nbformat": 4,
 "nbformat_minor": 2
}
