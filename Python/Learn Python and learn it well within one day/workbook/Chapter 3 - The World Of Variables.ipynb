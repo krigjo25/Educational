{
 "cells": [
  {
   "cell_type": "markdown",
   "metadata": {},
   "source": [
    "# Chapter 3 - The World Of Variables WorkBook"
   ]
  },
  {
   "cell_type": "markdown",
   "metadata": {},
   "source": [
    "## 1 Assign the number 11 to a variable"
   ]
  },
  {
   "cell_type": "code",
   "execution_count": 1,
   "metadata": {},
   "outputs": [
    {
     "name": "stdout",
     "output_type": "stream",
     "text": [
      "The variable var has a value of 11\n"
     ]
    }
   ],
   "source": [
    "# Initializing variables\n",
    "var = 11\n",
    "print(f'The variable var has a value of {var}')"
   ]
  },
  {
   "cell_type": "markdown",
   "metadata": {},
   "source": [
    "## 2 Assign a string  to a variable"
   ]
  },
  {
   "cell_type": "code",
   "execution_count": 2,
   "metadata": {},
   "outputs": [
    {
     "name": "stdout",
     "output_type": "stream",
     "text": [
      "Hello Python World !\n"
     ]
    }
   ],
   "source": [
    "var = 'Hello Python World !'\n",
    "print(var)"
   ]
  },
  {
   "cell_type": "markdown",
   "metadata": {},
   "source": [
    "##  3 Assign a name to a variable and print the value of the variable\n",
    "###  3.1 Change the name into a new name"
   ]
  },
  {
   "cell_type": "code",
   "execution_count": 3,
   "metadata": {},
   "outputs": [
    {
     "name": "stdout",
     "output_type": "stream",
     "text": [
      "My name is : Kristoffer\n"
     ]
    }
   ],
   "source": [
    "#   Initializing variable\n",
    "name = 'Kristoffer'\n",
    "\n",
    "#   Printing the value of name\n",
    "print(f'My name is : {name}')\n",
    "\n",
    "#   Initializing variable\n",
    "name = 'Daniel'\n",
    "\n",
    "#   Printing the value of name\n",
    "print(f'variable changed into : {name}')"
   ]
  },
  {
   "cell_type": "markdown",
   "metadata": {},
   "source": [
    "## 4 Determind the output of the following program without running the code\n",
    "\n",
    "\n",
    "num = 3+5\n",
    "num1 = num - 3\n",
    "num1 = num1 +2\n",
    "\n",
    "**num** has the value of 8\n",
    "**num1** has the value of 5\n",
    "**num1** Assigning the num a new value of 7"
   ]
  },
  {
   "cell_type": "code",
   "execution_count": 4,
   "metadata": {},
   "outputs": [
    {
     "name": "stdout",
     "output_type": "stream",
     "text": [
      " num has the value of 8\n",
      "num1 has the value of 5\n",
      "num1 has changed the value from 5 to 7\n"
     ]
    }
   ],
   "source": [
    "\n",
    "#   Initializing variables\n",
    "num = 3+5\n",
    "num1 = num - 3\n",
    "print(f' num has the value of {num}\\nnum1 has the value of {num1}')\n",
    "\n",
    "num1 += 2\n",
    "print(f'num1 has changed the value from 5 to {num1}')"
   ]
  },
  {
   "cell_type": "markdown",
   "metadata": {},
   "source": [
    "## 5 Explain what is wrong with the following statement\n",
    "\n",
    "\n",
    "Variables can not start with numbers so 1num = 7 + 5 will return false, insted num 1 = 7 + 5\"\n"
   ]
  },
  {
   "cell_type": "markdown",
   "metadata": {},
   "source": [
    "## 6 Determind the output of the following program without running the code"
   ]
  },
  {
   "cell_type": "code",
   "execution_count": null,
   "metadata": {},
   "outputs": [],
   "source": [
    "a = 8.5\n",
    "b = 8.5\n",
    "c = a + b\n",
    "print (\"Question 6.1 : \\n a=\", c)\n",
    "\n",
    "a = 6\n",
    "b = 6\n",
    "c = a + b\n",
    "print (\"Question 6.2 :\\n b =\", b)\n",
    "\n",
    "a = b\n",
    "print(\"Question 6.3 : \\n a =\", a, \" new variable was assigned to a\")"
   ]
  }
 ],
 "metadata": {
  "kernelspec": {
   "display_name": "Python 3.10.5 64-bit (windows store)",
   "language": "python",
   "name": "python3"
  },
  "language_info": {
   "codemirror_mode": {
    "name": "ipython",
    "version": 3
   },
   "file_extension": ".py",
   "mimetype": "text/x-python",
   "name": "python",
   "nbconvert_exporter": "python",
   "pygments_lexer": "ipython3",
   "version": "3.10.5"
  },
  "orig_nbformat": 4,
  "vscode": {
   "interpreter": {
    "hash": "8260862554d27b7d0ec26f530052bd6c544de7b0084aa89a3e7dadc962908b17"
   }
  }
 },
 "nbformat": 4,
 "nbformat_minor": 2
}
