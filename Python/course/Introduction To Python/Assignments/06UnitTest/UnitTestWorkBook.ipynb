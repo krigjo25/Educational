{
 "cells": [
  {
   "cell_type": "markdown",
   "metadata": {},
   "source": [
    "#   UnitTest WorkBook"
   ]
  },
  {
   "cell_type": "markdown",
   "metadata": {},
   "source": [
    "##  Testing my twttr\n",
    "\n",
    "In a file called `twttr.py`, reimplement Setting up my twttr from Problem Set 2, restructuring your code per the below, \n",
    "1. `shorten` expects a str as input and returns that same str but with all vowels (A, E, I, O, and U) omitted, whether inputted in uppercase or lowercase.\n",
    "2. Implement one or more functions that collectively test your implementation of shorten thoroughly, each of whose names should begin with test_ so that you can execute your tests with:\n",
    "\n",
    "##  Testing my twttr\n",
    "\n",
    "1. Ensure you have a correct version of twttr.py. Run your tests by executing pytest test_twttr.py. pytest should show that all of your tests have passed.\n",
    "2. Modify the correct version of twttr.py in such a way as to create a bug. Your program might, for example, mistakenly only omit lowercase vowels! Run your tests by executing pytest test_twttr.py. pytest should show that at least one of your tests has failed."
   ]
  },
  {
   "cell_type": "markdown",
   "metadata": {},
   "source": [
    "2. Implement one or more functions that collectively test your implementation of shorten thoroughly, each of whose names should begin with test_ so that you can execute your tests with:"
   ]
  },
  {
   "cell_type": "code",
   "execution_count": null,
   "metadata": {},
   "outputs": [],
   "source": [
    "#   Testing\n",
    "#   Imporing responsories\n",
    "import pytest\n",
    "\n",
    "from twttr import shorten\n",
    "\n",
    "\n",
    "    #   Preparing the lowerCapitalization test\n",
    "\n",
    "def test_func():\n",
    "    #   Testing wether the function is True\n",
    "    #   \n",
    "\n",
    "    assert shorten('twitter') == 'twttr'\n",
    "    assert shorten('TWITTER') == 'TWTTR'\n",
    "\n",
    "    #   Raise AssertionError\n",
    "    if shorten('tw3tt3r') == 'twttr': raise AssertionError\n",
    "    if shorten('.t.w.i.t.t.e.r') == 'twttr': raise AssertionError\n",
    "\n",
    "\n",
    "if __name__ == \"__main__\":\n",
    "    test_func()"
   ]
  },
  {
   "cell_type": "markdown",
   "metadata": {},
   "source": [
    "##  Back to the Bank\n",
    "\n",
    "In a file called `bank.py`, reimplement Home Federal Savings Bank from Problem Set 1, restructuring your code per the below,\n",
    "\n",
    "1. value expects a str as input and returns 0 if that str starts with “hello”, 20 if that str starts with an “h” (but not “hello”), or 100 otherwise \n",
    "3. Treating the str case-insensitively. \n",
    "4. Only main should call print."
   ]
  },
  {
   "cell_type": "code",
   "execution_count": null,
   "metadata": {},
   "outputs": [],
   "source": [
    "from bank.bank import value\n",
    "import pytest\n",
    "\n",
    "def test_func():\n",
    "\n",
    "    assert value('hello') == 0\n",
    "    assert value('hey') == 20\n",
    "    assert value('else') == 100\n",
    "\n",
    "\n",
    "    #   Raise AssertionError\n",
    "\n",
    "\n",
    "    if value('hey') != 20: raise AssertionError\n",
    "    if value ('Hey') != 20: raise AssertionError\n",
    "    if value('Hello') != 0: raise AssertionError\n",
    "    if value('hello') != 0: raise AssertionError\n",
    "    if value('Else') != 100: raise AssertionError\n",
    "    if value('else') != 100: raise AssertionError\n",
    "\n",
    "\n",
    "if __name__ == \"__main__\":\n",
    "    test_func()"
   ]
  },
  {
   "cell_type": "markdown",
   "metadata": {},
   "source": [
    "## Re-requesting a Vanity Plate\n",
    "\n",
    "1. In a file called `plates.py`, reimplement Vanity Plates from Problem Set 2, restructuring your code per the below, wherein is_valid still expects a str as input and returns True if that str meets all requirements and False if it does not, but main is only called if the value of __name__ is \"__main__\":\n",
    "\n",
    "2. in a file called `test_plates.py`, implement four or more functions that collectively test your implementation of `is_valid` thoroughly,\n",
    "3. each of them should start with `test_` so they could be executed in `pytest`"
   ]
  },
  {
   "cell_type": "code",
   "execution_count": null,
   "metadata": {},
   "outputs": [],
   "source": [
    "#   Importing responsories\n",
    "\n",
    "from plates import is_valid\n",
    "import pytest\n",
    "\n",
    "\n",
    "def AlphanumericCheck():\n",
    "\n",
    "    #   Checking if either digits or letters can exteed over 7\n",
    "    if is_valid('1234AAAA'): return False\n",
    "    elif is_valid('AA12AA'): return False\n",
    "    elif is_valid('AAAA01'): return False\n",
    "    elif is_valid('AA01AA'): return False\n",
    "    elif is_valid('01AA22'): return False\n",
    "    elif is_valid('AAA123'): return True\n",
    "\n",
    "\n",
    "def CheckSymbol():\n",
    "\n",
    "    #   Checking if the vanity plates accepts Symbols\n",
    "    if is_valid('@.AA12'): return False\n",
    "    elif is_valid('AA}]12'): return False\n",
    "    elif is_valid('AA12/-'): return False\n",
    "    elif is_valid('AA()'): return False\n",
    "    elif is_valid('AAAAAA'): return True\n",
    "\n",
    "\n",
    "def AlphaLengthCheck():\n",
    "\n",
    "    #   Checking if either digits or letters can exteed over 7\n",
    "\n",
    "    if is_valid('A'): return False\n",
    "    elif is_valid('AAAAAAA'): return False\n",
    "    elif is_valid('1234567'): return False\n",
    "    elif is_valid('12'): return False\n",
    "    else:\n",
    "        return True\n",
    "\n",
    "\n",
    "def test_BaseTest():\n",
    "\n",
    "    if CheckSymbol() != True: raise AssertionError\n",
    "    if AlphanumericCheck() != True:raise AssertionError\n",
    "    if AlphaLengthCheck() != True:raise AssertionError\n",
    "\n",
    "\n",
    "\n",
    "if __name__ == \"__main__\":\n",
    "    test_BaseTest()"
   ]
  },
  {
   "cell_type": "markdown",
   "metadata": {},
   "source": [
    "##  Refueling\n",
    "\n",
    "In a file called `fuel.py`, reimplement Fuel Gauge from Problem Set 3, restructuring your code per the below, wherein:\n",
    "\n",
    "1. Convert expects a str in X/Y format as input.\n",
    "2. Wherein each of X and Y is an integer, and returns that fraction as a percentage.\n",
    "3. Rounded to the nearest int between 0 and 100, inclusive. \n",
    "4. If X and/or Y is not an integer, or if X is greater than Y, then convert should raise a ValueError. If Y is 0, then convert should raise a ZeroDivisionError.\n",
    "gauge expects an int and returns a str that is:\n",
    "\"E\" if that int is less than or equal to 1,\n",
    "\"F\" if that int is greater than or equal to 99,\n",
    "and \"Z%\" otherwise, wherein Z is that same int.\n",
    "\n",
    "Then, in a file called test_fuel.py, implement two or more functions that collectively test your implementations of convert and gauge thoroughly, each of whose names should begin with test_ so that you can execute your tests with:"
   ]
  },
  {
   "cell_type": "code",
   "execution_count": null,
   "metadata": {},
   "outputs": [],
   "source": [
    "#   Importing responsories\n",
    "\n",
    "from fuel.refuel import Convert\n",
    "import pytest\n",
    "\n",
    "def CheckExecptions():\n",
    "    with pytest.raises(ValueError):\n",
    "        Convert('str', 'str')\n",
    "\n",
    "def test_BaseTest():\n",
    "\n",
    "    if CheckExceptions() != True: raise AssertionError\n",
    "\n",
    "\n",
    "\n",
    "\n",
    "if __name__ == \"__main__\":\n",
    "    test_BaseTest()"
   ]
  },
  {
   "cell_type": "code",
   "execution_count": 2,
   "metadata": {},
   "outputs": [],
   "source": [
    "from fuel.fuel import convert\n",
    "\n",
    "assert convert('99/100') == 99, 'tet'"
   ]
  }
 ],
 "metadata": {
  "kernelspec": {
   "display_name": "Python 3.10.5 64-bit",
   "language": "python",
   "name": "python3"
  },
  "language_info": {
   "codemirror_mode": {
    "name": "ipython",
    "version": 3
   },
   "file_extension": ".py",
   "mimetype": "text/x-python",
   "name": "python",
   "nbconvert_exporter": "python",
   "pygments_lexer": "ipython3",
   "version": "3.10.5"
  },
  "orig_nbformat": 4,
  "vscode": {
   "interpreter": {
    "hash": "949777d72b0d2535278d3dc13498b2535136f6dfe0678499012e853ee9abcab1"
   }
  }
 },
 "nbformat": 4,
 "nbformat_minor": 2
}
