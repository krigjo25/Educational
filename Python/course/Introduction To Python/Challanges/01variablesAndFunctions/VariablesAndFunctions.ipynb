{
 "cells": [
  {
   "cell_type": "markdown",
   "metadata": {},
   "source": [
    "# Problem set 0\n",
    "\n",
    "-   Implement a program that prompts the user for input and the outputs the same input in lowercase\n",
    "-   Implement a program that  prompts the user for input then in the output replaceing the space with '...'"
   ]
  },
  {
   "cell_type": "code",
   "execution_count": 6,
   "metadata": {},
   "outputs": [
    {
     "name": "stdout",
     "output_type": "stream",
     "text": [
      "age 23\n"
     ]
    }
   ],
   "source": [
    "#   Indoor.py\n",
    "# Initializing variables\n",
    "\n",
    "a = input('Your name :')\n",
    "b = input ('Age :')\n",
    "\n",
    "# Modifying the input with lower characters\n",
    "a = a.lower() \n",
    "\n",
    "#   Printing the variables\n",
    "print(a, b)"
   ]
  },
  {
   "cell_type": "code",
   "execution_count": 6,
   "metadata": {},
   "outputs": [
    {
     "data": {
      "text/plain": [
       "'Hey...how...are...you?'"
      ]
     },
     "execution_count": 6,
     "metadata": {},
     "output_type": "execute_result"
    }
   ],
   "source": [
    "#   playback.py\n",
    "\n",
    "#   defining a function that prompts the user for inputs\n",
    "\n",
    "def PromptPlayBack():\n",
    "\n",
    "    # Initialize variables & prompt the user\n",
    "    a = input('')\n",
    "\n",
    "    #   Replace the whitespaces with 3 periods\n",
    "    a = a.replace(' ', '...')\n",
    "\n",
    "    return a\n",
    "\n",
    "PromptPlayBack()\n"
   ]
  },
  {
   "cell_type": "code",
   "execution_count": 15,
   "metadata": {},
   "outputs": [
    {
     "data": {
      "text/plain": [
       "':)'"
      ]
     },
     "execution_count": 15,
     "metadata": {},
     "output_type": "execute_result"
    }
   ],
   "source": [
    "#   faces.py\n",
    "\n",
    "#   Defining Convert\n",
    "def Convert():\n",
    "\n",
    "    #   Prompting the user\n",
    "\n",
    "    a = input('Give us a smile :')\n",
    "    a.replace(':)', '🙂')\n",
    "    #   Converting smileys\n",
    "    if ':)' in a:\n",
    "        a.replace(':)', '🙂')\n",
    "    \n",
    "    return a\n",
    "\n",
    "Convert()"
   ]
  },
  {
   "cell_type": "code",
   "execution_count": null,
   "metadata": {},
   "outputs": [],
   "source": [
    "#   einstein.py\n",
    "\n",
    "#   Defining a function to measure the \n",
    "def EnergyMeasured():\n",
    "\n",
    "    #   Initializing variables & prompt the user.\n",
    "\n",
    "    a = input('Joules : ')\n",
    "\n",
    "    #   Prompt the user for mass as integer\n",
    "\n",
    "    #   Algorythm E = mc2\n",
    "\n",
    "    #   Print out the equivalent number of Joules\n",
    "\n",
    "    return\n",
    "\n",
    "EnergyMeasured()"
   ]
  },
  {
   "cell_type": "code",
   "execution_count": 14,
   "metadata": {},
   "outputs": [
    {
     "data": {
      "text/plain": [
       "'Leave $3.75 in tip'"
      ]
     },
     "execution_count": 14,
     "metadata": {},
     "output_type": "execute_result"
    }
   ],
   "source": [
    "#   TipCalculator.py\n",
    "def main():\n",
    "\n",
    "    #   Initializing the variables\n",
    "    #   Asking the user for a input\n",
    "    dollar = dollarsToFloat(input('How much was the meal?'))\n",
    "    percent = percentToFloat(input('What procentage would you like to tip?'),)\n",
    "\n",
    "    #   Calculate the output\n",
    "    tip =  dollar * percent\n",
    "\n",
    "    return f'Leave ${tip:.2f} in tip'\n",
    "\n",
    "def dollarsToFloat(arg):\n",
    "\n",
    "    #   Handling the string\n",
    "    arg = str(arg).replace('$', '')\n",
    "    arg = float(arg)\n",
    "\n",
    "    return arg\n",
    "\n",
    "def percentToFloat(arg):\n",
    "\n",
    "    #   Handling the string\n",
    "    arg = str(arg).replace('%', '')\n",
    "    arg = float(arg)\n",
    "\n",
    "    #   Converting to procentage\n",
    "    arg /= 100\n",
    "\n",
    "    return arg\n",
    "\n",
    "main()"
   ]
  }
 ],
 "metadata": {
  "kernelspec": {
   "display_name": "Python 3.10.5 64-bit (windows store)",
   "language": "python",
   "name": "python3"
  },
  "language_info": {
   "codemirror_mode": {
    "name": "ipython",
    "version": 3
   },
   "file_extension": ".py",
   "mimetype": "text/x-python",
   "name": "python",
   "nbconvert_exporter": "python",
   "pygments_lexer": "ipython3",
   "version": "3.10.5"
  },
  "orig_nbformat": 4,
  "vscode": {
   "interpreter": {
    "hash": "da24d7b7dd3c86bb9e13f4aeb887c509d17f7c3ac26293a89f48f4d1d2c687b8"
   }
  }
 },
 "nbformat": 4,
 "nbformat_minor": 2
}
