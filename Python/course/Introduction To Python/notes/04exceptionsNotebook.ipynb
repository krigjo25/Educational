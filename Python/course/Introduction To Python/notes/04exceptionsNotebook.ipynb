{
 "cells": [
  {
   "cell_type": "markdown",
   "metadata": {},
   "source": [
    "#  Exceptions Notebook"
   ]
  },
  {
   "cell_type": "markdown",
   "metadata": {},
   "source": [
    "##  Exceptions\n",
    "\n",
    "Exceptions are things that goes wrong with the code.<br>\n",
    "\n",
    "*code :*<br>\n",
    "`print('Hello world)`\n",
    "\n",
    "In the code above, the last single quotation mark is left out intetionally.<br>\n",
    "By running the code an error is recived as an output. The complier states<br>\n",
    "that it is a \"syntax error\", Syntax errors are those that require you to doubble-<br>\n",
    "check that the code has to be corrected.\n",
    "\n",
    "[Python's documentation of Errors and Exceptions](https://docs.python.org/3/tutorial/errors.html)"
   ]
  },
  {
   "cell_type": "markdown",
   "metadata": {},
   "source": [
    "## Runtime errors\n",
    "\n",
    "Runtime errors refer to those created by an unexpected behavior within the code.<br>\n",
    "Perheps the intention were that the user to input a numberm but the user<br>\n",
    "inserted a character instead. The program may throw an error, because of the<br>\n",
    "unexpected input for the user.\n",
    "\n"
   ]
  },
  {
   "cell_type": "code",
   "execution_count": null,
   "metadata": {},
   "outputs": [],
   "source": [
    "#   Example 4.1\n",
    "\n",
    "#   prompting the user for an input\n",
    "x = int(input('What is x ? :'))\n",
    "print(f'x is {x}')"
   ]
  },
  {
   "cell_type": "markdown",
   "metadata": {},
   "source": [
    "By including the *f*, the Python complier interpolates what is in the<br>\n",
    "curly braces as the value of **x**. Further, testing out the code, imagne<br>\n",
    "how one could easily type in a string or a character instead of a number.<br>\n",
    "Even still, a user could type nothing at all (Simply hitting the enter).\n",
    "\n",
    "As programmer, its recommended to be defensive to ensure that our users<br>\n",
    "are entering what we expected. 'Corner cases' might be considered such as<br>\n",
    "(*-1, 0 or cat*).\n",
    "\n",
    "If the program is running and the user has inputed the word 'cat', the output<br>\n",
    "will be `ValueError: ubvakud literal for int() with base 10: 'cat'`<br>\n",
    "Essentially, the interpreter does not accept the argument 'cat' to the print function.\n",
    "\n",
    "An effective strategy to fix this pontential error would be to create an<br>\n",
    "'error handling' to ensure the user behaves as we intend.<br>\n",
    "\n",
    "[Python's documentation of Error & Exceptions](https://docs.python.org/3/tutorial/errors.html)\n"
   ]
  },
  {
   "cell_type": "markdown",
   "metadata": {},
   "source": [
    "### Try\n",
    "\n",
    "In Python `try and except` are ways of testing out user input before something<br>\n",
    "goes wrong. "
   ]
  },
  {
   "cell_type": "code",
   "execution_count": null,
   "metadata": {},
   "outputs": [],
   "source": [
    "#   Example 4.2\n",
    "\n",
    "\n",
    "try :\n",
    "    x = int(input('What is x? : '))\n",
    "    print(f'x is {x}')\n",
    "\n",
    "except ValueError:\n",
    "    print (f'x is not an integer')"
   ]
  },
  {
   "cell_type": "markdown",
   "metadata": {},
   "source": [
    "Notice how, running the code, inputting `50` will be accepted.<br>\n",
    "However typing an character, word or a sentence will produce an error<br>\n",
    "which is visible to the user, instructing them \"why\" their input were not accepted.<br>\n",
    "\n",
    "The code can be further improved. Notice that we trying to do two lines of code. <br>\n",
    "For the best practice, try should be a fewest lines of code as possible that could fail.\n"
   ]
  },
  {
   "cell_type": "code",
   "execution_count": 2,
   "metadata": {},
   "outputs": [
    {
     "name": "stdout",
     "output_type": "stream",
     "text": [
      "x is 1\n"
     ]
    }
   ],
   "source": [
    "#   Example 4.3\n",
    "\n",
    "try :\n",
    "    x = int(input('What is x? : '))\n",
    "\n",
    "except ValueError:\n",
    "    print (f'x is not an integer')\n",
    "\n",
    "print(f'x is {x}')"
   ]
  },
  {
   "cell_type": "markdown",
   "metadata": {},
   "source": [
    "Notice that while this accomplishes the goal of trying a few lines<br>\n",
    "as possible, there is a new error ! There is a `namespace` error where<br>\n",
    "x is not defined. Look at the code and consider<br>\n",
    "`How can it be that is x not defined in some cases?`\n",
    "\n",
    "If the code is examined, the order of operation in line 5 is<br>\n",
    "`x = int(input('What is x? :))`, working right to left, it could<br>\n",
    "take an incorrectly inputted character and attempt to assign it as<br>\n",
    "an integer. If this fails, the assignment of the value of x never occours.<br>\n",
    "Therefore, there is no x to print on our final line of code."
   ]
  },
  {
   "cell_type": "markdown",
   "metadata": {},
   "source": [
    "###  Else\n",
    "\n",
    "It turns out that there is another way to implement `try` that could<br>\n",
    "catch error of this nature.\n"
   ]
  },
  {
   "cell_type": "code",
   "execution_count": 1,
   "metadata": {},
   "outputs": [
    {
     "ename": "SyntaxError",
     "evalue": "'break' outside loop (1666221810.py, line 11)",
     "output_type": "error",
     "traceback": [
      "\u001b[0;36m  Input \u001b[0;32mIn [1]\u001b[0;36m\u001b[0m\n\u001b[0;31m    break\u001b[0m\n\u001b[0m    ^\u001b[0m\n\u001b[0;31mSyntaxError\u001b[0m\u001b[0;31m:\u001b[0m 'break' outside loop\n"
     ]
    }
   ],
   "source": [
    "#   Example 4.4\n",
    "\n",
    "try :\n",
    "    x = int(input('What is x? : '))\n",
    "\n",
    "except ValueError:\n",
    "    print (f'x is not an integer')\n",
    "\n",
    "else:\n",
    "    print(f'x is {x}')\n",
    "    "
   ]
  },
  {
   "cell_type": "markdown",
   "metadata": {},
   "source": [
    "Notice that if no exception occurs, it will then run the block<br>\n",
    "within `else`. Running the program, and supplying 50, the result<br>\n",
    "will be printed. Next submitting 'cat'. the program catches the error.\n",
    "\n",
    "Considering improving the code, notice that we are being a bit rude<br>\n",
    "to the users. If our user does not cooperate, the program simply ends.<br>\n",
    "Consider how a loop could be used to prompt the user for `x` and if they<br>\n",
    "don't prompt again"
   ]
  },
  {
   "cell_type": "code",
   "execution_count": 3,
   "metadata": {},
   "outputs": [
    {
     "name": "stdout",
     "output_type": "stream",
     "text": [
      "x is not an integer\n",
      "x is not an integer\n",
      "x is not an integer\n",
      "x is 1\n"
     ]
    }
   ],
   "source": [
    "#   Example 4.5\n",
    "\n",
    "while True:\n",
    "\n",
    "    try :\n",
    "        x = int(input('What is x? : '))\n",
    "\n",
    "    except ValueError:\n",
    "        print (f'x is not an integer')\n",
    "\n",
    "    else:\n",
    "        break\n",
    "\n",
    "print(f'x is {x}')\n"
   ]
  },
  {
   "cell_type": "markdown",
   "metadata": {},
   "source": [
    "Noticve that `while true` will loop forever.<br>\n",
    "If the user succeeds in supplying the correct input<br>\n",
    "we can break from the loop and then print the output.<br>\n",
    "Now a user that inputs something incorrectly will be asked<br>\n",
    "for an input again."
   ]
  },
  {
   "cell_type": "markdown",
   "metadata": {},
   "source": [
    "##  Creating a Function to Get an Integer\n",
    "\n",
    "There are manyu times that the program request an integer from the user\n",
    "\n"
   ]
  },
  {
   "cell_type": "code",
   "execution_count": null,
   "metadata": {},
   "outputs": [],
   "source": [
    "#   Example 4.6\n",
    "\n",
    "def main():\n",
    "\n",
    "    x = GetInt()\n",
    "    print(f'x is {x}')\n",
    "\n",
    "    return\n",
    "\n",
    "def GetInt():\n",
    "\n",
    "    while True:\n",
    "\n",
    "        try :\n",
    "            x = int(input('What is x? : '))\n",
    "\n",
    "        except ValueError:\n",
    "            print (f'x is not an integer')\n",
    "\n",
    "        else:\n",
    "            break\n",
    "\n",
    "    return x\n",
    "\n",
    "main()\n"
   ]
  },
  {
   "cell_type": "markdown",
   "metadata": {},
   "source": [
    "Notice that the program manifasting many great properties.<br>\n",
    "First there is a abstaracted way the ability to get an integer.<br>\n",
    "Now the whole program boils down to the first three lines of the code.\n",
    "\n",
    "Even still there is room for improvement for the program.<br>\n",
    "Consider what else could be done to improve the program."
   ]
  },
  {
   "cell_type": "code",
   "execution_count": null,
   "metadata": {},
   "outputs": [],
   "source": [
    "#   Example 4.7\n",
    "\n",
    "def main():\n",
    "\n",
    "    x = GetInt()\n",
    "    print(f'x is {x}')\n",
    "\n",
    "    return\n",
    "\n",
    "def GetInt():\n",
    "\n",
    "    while True:\n",
    "\n",
    "        try :\n",
    "            x = int(input('What is x? : '))\n",
    "\n",
    "        except ValueError:\n",
    "            print (f'x is not an integer')\n",
    "\n",
    "        else:\n",
    "            return x\n",
    "\n",
    "main()"
   ]
  },
  {
   "cell_type": "markdown",
   "metadata": {},
   "source": [
    "Notice the `return` will not only break out of the loop, but also return the value of `x`<br>\n",
    "Some people may argue, and suggest the following"
   ]
  },
  {
   "cell_type": "code",
   "execution_count": null,
   "metadata": {},
   "outputs": [],
   "source": [
    "#   Example 4.8\n",
    "\n",
    "def main():\n",
    "\n",
    "    x = GetInt()\n",
    "    print(f'x is {x}')\n",
    "\n",
    "    return\n",
    "\n",
    "def GetInt():\n",
    "\n",
    "    while True:\n",
    "\n",
    "        try :\n",
    "            x = int(input('What is x? : '))\n",
    "\n",
    "        except ValueError:\n",
    "            print (f'x is not an integer')\n",
    "\n",
    "main()"
   ]
  },
  {
   "cell_type": "markdown",
   "metadata": {},
   "source": [
    "In the program there is fewerlines, `else:return x` is removed.<br>\n",
    "\n",
    "### Pass\n",
    "\n",
    "The program can be programmed to not warn the user, by using `pass` argument, and simply re-ask the question.\n",
    "\n"
   ]
  },
  {
   "cell_type": "code",
   "execution_count": null,
   "metadata": {},
   "outputs": [],
   "source": [
    "#   Example 4.9\n",
    "\n",
    "def main():\n",
    "\n",
    "    x = GetInt()\n",
    "    print(f'x is {x}')\n",
    "\n",
    "    return\n",
    "\n",
    "def GetInt():\n",
    "\n",
    "    while True:\n",
    "\n",
    "        try :\n",
    "            x = int(input('What is x? : '))\n",
    "\n",
    "        except ValueError:\n",
    "            pass\n",
    "\n",
    "main()"
   ]
  },
  {
   "cell_type": "markdown",
   "metadata": {},
   "source": [
    "Notice that the code will still function, but will not<br>\n",
    "inform the user, of their error. In some cases, the error<br>\n",
    "has to be very clear to the user, what error is produced.<br>\n",
    "Other times simply asking for the input again.\n",
    "\n",
    "One final improvement that could improve the implementation<br>\n",
    "the `GetInt` function. Right now, notice that we are relying<br> currently upon the honor system that we x is in both the main<br>\n",
    "and get_int functions. We probably want to pass in a prompt<br>\n",
    "that the user sees when asked for input. Modify your code as<br>\n",
    "follows.\n",
    "\n",
    "[Python's documentation of pass](https://docs.python.org/3/tutorial/controlflow.html#pass-statements)"
   ]
  },
  {
   "cell_type": "code",
   "execution_count": null,
   "metadata": {},
   "outputs": [],
   "source": [
    "#   Example 4.10\n",
    "\n",
    "def main():\n",
    "    x = get_int(\"What's x? \")\n",
    "    print(f\"x is {x}\")\n",
    "\n",
    "\n",
    "def get_int(prompt):\n",
    "    while True:\n",
    "        try:\n",
    "            return int(input(prompt))\n",
    "        except ValueError:\n",
    "            pass\n",
    "\n",
    "\n",
    "main()"
   ]
  }
 ],
 "metadata": {
  "kernelspec": {
   "display_name": "Python 3.10.5 64-bit",
   "language": "python",
   "name": "python3"
  },
  "language_info": {
   "codemirror_mode": {
    "name": "ipython",
    "version": 3
   },
   "file_extension": ".py",
   "mimetype": "text/x-python",
   "name": "python",
   "nbconvert_exporter": "python",
   "pygments_lexer": "ipython3",
   "version": "3.10.5"
  },
  "orig_nbformat": 4,
  "vscode": {
   "interpreter": {
    "hash": "949777d72b0d2535278d3dc13498b2535136f6dfe0678499012e853ee9abcab1"
   }
  }
 },
 "nbformat": 4,
 "nbformat_minor": 2
}
