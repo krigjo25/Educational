{
 "cells": [
  {
   "cell_type": "code",
   "execution_count": 1,
   "metadata": {},
   "outputs": [
    {
     "data": {
      "image/png": "[encoded data removed]",
      "text/plain": [
       "<Figure size 432x288 with 1 Axes>"
      ]
     },
     "metadata": {
      "needs_background": "light"
     },
     "output_type": "display_data"
    }
   ],
   "source": [
    "#   importing Python libraries\n",
    "import numpy as np\n",
    "import pandas as pd\n",
    "import matplotlib.pyplot as plt\n",
    "%matplotlib inline\n",
    "\n",
    "#   Example 1.0\n",
    "#   Initialize lists\n",
    "x = [2,3, 4, 6, 2, 8, 6, 9, 12, 1, 7, 1]\n",
    "y = [10, 3, 4, 12, 5, 12, 4, 5, 6, 8, 9, 10]\n",
    "\n",
    "#   Scatter the lists\n",
    "plt.scatter(x,y)\n",
    "plt.show()"
   ]
  },
  {
   "cell_type": "markdown",
   "metadata": {},
   "source": [
    "# Matplotlib\n",
    "\n",
    "Notes :\n",
    "We specify the backend by adding %matplotlib inline below import statement. Its responsible for the rendering of the chart\n",
    "\n",
    "Matplotlib allows us to specify the structure of the chart\n",
    "(such as plot, scatter plot, bar chart, what data to use, the title, etc.) but not the chart itself\n",
    "\n",
    "The chart relies on a user-specified backend. %matplotlib inline\n",
    "specifies jupyter's own backend to genereate the chart.\n",
    "\n",
    "## Plotting a Scatter plot\n",
    "\n",
    "A Scatter plot shows the relationshiip between two variables and assist us in narrowing down the types of ML to build.\n",
    "\n",
    "To plot a scatter plot. Use the scatter() function. Most of matplotlib's functions allows 1D array structures. As **ex 1.0**.\n",
    "\n",
    "## ex\n",
    "*   Declare'ing initialize two lists x & y.\n",
    "-   Scattering the values in x and y.\n",
    "-   Showing the chart"
   ]
  },
  {
   "cell_type": "code",
   "execution_count": 2,
   "metadata": {},
   "outputs": [
    {
     "data": {
      "image/png": "[encoded data removed]",
      "text/plain": [
       "<Figure size 432x288 with 1 Axes>"
      ]
     },
     "metadata": {
      "needs_background": "light"
     },
     "output_type": "display_data"
    }
   ],
   "source": [
    "#   4.2.2 Plotting a Bar Chart\n",
    "\n",
    "#   Initializing lists\n",
    "x = ['0-3','4-6','7-9']\n",
    "y = [20, 50, 30]\n",
    "plt.bar(x, y)\n",
    "plt.show()"
   ]
  },
  {
   "cell_type": "markdown",
   "metadata": {},
   "source": [
    "#   4.2.2 Plotting a Bar Chart\n",
    "Plotting a bar chart by using categorical data.\n",
    "\n",
    "## Example\n",
    "We declared two lists\n",
    "\n",
    "x consists of three categories, while y consist of some measured values, coresponding to the three categories\n"
   ]
  },
  {
   "cell_type": "code",
   "execution_count": 6,
   "metadata": {},
   "outputs": [
    {
     "data": {
      "image/png": "[encoded data removed]",
      "text/plain": [
       "<Figure size 432x288 with 1 Axes>"
      ]
     },
     "metadata": {
      "needs_background": "light"
     },
     "output_type": "display_data"
    }
   ],
   "source": [
    "#Example 4.2.3\n",
    "x = [7, 7, 7, 1, 1, 0, 0, 4, 5, 5, 6, 6, 8, 9, 9, 10]\n",
    "plt.hist(x, bins=5)\n",
    "plt.show()"
   ]
  },
  {
   "cell_type": "markdown",
   "metadata": {},
   "source": [
    "# 4.2.3 Plotting a Histogram\n",
    "A histogram is similar to a bar char, but more suitable for non categorical data. Commonly used to show frequency distributions\n",
    "\n",
    "# Example 4.2.3\n",
    "* We declared a list\n",
    "* We used the hist() function to plot a histogram, specifying the number of bins as 5\n",
    "Range of 0-10 is devided into 5 equal width bins\n",
    "The height of each bar represents the frequency **( number of elements within each interval)**"
   ]
  },
  {
   "cell_type": "code",
   "execution_count": null,
   "metadata": {},
   "outputs": [],
   "source": [
    "x = [7, 1, 4, 8, 8, 2, 3]\n",
    "y = [98, 2, 32, 128, 15, 28, 18]\n",
    "plt.plot(x,y)"
   ]
  },
  {
   "cell_type": "markdown",
   "metadata": {},
   "source": [
    "# 4.2.4 Plotting a Line Graph\n",
    "Plotting a line graph by using the function plot(). "
   ]
  }
 ],
 "metadata": {
  "kernelspec": {
   "display_name": "Python 3.10.5 ('env': venv)",
   "language": "python",
   "name": "python3"
  },
  "language_info": {
   "codemirror_mode": {
    "name": "ipython",
    "version": 3
   },
   "file_extension": ".py",
   "mimetype": "text/x-python",
   "name": "python",
   "nbconvert_exporter": "python",
   "pygments_lexer": "ipython3",
   "version": "3.10.5"
  },
  "orig_nbformat": 4,
  "vscode": {
   "interpreter": {
    "hash": "7a0fc58e3c529e0d1d966b1ae5dc414f3938d1421fe22fc58fd1cb1702f1f263"
   }
  }
 },
 "nbformat": 4,
 "nbformat_minor": 2
}
