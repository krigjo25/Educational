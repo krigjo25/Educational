{
 "cells": [
  {
   "cell_type": "markdown",
   "metadata": {},
   "source": [
    "#   NumPy\n",
    "\n",
    "## What is NumPy\n",
    "\n",
    "* It's designed to work with arrays. Basic Python arrays has limited functionalities Which means you can not work with advanced mathematical operations with basic arrays.\n",
    "\n",
    "* NumPy can perform various complex operations on arrays including shape manipulation, basic linear algebra, random simulation and more.\n",
    "\n",
    "The main structure of NumPy is object known as the ndarray. Its an multidimentional array of elements, which typical is an array itself.\n",
    "\n",
    "Datasets in ML are frequently stored as 2D ndarrays\n",
    "Therefore, familiarity with NumPy is essential\n",
    "\n",
    "## 2.2 Importing the NumPy Library¨\n",
    "to work with NumPt, it needs to be imported\n",
    "its customary to use np as the alias for NumPy\n"
   ]
  },
  {
   "cell_type": "code",
   "execution_count": 2,
   "metadata": {},
   "outputs": [],
   "source": [
    "\n",
    "#   2.2 Importing NumPy\n",
    "#   Importing Python Repositories\n",
    "import numpy as np\n"
   ]
  },
  {
   "cell_type": "markdown",
   "metadata": {},
   "source": [
    "# 2.3 Creating a NumPy Array\n",
    "There is two ways to create an ndarray.\n",
    "The first is to convert a Python like array Structure (list / tuple)\n",
    "The Second way is to directly use np.array([list values])\n",
    "\n",
    "# Example\n",
    "list1 & list2 are similar, except list1 har one set of square brackets (1Dimentional array)\n",
    "while the second one has two square brackets (2 Dimentional array). list3 has three nested lists with four elements (2 Dimentional arrays)\n",
    "\n",
    "After the list declearation we pass them to the NumPy array() to convert them into ndarrays.\n",
    "The output for checking the type of an array indicates the list has been successfully converted into NumPy arrays. By checking the output of ndarray shape inform us the number of elements in it, also wheter its a (1) 1D or (1,2) 2D array basicly (nestedarray,elements).\n",
    "\n",
    "To create an array from the scratch we use the buildt-in function linspace(start, stop, num).\n",
    "It generates a floating point numbers by default (Jupyter prints decimals as comma)"
   ]
  },
  {
   "cell_type": "code",
   "execution_count": null,
   "metadata": {},
   "outputs": [],
   "source": [
    "#   Example\n",
    "#   Initializing lists\n",
    "\n",
    "#   Initializing 1D Array\n",
    "list1 = [1, 2, 3, 4, 5 , 6, 7, 8, 9]\n",
    "\n",
    "#   Initializing 2D Array\n",
    "list2 = [[list1.copy()]]\n",
    "\n",
    "list3 = [\n",
    "            [list1.copy()], \n",
    "            [10, 20, 30, 40], \n",
    "            [100, 200, 300, 400], ]\n",
    "\n",
    "#   Converting lists into numpy arrays\n",
    "\n",
    "ar = np.array(list1)\n",
    "ar1= np.array(list2)\n",
    "ar2= np.array(list3)\n",
    "ar3 = np.linspace(0,10,15)\n",
    "\n",
    "print(f'Checking which type the NumPy arrays is\\n{type(ar)}\\n\\nSecond list:\\n{type(ar1)}\\n\\nThird list:\\n{type(ar2)}\\n')\n",
    "\n",
    "print(ar.shape, ar1.shape, ar2.shape)\n",
    "print(ar1[0,1])"
   ]
  },
  {
   "cell_type": "markdown",
   "metadata": {},
   "source": [
    "# 2.4 Selecting Data from a NumPy Array\n",
    "\n",
    "Acccess NumPy Array in the same way as Python by using indexes. \n",
    "Indexes starts from 0, and negative values starts from the back.\n",
    "\n",
    "2D Arrays can be accsessed the same way as 2D lists, and by adding [0,1] a second value\n",
    "The first value access the first element in the array, the second element is accessed by using a second value\n",
    "\n",
    "By using the [start:stop:step] notation we can slince the NumPy array it can be used in 2D ndarrays also\n",
    "[0:2,2:4]. Slice before the comma, selects the rows, while the slice after selects the columns\n",
    "\n",
    "tip :\n",
    "Working with 2D arrays like a table.\n"
   ]
  },
  {
   "cell_type": "code",
   "execution_count": null,
   "metadata": {},
   "outputs": [],
   "source": [
    "#   Example\n",
    "\n",
    "print(f'Printing output of the np array {ar[0]}\\n {ar[-1]}')\n",
    "print(f'Printing a 2D array:\\n {ar2[0][1]}\\n {ar2[0,1]}')\n",
    "print(f'Slicing a 1D array:\\n {ar[1:3:2]}\\n Slice a 2D array\\n {ar2[0:2,2:4]}\\n')"
   ]
  },
  {
   "cell_type": "markdown",
   "metadata": {},
   "source": [
    "# 2.5 ndarray Methods"
   ]
  },
  {
   "cell_type": "code",
   "execution_count": null,
   "metadata": {},
   "outputs": [],
   "source": [
    "\n",
    "#  2.5 ndarray methods\n",
    "\n",
    "arg = ar.sum()\n",
    "arg1 = ar1.sum(axis=1)\n",
    "arg2 = ar2.sum(axis=0)\n",
    "print(f'Sum :\\n{arg}\\n\\nSum with axis 1:\\n{arg1}\\n\\nSum with axis 0:\\n{arg2}\\n')\n",
    "\n",
    "#  Rehapeshaping 1D list, one row, 9 columns\n",
    "\n",
    "arg = ar1.reshape(1,9)\n",
    "print(f'Original array:\\n{ar}\\n\\nRechaping the 1D list:\\n{arg}\\n')\n"
   ]
  },
  {
   "cell_type": "markdown",
   "metadata": {},
   "source": [
    "#   2.6 NumPy Functions\n",
    "\n",
    "#   NumPy Wrapper functions"
   ]
  },
  {
   "cell_type": "code",
   "execution_count": null,
   "metadata": {},
   "outputs": [],
   "source": [
    "# 2.6    Numpy FUnctions\n",
    "arr = np.array([[1, 2], [3, 4]])\n",
    "arr1 = np.array([[5, 6], [7, 8]])\n",
    "arr2 = np.array([[9, 10], [11, 12], [13, 14], [15,16]])\n",
    "\n",
    "com = np.concatenate((arr, arr1))\n",
    "rom = np.concatenate((com, arr2))\n",
    "\n",
    "print(f'Arrays to concatenates\\n {arr}, {arr1}\\nConcatenates the arrays into \\n{com}')\n",
    "print(f'Concatenates the Three arrays into \\n{rom}')\n",
    "\n",
    "#   NumPy Wrapper functions\n",
    "r = arr.reshape(2,-1)\n",
    "r1 = np.reshape(arr,(2,-1))\n",
    "print(f'{r}\\n{r1}')"
   ]
  },
  {
   "cell_type": "markdown",
   "metadata": {},
   "source": [
    "#   NumPy Notebook"
   ]
  }
 ],
 "metadata": {
  "kernelspec": {
   "display_name": "Python 3.10.5 ('env': venv)",
   "language": "python",
   "name": "python3"
  },
  "language_info": {
   "codemirror_mode": {
    "name": "ipython",
    "version": 3
   },
   "file_extension": ".py",
   "mimetype": "text/x-python",
   "name": "python",
   "nbconvert_exporter": "python",
   "pygments_lexer": "ipython3",
   "version": "3.10.5"
  },
  "orig_nbformat": 4,
  "vscode": {
   "interpreter": {
    "hash": "7a0fc58e3c529e0d1d966b1ae5dc414f3938d1421fe22fc58fd1cb1702f1f263"
   }
  }
 },
 "nbformat": 4,
 "nbformat_minor": 2
}
