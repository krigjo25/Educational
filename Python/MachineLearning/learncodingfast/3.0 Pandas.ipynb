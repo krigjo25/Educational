{
 "cells": [
  {
   "cell_type": "markdown",
   "metadata": {},
   "source": [
    "# What is pandas?\n",
    "\n",
    "Pandas is an open-source library built on top of NumPy. Which provide us new data structures ( Series & Dataframe).\n",
    "\n",
    "Pandas is designed to work with tabular data.\n",
    "\n",
    "Pandas Series is a 1D data structure, similar to 1D NumPy arrays or Python list. The main difference is its label\n",
    "\n",
    "Pandas DataFrame is a 2D labeled data structure"
   ]
  },
  {
   "cell_type": "code",
   "execution_count": 1,
   "metadata": {},
   "outputs": [
    {
     "ename": "AttributeError",
     "evalue": "module 'numpy' has no attribute 'ndarray'",
     "output_type": "error",
     "traceback": [
      "\u001b[1;31m---------------------------------------------------------------------------\u001b[0m",
      "\u001b[1;31mAttributeError\u001b[0m                            Traceback (most recent call last)",
      "\u001b[1;32mc:\\Users\\krigj_b\\Documents\\Educational\\Python\\MachineLearning\\learncodingfast\\3.0 Pandas.ipynb Cell 2'\u001b[0m in \u001b[0;36m<cell line: 4>\u001b[1;34m()\u001b[0m\n\u001b[0;32m      <a href='vscode-notebook-cell:/c%3A/Users/krigj_b/Documents/Educational/Python/MachineLearning/learncodingfast/3.0%20Pandas.ipynb#ch0000001?line=0'>1</a>\u001b[0m \u001b[39m#  Chapter 3, Pandas library.\u001b[39;00m\n\u001b[0;32m      <a href='vscode-notebook-cell:/c%3A/Users/krigj_b/Documents/Educational/Python/MachineLearning/learncodingfast/3.0%20Pandas.ipynb#ch0000001?line=1'>2</a>\u001b[0m \u001b[39m# 3.2 importing pandas\u001b[39;00m\n\u001b[0;32m      <a href='vscode-notebook-cell:/c%3A/Users/krigj_b/Documents/Educational/Python/MachineLearning/learncodingfast/3.0%20Pandas.ipynb#ch0000001?line=2'>3</a>\u001b[0m \u001b[39mimport\u001b[39;00m \u001b[39mnumpy\u001b[39;00m \u001b[39mas\u001b[39;00m \u001b[39mnp\u001b[39;00m\n\u001b[1;32m----> <a href='vscode-notebook-cell:/c%3A/Users/krigj_b/Documents/Educational/Python/MachineLearning/learncodingfast/3.0%20Pandas.ipynb#ch0000001?line=3'>4</a>\u001b[0m \u001b[39mimport\u001b[39;00m \u001b[39mpandas\u001b[39;00m \u001b[39mas\u001b[39;00m \u001b[39mpd\u001b[39;00m\n",
      "File \u001b[1;32mc:\\Users\\krigj_b\\Documents\\Educational\\Python\\MachineLearning\\env\\lib\\site-packages\\pandas\\__init__.py:22\u001b[0m, in \u001b[0;36m<module>\u001b[1;34m\u001b[0m\n\u001b[0;32m     19\u001b[0m \u001b[39mdel\u001b[39;00m hard_dependencies, dependency, missing_dependencies\n\u001b[0;32m     21\u001b[0m \u001b[39m# numpy compat\u001b[39;00m\n\u001b[1;32m---> 22\u001b[0m \u001b[39mfrom\u001b[39;00m \u001b[39mpandas\u001b[39;00m\u001b[39m.\u001b[39;00m\u001b[39mcompat\u001b[39;00m \u001b[39mimport\u001b[39;00m is_numpy_dev \u001b[39mas\u001b[39;00m _is_numpy_dev\n\u001b[0;32m     24\u001b[0m \u001b[39mtry\u001b[39;00m:\n\u001b[0;32m     25\u001b[0m     \u001b[39mfrom\u001b[39;00m \u001b[39mpandas\u001b[39;00m\u001b[39m.\u001b[39;00m\u001b[39m_libs\u001b[39;00m \u001b[39mimport\u001b[39;00m hashtable \u001b[39mas\u001b[39;00m _hashtable, lib \u001b[39mas\u001b[39;00m _lib, tslib \u001b[39mas\u001b[39;00m _tslib\n",
      "File \u001b[1;32mc:\\Users\\krigj_b\\Documents\\Educational\\Python\\MachineLearning\\env\\lib\\site-packages\\pandas\\compat\\__init__.py:14\u001b[0m, in \u001b[0;36m<module>\u001b[1;34m\u001b[0m\n\u001b[0;32m     11\u001b[0m \u001b[39mimport\u001b[39;00m \u001b[39mplatform\u001b[39;00m\n\u001b[0;32m     12\u001b[0m \u001b[39mimport\u001b[39;00m \u001b[39msys\u001b[39;00m\n\u001b[1;32m---> 14\u001b[0m \u001b[39mfrom\u001b[39;00m \u001b[39mpandas\u001b[39;00m\u001b[39m.\u001b[39;00m\u001b[39m_typing\u001b[39;00m \u001b[39mimport\u001b[39;00m F\n\u001b[0;32m     15\u001b[0m \u001b[39mfrom\u001b[39;00m \u001b[39mpandas\u001b[39;00m\u001b[39m.\u001b[39;00m\u001b[39mcompat\u001b[39;00m\u001b[39m.\u001b[39;00m\u001b[39mnumpy\u001b[39;00m \u001b[39mimport\u001b[39;00m (\n\u001b[0;32m     16\u001b[0m     is_numpy_dev,\n\u001b[0;32m     17\u001b[0m     np_version_under1p19,\n\u001b[0;32m     18\u001b[0m     np_version_under1p20,\n\u001b[0;32m     19\u001b[0m )\n\u001b[0;32m     20\u001b[0m \u001b[39mfrom\u001b[39;00m \u001b[39mpandas\u001b[39;00m\u001b[39m.\u001b[39;00m\u001b[39mcompat\u001b[39;00m\u001b[39m.\u001b[39;00m\u001b[39mpyarrow\u001b[39;00m \u001b[39mimport\u001b[39;00m (\n\u001b[0;32m     21\u001b[0m     pa_version_under1p01,\n\u001b[0;32m     22\u001b[0m     pa_version_under2p0,\n\u001b[0;32m     23\u001b[0m     pa_version_under3p0,\n\u001b[0;32m     24\u001b[0m     pa_version_under4p0,\n\u001b[0;32m     25\u001b[0m )\n",
      "File \u001b[1;32mc:\\Users\\krigj_b\\Documents\\Educational\\Python\\MachineLearning\\env\\lib\\site-packages\\pandas\\_typing.py:78\u001b[0m, in \u001b[0;36m<module>\u001b[1;34m\u001b[0m\n\u001b[0;32m     73\u001b[0m     npt: Any \u001b[39m=\u001b[39m \u001b[39mNone\u001b[39;00m\n\u001b[0;32m     76\u001b[0m \u001b[39m# array-like\u001b[39;00m\n\u001b[1;32m---> 78\u001b[0m ArrayLike \u001b[39m=\u001b[39m Union[\u001b[39m\"\u001b[39m\u001b[39mExtensionArray\u001b[39m\u001b[39m\"\u001b[39m, np\u001b[39m.\u001b[39;49mndarray]\n\u001b[0;32m     79\u001b[0m AnyArrayLike \u001b[39m=\u001b[39m Union[ArrayLike, \u001b[39m\"\u001b[39m\u001b[39mIndex\u001b[39m\u001b[39m\"\u001b[39m, \u001b[39m\"\u001b[39m\u001b[39mSeries\u001b[39m\u001b[39m\"\u001b[39m]\n\u001b[0;32m     81\u001b[0m \u001b[39m# scalars\u001b[39;00m\n",
      "\u001b[1;31mAttributeError\u001b[0m: module 'numpy' has no attribute 'ndarray'"
     ]
    }
   ],
   "source": [
    "#  Chapter 3, Pandas library.\n",
    "# 3.2 importing pandas\n",
    "import numpy as np\n",
    "import pandas as pd"
   ]
  },
  {
   "cell_type": "markdown",
   "metadata": {},
   "source": [
    "# 3.3 Pandas Series\n",
    "\n",
    "Create a pandas Series, we use the **Series()** constructor.\n",
    "We can pass array like structures like Python lists, Python dictionaries and NumPy arrays to the "
   ]
  },
  {
   "cell_type": "code",
   "execution_count": 2,
   "metadata": {},
   "outputs": [
    {
     "ename": "NameError",
     "evalue": "name 'pd' is not defined",
     "output_type": "error",
     "traceback": [
      "\u001b[1;31m---------------------------------------------------------------------------\u001b[0m",
      "\u001b[1;31mNameError\u001b[0m                                 Traceback (most recent call last)",
      "\u001b[1;32mc:\\Users\\krigj_b\\Documents\\Educational\\Python\\MachineLearning\\learncodingfast\\3.0 Pandas.ipynb Cell 4'\u001b[0m in \u001b[0;36m<cell line: 18>\u001b[1;34m()\u001b[0m\n\u001b[0;32m     <a href='vscode-notebook-cell:/c%3A/Users/krigj_b/Documents/Educational/Python/MachineLearning/learncodingfast/3.0%20Pandas.ipynb#ch0000003?line=10'>11</a>\u001b[0m d1 \u001b[39m=\u001b[39m {\n\u001b[0;32m     <a href='vscode-notebook-cell:/c%3A/Users/krigj_b/Documents/Educational/Python/MachineLearning/learncodingfast/3.0%20Pandas.ipynb#ch0000003?line=11'>12</a>\u001b[0m         \u001b[39m'\u001b[39m\u001b[39mA\u001b[39m\u001b[39m'\u001b[39m:[\u001b[39m1\u001b[39m, \u001b[39m2\u001b[39m, \u001b[39m3\u001b[39m],\n\u001b[0;32m     <a href='vscode-notebook-cell:/c%3A/Users/krigj_b/Documents/Educational/Python/MachineLearning/learncodingfast/3.0%20Pandas.ipynb#ch0000003?line=12'>13</a>\u001b[0m         \u001b[39m'\u001b[39m\u001b[39mB\u001b[39m\u001b[39m'\u001b[39m:[\u001b[39m4\u001b[39m, \u001b[39m5\u001b[39m, \u001b[39m6\u001b[39m],\n\u001b[0;32m     <a href='vscode-notebook-cell:/c%3A/Users/krigj_b/Documents/Educational/Python/MachineLearning/learncodingfast/3.0%20Pandas.ipynb#ch0000003?line=13'>14</a>\u001b[0m }\n\u001b[0;32m     <a href='vscode-notebook-cell:/c%3A/Users/krigj_b/Documents/Educational/Python/MachineLearning/learncodingfast/3.0%20Pandas.ipynb#ch0000003?line=15'>16</a>\u001b[0m \u001b[39m#   Using the series module. With normal indexing\u001b[39;00m\n\u001b[0;32m     <a href='vscode-notebook-cell:/c%3A/Users/krigj_b/Documents/Educational/Python/MachineLearning/learncodingfast/3.0%20Pandas.ipynb#ch0000003?line=16'>17</a>\u001b[0m \u001b[39m#   While s2 using Characters\u001b[39;00m\n\u001b[1;32m---> <a href='vscode-notebook-cell:/c%3A/Users/krigj_b/Documents/Educational/Python/MachineLearning/learncodingfast/3.0%20Pandas.ipynb#ch0000003?line=17'>18</a>\u001b[0m s1 \u001b[39m=\u001b[39m pd\u001b[39m.\u001b[39mSeries(l1)\n\u001b[0;32m     <a href='vscode-notebook-cell:/c%3A/Users/krigj_b/Documents/Educational/Python/MachineLearning/learncodingfast/3.0%20Pandas.ipynb#ch0000003?line=19'>20</a>\u001b[0m s2 \u001b[39m=\u001b[39m pd\u001b[39m.\u001b[39mSeries(l1, index\u001b[39m=\u001b[39m[\u001b[39m'\u001b[39m\u001b[39mA\u001b[39m\u001b[39m'\u001b[39m,\u001b[39m'\u001b[39m\u001b[39mB\u001b[39m\u001b[39m'\u001b[39m,\u001b[39m'\u001b[39m\u001b[39mC\u001b[39m\u001b[39m'\u001b[39m,\u001b[39m'\u001b[39m\u001b[39mD\u001b[39m\u001b[39m'\u001b[39m,\u001b[39m'\u001b[39m\u001b[39mE\u001b[39m\u001b[39m'\u001b[39m])\n\u001b[0;32m     <a href='vscode-notebook-cell:/c%3A/Users/krigj_b/Documents/Educational/Python/MachineLearning/learncodingfast/3.0%20Pandas.ipynb#ch0000003?line=20'>21</a>\u001b[0m \u001b[39mprint\u001b[39m(\u001b[39mf\u001b[39m\u001b[39m'\u001b[39m\u001b[39m1D List:\u001b[39m\u001b[39m\\n\u001b[39;00m\u001b[39m{\u001b[39;00ml1\u001b[39m}\u001b[39;00m\u001b[39m\\n\u001b[39;00m\u001b[39m\\n\u001b[39;00m\u001b[39m Series module:\u001b[39m\u001b[39m\\n\u001b[39;00m\u001b[39m{\u001b[39;00ms1\u001b[39m}\u001b[39;00m\u001b[39m\\n\u001b[39;00m\u001b[39m\\n\u001b[39;00m\u001b[39m{\u001b[39;00ms2\u001b[39m}\u001b[39;00m\u001b[39m'\u001b[39m)\n",
      "\u001b[1;31mNameError\u001b[0m: name 'pd' is not defined"
     ]
    }
   ],
   "source": [
    "# 3.3 Pandas Series\n",
    "\n",
    "#   Initializing a 1D list\n",
    "l1 = [1, 2, 3, 4, 5]\n",
    "\n",
    "#   Initializing 2D list\n",
    "l2 = [[1, 2, 3], [4, 5, 6]]\n",
    "l3 = [[1, 2, 3, 4, 5],[10, 20, 30, 40, 50]]\n",
    "\n",
    "# Creating a dictionary to label the rows\n",
    "d1 = {\n",
    "        'A':[1, 2, 3],\n",
    "        'B':[4, 5, 6],\n",
    "}\n",
    "\n",
    "#   Using the series module. With normal indexing\n",
    "#   While s2 using Characters\n",
    "s1 = pd.Series(l1)\n",
    "\n",
    "s2 = pd.Series(l1, index=['A','B','C','D','E'])\n",
    "print(f'1D List:\\n{l1}\\n\\n Series module:\\n{s1}\\n\\n{s2}')\n",
    "\n",
    "#   3.4 Pandas Dataframes\n",
    "\n",
    "# Row labeling & column labeling\n",
    "df = pd.DataFrame(l3, index=['A','B'], columns=['1st', '2nd','3rd', '4th', '5th'])\n",
    "print(f' A Dataframe has to be 2D list or a dictionary:\\n{pd.DataFrame(l2)}\\n\\n{df}\\n\\n{pd.DataFrame(d1)}\\n')\n",
    "\n",
    "#   3.5 Pandas CSV Reader\n",
    "excelData= 'pandasDemo.csv'\n",
    "readCSV = pd.read_csv(f'MachineLearningWithPython(LearnCodingFast)/{excelData}')\n",
    "print(f'{readCSV.head(6)}\\n{readCSV.describe()}\\n')\n",
    "\n",
    "readCSV=readCSV.rename(columns ={'TA':'Assistant'}, index={0:'Row Zero'})\n",
    "print(f'{readCSV.head()}\\n{readCSV.describe()}\\n')\n",
    "\n",
    "#   3.8 Seclting Data from a Dataframe\n",
    "\n",
    "#   3.8.1 Selecting Columns\n",
    "x= readCSV[['ModuleID', 'Instructor']]\n",
    "print(f'Selecting columns :\\n{x}\\n {type(x)}\\n\\n')\n",
    "\n",
    "#   3.8.2 Selecting Rows\n",
    "#   Find the true rows, then add the variable as an array\n",
    "x = readCSV[(readCSV['ModuleID'] == 'CS101') | (readCSV['ModuleID'] == 'CS103')]\n",
    "\n",
    "#   Selecting rows by id\n",
    "x = readCSV.iloc[0]\n",
    "x1 = readCSV.loc['Row Zero']\n",
    "print(f'Selecting filtered rows :\\n{x}\\n {type(x)}\\n\\n')\n",
    "\n",
    "#   3.9 Updating dataframes\n",
    "\n",
    "#   Selecting a column to update\n",
    "readCSV['AvrageGPA'] = [44, 46, 47, 41, 45, 49, 40, 41, 45, 48, 42 ]\n",
    "readCSV['AvrageGPA'] = readCSV['AvrageGPA'] * 0.1\n",
    "readCSV = readCSV.sort_values(['Rating','AvrageGPA'], ascending= False)\n",
    "print(readCSV.head(5))\n",
    "\n",
    "#   3.10 usefull methods in Pandas library\n",
    "#   Soriting values Decending\n",
    "readCSV = readCSV.sort_values(['Rating','AvrageGPA'], ascending= False)\n",
    "\n",
    "#   Sorting values using the columns, ascending or descending\n",
    "readCSV = readCSV.sort_values(['Rating','AvrageGPA'], ascending= False)\n",
    "print(readCSV.head(5))\n",
    "\n",
    "#   isnull() function\n",
    "#   If something is missing it returns true isnull is a boolean function\n",
    "isnull = pd.DataFrame([[None], [np.NaN], [0], [''], ['string']], columns = ['A'])\n",
    "delrow = readCSV.dropna()\n",
    "dropcol = readCSV.dropna(axis=1)\n",
    "print(f' If a value is null, it returns true\\n{isnull.isnull()}\\n {readCSV.isnull().sum()}')\n",
    "\n",
    "#   to_numpy()\n",
    "''' Converts panda series / Dataframe into a numpy array'''\n",
    "toNumpy = pd.DataFrame([[1, 2], [3, 4]], columns= ['A', 'B'])\n",
    "array = toNumpy.to_numpy()\n",
    "print (f'Type :\\n{type(toNumpy)}\\n\\nDataframe:\\n{toNumpy}\\n\\n type:\\n{type(array)}\\n Nympy Array:\\n{array}')\n",
    "\n",
    "\n",
    "# corr()\n",
    "'''Correlation is a statitical measure that indicates the extent to which two variables are related'''\n",
    "\n",
    "stats = pd.DataFrame({'A':[1, 4, 7, 10], 'B':[1, 2, 3, 4], 'C':[2, 12, 1, 5]})\n",
    "print(stats.corr())"
   ]
  },
  {
   "cell_type": "markdown",
   "metadata": {},
   "source": [
    "#   Pandas Notebook"
   ]
  },
  {
   "cell_type": "code",
   "execution_count": null,
   "metadata": {},
   "outputs": [],
   "source": []
  }
 ],
 "metadata": {
  "kernelspec": {
   "display_name": "Python 3.10.5 ('env': venv)",
   "language": "python",
   "name": "python3"
  },
  "language_info": {
   "codemirror_mode": {
    "name": "ipython",
    "version": 3
   },
   "file_extension": ".py",
   "mimetype": "text/x-python",
   "name": "python",
   "nbconvert_exporter": "python",
   "pygments_lexer": "ipython3",
   "version": "3.10.5"
  },
  "orig_nbformat": 4,
  "vscode": {
   "interpreter": {
    "hash": "f35321be4ae93f7993f27fb53942f0774bccc4d7e9455219ca66c5c9df461594"
   }
  }
 },
 "nbformat": 4,
 "nbformat_minor": 2
}
