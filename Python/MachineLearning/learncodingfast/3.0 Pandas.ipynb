{
 "cells": [
  {
   "cell_type": "markdown",
   "metadata": {},
   "source": [
    "# Pandas Notebook\n"
   ]
  },
  {
   "cell_type": "markdown",
   "metadata": {},
   "source": [
    "## What is pandas?\n",
    "\n",
    "Pandas is an open-source library built on top of NumPy. Which provide us new data structures ( Series & Dataframe).\n",
    "\n",
    "Pandas is designed to work with tabular data.\n",
    "\n",
    "Pandas Series is a 1D data structure, similar to 1D NumPy arrays or Python list. The main difference is its label\n",
    "\n",
    "Pandas DataFrame is a 2D labeled data structure"
   ]
  },
  {
   "cell_type": "code",
   "execution_count": 1,
   "metadata": {},
   "outputs": [],
   "source": [
    "#  Chapter 3, Pandas library.\n",
    "# 3.2 importing pandas\n",
    "import numpy as np\n",
    "import pandas as pd"
   ]
  },
  {
   "cell_type": "markdown",
   "metadata": {},
   "source": [
    "# 3.3 Pandas Series\n",
    "\n",
    "Create a pandas Series, we use the **Series()** constructor.\n",
    "We can pass array like structures like Python lists, Python dictionaries and NumPy arrays.\n",
    "\n",
    "When we print the value, we get two columns of values. the column on the left, is known as the series index.\n",
    "\n",
    "The individual values in the index are known as labels. \n"
   ]
  },
  {
   "cell_type": "code",
   "execution_count": 2,
   "metadata": {},
   "outputs": [
    {
     "name": "stdout",
     "output_type": "stream",
     "text": [
      "1D List:\n",
      "[1, 2, 3, 4, 5]\n",
      "\n",
      " Series module:\n",
      "0    1\n",
      "1    2\n",
      "2    3\n",
      "3    4\n",
      "4    5\n",
      "dtype: int64\n",
      "\n",
      "A    1\n",
      "B    2\n",
      "C    3\n",
      "D    4\n",
      "E    5\n",
      "dtype: int64\n"
     ]
    }
   ],
   "source": [
    "# 3.3 Pandas Series\n",
    "\n",
    "#   Initializing a 1D list\n",
    "l1 = [1, 2, 3, 4, 5]\n",
    "\n",
    "#   Initializing 2D list\n",
    "l2 = [[1, 2, 3], [4, 5, 6]]\n",
    "l3 = [[1, 2, 3, 4, 5],[10, 20, 30, 40, 50]]\n",
    "\n",
    "# Creating a dictionary to label the rows\n",
    "d1 = {\n",
    "        'A':[1, 2, 3],\n",
    "        'B':[4, 5, 6],\n",
    "}\n",
    "\n",
    "#   Using the series module. With normal indexing\n",
    "#   While s2 using Characters\n",
    "s1 = pd.Series(l1)\n",
    "\n",
    "s2 = pd.Series(l1, index=['A','B','C','D','E'])\n",
    "print(f'1D List:\\n{l1}\\n\\n Series module:\\n{s1}\\n\\n{s2}')"
   ]
  },
  {
   "cell_type": "markdown",
   "metadata": {},
   "source": [
    "## 3.4 Pandas Dataframes"
   ]
  },
  {
   "cell_type": "code",
   "execution_count": null,
   "metadata": {},
   "outputs": [],
   "source": [
    "#   3.4 Pandas Dataframes\n",
    "\n",
    "# Row labeling & column labeling\n",
    "df = pd.DataFrame(l3, index=['A','B'], columns=['1st', '2nd','3rd', '4th', '5th'])\n",
    "print(f' A Dataframe has to be 2D list or a dictionary:\\n{pd.DataFrame(l2)}\\n\\n{df}\\n\\n{pd.DataFrame(d1)}\\n')"
   ]
  },
  {
   "cell_type": "markdown",
   "metadata": {},
   "source": [
    "##  3.5 Pandas CSV Reader"
   ]
  },
  {
   "cell_type": "code",
   "execution_count": null,
   "metadata": {},
   "outputs": [],
   "source": [
    "#   3.5 Pandas CSV Reader\n",
    "excelData= 'pandasDemo.csv'\n",
    "readCSV = pd.read_csv(f'learncodingfast/{excelData}')\n",
    "print(f'{readCSV.head(6)}\\n{readCSV.describe()}\\n')\n",
    "\n",
    "readCSV=readCSV.rename(columns ={'TA':'Assistant'}, index={0:'Row Zero'})\n",
    "print(f'{readCSV.head()}\\n{readCSV.describe()}\\n')\n"
   ]
  },
  {
   "cell_type": "markdown",
   "metadata": {},
   "source": [
    "# 3.6 Exploring data in a Dataframe"
   ]
  },
  {
   "cell_type": "markdown",
   "metadata": {},
   "source": [
    "# 3.7   Changing labels of row(s) and column(s)"
   ]
  },
  {
   "cell_type": "markdown",
   "metadata": {},
   "source": [
    "# 3.8 Selecting Data from a Dataframe"
   ]
  },
  {
   "cell_type": "code",
   "execution_count": null,
   "metadata": {},
   "outputs": [],
   "source": [
    "\n",
    "#   3.8 Seclting Data from a Dataframe\n",
    "\n",
    "#   3.8.1 Selecting Columns\n",
    "x= readCSV[['ModuleID', 'Instructor']]\n",
    "print(f'Selecting columns :\\n{x}\\n {type(x)}\\n\\n')\n",
    "\n",
    "#   3.8.2 Selecting Rows\n",
    "#   Find the true rows, then add the variable as an array\n",
    "x = readCSV[(readCSV['ModuleID'] == 'CS101') | (readCSV['ModuleID'] == 'CS103')]\n",
    "\n",
    "#   Selecting rows by id\n",
    "x = readCSV.iloc[0]\n",
    "x1 = readCSV.loc['Row Zero']\n",
    "print(f'Selecting filtered rows :\\n{x}\\n {type(x)}\\n\\n')\n",
    "\n",
    "#   3.9 Updating dataframes\n",
    "\n",
    "#   Selecting a column to update\n",
    "readCSV['AvrageGPA'] = [44, 46, 47, 41, 45, 49, 40, 41, 45, 48, 42 ]\n",
    "readCSV['AvrageGPA'] = readCSV['AvrageGPA'] * 0.1\n",
    "readCSV = readCSV.sort_values(['Rating','AvrageGPA'], ascending= False)\n",
    "print(readCSV.head(5))\n",
    "\n",
    "#   3.10 usefull methods in Pandas library\n",
    "#   Soriting values Decending\n",
    "readCSV = readCSV.sort_values(['Rating','AvrageGPA'], ascending= False)\n",
    "\n",
    "#   Sorting values using the columns, ascending or descending\n",
    "readCSV = readCSV.sort_values(['Rating','AvrageGPA'], ascending= False)\n",
    "print(readCSV.head(5))\n",
    "\n",
    "#   isnull() function\n",
    "#   If something is missing it returns true isnull is a boolean function\n",
    "isnull = pd.DataFrame([[None], [np.NaN], [0], [''], ['string']], columns = ['A'])\n",
    "delrow = readCSV.dropna()\n",
    "dropcol = readCSV.dropna(axis=1)\n",
    "print(f' If a value is null, it returns true\\n{isnull.isnull()}\\n {readCSV.isnull().sum()}')\n",
    "\n",
    "#   to_numpy()\n",
    "''' Converts panda series / Dataframe into a numpy array'''\n",
    "toNumpy = pd.DataFrame([[1, 2], [3, 4]], columns= ['A', 'B'])\n",
    "array = toNumpy.to_numpy()\n",
    "print (f'Type :\\n{type(toNumpy)}\\n\\nDataframe:\\n{toNumpy}\\n\\n type:\\n{type(array)}\\n Nympy Array:\\n{array}')\n",
    "\n",
    "\n",
    "# corr()\n",
    "'''Correlation is a statitical measure that indicates the extent to which two variables are related'''\n",
    "\n",
    "stats = pd.DataFrame({'A':[1, 4, 7, 10], 'B':[1, 2, 3, 4], 'C':[2, 12, 1, 5]})\n",
    "print(stats.corr())"
   ]
  }
 ],
 "metadata": {
  "kernelspec": {
   "display_name": "Python 3.10.5 ('env': venv)",
   "language": "python",
   "name": "python3"
  },
  "language_info": {
   "codemirror_mode": {
    "name": "ipython",
    "version": 3
   },
   "file_extension": ".py",
   "mimetype": "text/x-python",
   "name": "python",
   "nbconvert_exporter": "python",
   "pygments_lexer": "ipython3",
   "version": "3.10.5"
  },
  "orig_nbformat": 4,
  "vscode": {
   "interpreter": {
    "hash": "f35321be4ae93f7993f27fb53942f0774bccc4d7e9455219ca66c5c9df461594"
   }
  }
 },
 "nbformat": 4,
 "nbformat_minor": 2
}
