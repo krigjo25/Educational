{
 "cells": [
  {
   "cell_type": "markdown",
   "metadata": {},
   "source": []
  },
  {
   "cell_type": "markdown",
   "metadata": {},
   "source": [
    "# Object Oriented Programming Notebook"
   ]
  },
  {
   "cell_type": "markdown",
   "metadata": {},
   "source": [
    "##  Object Oriented Programming | Classes"
   ]
  },
  {
   "cell_type": "markdown",
   "metadata": {},
   "source": [
    "There are different paradigms of programming for different programming languages. Patters will be reconized. Untill this stage it has been worked procedurally step-by-step.\n",
    "\n",
    "OOP (Object-oriented programming) is a compelling solution to programming-related challanges.\n"
   ]
  },
  {
   "cell_type": "code",
   "execution_count": null,
   "metadata": {},
   "outputs": [],
   "source": [
    "#   Prints out the student and house\n",
    "name = input(\"Name: \")\n",
    "house = input(\"House: \")\n",
    "print(f\"{name} from {house}\")"
   ]
  },
  {
   "cell_type": "markdown",
   "metadata": {},
   "source": [
    "Notice that the program follows a procedural, step-by-step paradigm.\n",
    "\n",
    "Functions can be created to abstract away parts of the program."
   ]
  },
  {
   "cell_type": "code",
   "execution_count": null,
   "metadata": {},
   "outputs": [],
   "source": [
    "def main():\n",
    "\n",
    "    #   Print out the student\n",
    "    name = GetName()\n",
    "    house = GetHouse()\n",
    "    print(f\"{name} from {house}\")\n",
    "\n",
    "\n",
    "def GetName():\n",
    "\n",
    " #   Prompts the user for name\n",
    "    return input(\"Name: \")\n",
    "\n",
    "\n",
    "def GetHouse():\n",
    "\n",
    "#   Prompts the user for name\n",
    "    return input(\"House: \")\n",
    "\n",
    "\n",
    "if __name__ == \"__main__\":\n",
    "    main()"
   ]
  },
  {
   "cell_type": "markdown",
   "metadata": {},
   "source": [
    "Notice how `GetName` & `GetHouse` abstract away some of the needs of the `main` function. Furthher, notice how the final lines of the code above tell the complier to run the `main` function.\n",
    "\n",
    "Further can the program be simplified by storing the student as a `tuple`. A `tuple` is a sequence of values. Unline a `list`, a `tuple` can't be modified. in spirit, There is two values which returns.\n",
    "\n",
    "\n"
   ]
  },
  {
   "cell_type": "code",
   "execution_count": null,
   "metadata": {},
   "outputs": [],
   "source": [
    "def main():\n",
    "\n",
    "  #   Print out the student\n",
    "  name, house = GetStudent()\n",
    "  print(f'{name} from {house}')\n",
    "\n",
    "def GetStudent():\n",
    "\n",
    "  #   Prompts the user for name, and house\n",
    "  name = input('Name')\n",
    "  house = input('House')\n",
    "\n",
    "  return name, house\n",
    "\n",
    "if __name__ == '__main__':\n",
    "  main()"
   ]
  },
  {
   "cell_type": "markdown",
   "metadata": {},
   "source": [
    "Notice how `GetStudent` returns `name, house`.\n",
    "Packing that `tuple`, such that both items can be returned to a variable called `student`"
   ]
  },
  {
   "cell_type": "code",
   "execution_count": null,
   "metadata": {},
   "outputs": [],
   "source": [
    "def main():\n",
    "\n",
    "  # Initializing a variable\n",
    "  student = GetStudent()\n",
    "  \n",
    "  #   Checks if the tuple is true\n",
    "  if student[0] == 'Padma':\n",
    "    student[1] == 'Ravenclaw'\n",
    "\n",
    "  print(f'{student[0]} from {student[1]}')\n",
    "\n",
    "def GetStudent():\n",
    "\n",
    "  #   Prompts the user for name, and house\n",
    "  name = input('Name')\n",
    "  house = input('House')\n",
    "\n",
    "  return name, house\n",
    "\n",
    "if __name__ == '__main__':\n",
    "  main()"
   ]
  },
  {
   "cell_type": "markdown",
   "metadata": {},
   "source": [
    "Notice that the program produces an error. Since `tuple`s are immutable, values can not be reassigned to `student[1]`\n",
    "\n",
    "If the user wanted to provide our fellow programmers flexibility, we could utilize a `list`."
   ]
  },
  {
   "cell_type": "code",
   "execution_count": null,
   "metadata": {},
   "outputs": [],
   "source": [
    "def main():\n",
    "\n",
    "  # Initializing variable\n",
    "  student = GetStudent()\n",
    "\n",
    "  #   Check if student tuple includes Padma\n",
    "  if student[0] = 'Padma':\n",
    "    student[1] = 'RavenClaw'\n",
    "  \n",
    "    # Prints out the values\n",
    "    print(f'{student[0]} from, house {student[1]}')\n",
    "\n",
    "def GetStudent():\n",
    "\n",
    "  #   Prompts the user for name, and house\n",
    "  name, house = input('Name:'), input('House:')\n",
    "  \n",
    "  return [name, house]\n",
    "\n",
    "if __name__ == '__main__':\n",
    "  main()"
   ]
  },
  {
   "cell_type": "markdown",
   "metadata": {},
   "source": [
    "Notice the lists are mutable. That is, the order of `house` & `name` can be switched by a programmer. The decision to utilize this in some cases where the programmer want to provide more flexibility at the cost of the security. If the order of those values is changeable, other programmers could make mistakes down the road.\n",
    "\n",
    "A dictionary could also be utilized in the program. recall the dictionaries provide a key-value pair."
   ]
  },
  {
   "cell_type": "code",
   "execution_count": null,
   "metadata": {},
   "outputs": [],
   "source": [
    "def main():\n",
    "\n",
    "  #   Initializing variables\n",
    "  student = GetStudent()\n",
    "\n",
    "  # Prints out the dictionary\n",
    "  print(f'{student[\"name\"]} from, {student[\"house\"]}')\n",
    "\n",
    "def GetStudent()\n",
    "\n",
    "  #   Creating a dictionary\n",
    "  student = {}\n",
    "\n",
    "  #   Prompting the user for Name, house and add it to the dictionary\n",
    "  student['name'] = input('Name:')\n",
    "  student['house'] = input('House:')\n",
    "\n",
    "  return student\n",
    "\n",
    "if __name__=='__main__':\n",
    "  main()"
   ]
  },
  {
   "cell_type": "markdown",
   "metadata": {},
   "source": [
    "Notice in this case, two key-value pairs are returned. An adventage of this approach is that we can index into this dictionary using keys.\n",
    "\n",
    "Still the code above can be further improved. Notice that there is an unneded variable. `Student = {}` can be removed, because there is no need to create an empty dictionary."
   ]
  },
  {
   "cell_type": "code",
   "execution_count": null,
   "metadata": {},
   "outputs": [],
   "source": [
    "def main():\n",
    "\n",
    "  #   Initiailizing a variable\n",
    "  student = GetStudent()\n",
    "\n",
    "  # Prints out the values\n",
    "  print(f'{student[\"name\"]} from, {student[\"house\"]}')\n",
    "\n",
    "def GetStudent():\n",
    "\n",
    "  #   Prompts the user for name, and house\n",
    "  name = input('Name:')\n",
    "  house = input('House:')\n",
    "\n",
    "  return {'name':name, 'house':house}\n",
    "\n",
    "if __name__=='__main__':\n",
    "  main()"
   ]
  },
  {
   "cell_type": "markdown",
   "metadata": {},
   "source": [
    "Notice how similar in context the previous iterations of this code, the key can be utilized names to indexes into the student dictionary."
   ]
  },
  {
   "cell_type": "markdown",
   "metadata": {},
   "source": [
    "##  Classes\n",
    "\n",
    "- Classes are a way by which, in OOP can create a personal type of data and give them names.\n",
    "- A class is like a book, for type of data, were the programmer can invent a personal data type and give them a name.\n",
    "\n"
   ]
  },
  {
   "cell_type": "code",
   "execution_count": null,
   "metadata": {},
   "outputs": [],
   "source": [
    "#   Creating a object\n",
    "class Student:\n",
    "    #   Tells the complier it will be finished later\n",
    "    ...\n",
    "\n",
    "\n",
    "\n",
    "def main():\n",
    "\n",
    "    #   Calling GetStudent()\n",
    "    student = GetStudent()\n",
    "\n",
    "    #   Prints out the values\n",
    "    print(f\"{student.name} from {student.house}\")\n",
    "\n",
    "\n",
    "def GetStudent():\n",
    "\n",
    "    # Calling a class\n",
    "    student = Student()\n",
    "\n",
    "    #   prompting the user for name, house\n",
    "    student.name = input(\"Name: \")\n",
    "    student.house = input(\"House: \")\n",
    "\n",
    "    return student\n",
    "\n",
    "\n",
    "if __name__ == \"__main__\":\n",
    "    main()"
   ]
  },
  {
   "cell_type": "markdown",
   "metadata": {},
   "source": [
    "Notice by convention that `Student` is capitalized. Further, notice the `...` simply means that the programmer will return to finish that portion of code later.\n",
    "\n",
    "Further, notice that in `GetStudent()`, a student class can be created. By using the syntax `student = Student()` we initializing the variable with a class.\n",
    "\n",
    "Notice that `Student` utilized the \"dot notation\" to accsess the attributes of the variable. `student` of class `Student`.\n",
    "\n",
    "Anytime a class is created and the blueprint is about to utilize, a \"object\" or an \"instance\" is created. in this case `Student` is an object.\n",
    "\n",
    "Further some groundwork can be laid, the atttributes that are expected inside an object whose class is `Student`."
   ]
  },
  {
   "cell_type": "code",
   "execution_count": null,
   "metadata": {},
   "outputs": [],
   "source": [
    "#   Creating an object\n",
    "class Student:\n",
    "\n",
    "    #   Designing the book.\n",
    "    def __init__(self, name, house):\n",
    "\n",
    "      self.name = name\n",
    "      self.house = house\n",
    "\n",
    "      return\n",
    "\n",
    "def main():\n",
    "\n",
    "  #   Print out the student\n",
    "  student = GetStudent()\n",
    "  print(f'{student.name} from {student.house}')\n",
    "\n",
    "\n",
    "def GetStudent():\n",
    "\n",
    "  #   Prompts the user for name, and house\n",
    "  name = input('Name')\n",
    "  house = input('House')\n",
    "  student = Student(name, house)\n",
    "\n",
    "  return student\n",
    "\n",
    "if __name__ == '__main__':\n",
    "  main()"
   ]
  },
  {
   "cell_type": "markdown",
   "metadata": {},
   "source": [
    "Notice that within `Student`, it has been standardized the attributes of this class. Functions can be created with-in `class Student` called \"method\", that determines the behavior of an object of the class `Student`.\n",
    "\n",
    "With-in this function, it takes the `name` & `house` passed to it and assigns these variables to this object.\n",
    "\n",
    "Further notice how the constructor `student = Student()` class and creates a `student`.\n",
    "\n",
    "`self` refers to the current object that were created."
   ]
  },
  {
   "cell_type": "code",
   "execution_count": null,
   "metadata": {},
   "outputs": [],
   "source": [
    "#   Creating an object\n",
    "class Student:\n",
    "\n",
    "    #   Designing the book.\n",
    "    def __init__(self, name, house):\n",
    "\n",
    "      self.name = name\n",
    "      self.house = house\n",
    "\n",
    "def main():\n",
    "\n",
    "  #   Print out the student\n",
    "  student = GetStudent()\n",
    "  print(f'{student.name} from {student.house}')\n",
    "\n",
    "\n",
    "def GetStudent():\n",
    "\n",
    "  #   Prompts the user for name, and house\n",
    "  name = input('Name')\n",
    "  house = input('House')\n",
    "  student = Student(name, house)\n",
    "\n",
    "  return student\n",
    "\n",
    "if __name__ == '__main__':\n",
    "  main()"
   ]
  },
  {
   "cell_type": "markdown",
   "metadata": {},
   "source": [
    "Notice how `return Student(name, house)` simplifies the previous iteration of the program where the constructor statement was run on its own line."
   ]
  },
  {
   "cell_type": "markdown",
   "metadata": {},
   "source": [
    "##  raise\n",
    "\n",
    "OOP encourages programmers to encapusulate all the functionallity of a class within the class definition. <br>\n",
    "**What if something goes wrong?**<br>\n",
    "**What if someone tries to type in something random?**<br>\n",
    "**What if someone tries to create a student without a name**."
   ]
  },
  {
   "cell_type": "code",
   "execution_count": null,
   "metadata": {},
   "outputs": [],
   "source": [
    "#   Creating an object\n",
    "class Student:\n",
    "\n",
    "    '''\n",
    "      #   Raising ValueError if name is missing,\n",
    "      #   Rasing ValueError if the house is Invalid\n",
    "    '''\n",
    "    #   Designing the book.\n",
    "    def __init__(self, name, house):\n",
    "\n",
    "      #   Initializing class attributes\n",
    "      self.name = name\n",
    "      self.house = house\n",
    "\n",
    "      if not self.name: raise ValueError('Missing Student name')\n",
    "      elif self.house not in ['Gryffindor', 'Slytherin', 'Hufflepuff', 'Ravenclaw']: raise ValueError('Invalid house')\n",
    "\n",
    "      return\n",
    "\n",
    "def main():\n",
    "\n",
    "  #   Print out the student\n",
    "  student = GetStudent()\n",
    "  print(f'{student.name} from {student.house}')\n",
    "\n",
    "\n",
    "def GetStudent():\n",
    "\n",
    "  #   Prompts the user for name, and house\n",
    "  name = input('Name')\n",
    "  house = input('House')\n",
    "  student = Student(name, house)\n",
    "\n",
    "  return student\n",
    "\n",
    "if __name__ == '__main__':\n",
    "  main()"
   ]
  },
  {
   "cell_type": "markdown",
   "metadata": {},
   "source": [
    "Notice how the program checks now that a name is provided and a proper house is designated. It turns out the program has it's own exceptions that alert the programmer to potential error created by the user called `raise`. In the case above, the program raises `ValueError` with a specific error message.\n",
    "\n",
    "It happens that Python allow programmers to create a specific function by which  the programmer can print the attributes of an object."
   ]
  },
  {
   "cell_type": "code",
   "execution_count": null,
   "metadata": {},
   "outputs": [],
   "source": [
    "#   Creating an object\n",
    "class Student:\n",
    "\n",
    "    '''\n",
    "      #   Raising ValueError if name is missing,\n",
    "      #   Rasing ValueError if the house is Invalid\n",
    "    '''\n",
    "    #   Designing the book.\n",
    "    def __init__(self, name, house, patronus):\n",
    "\n",
    "      #   Initializing class attributes\n",
    "      self.name = name\n",
    "      self.house = house\n",
    "      self.patronus = patronus\n",
    "\n",
    "      if not self.name: raise ValueError('Missing Student name')\n",
    "      elif self.house not in ['Gryffindor', 'Slytherin', 'Hufflepuff', 'Ravenclaw']: raise ValueError('Invalid house')\n",
    "\n",
    "      return\n",
    "\n",
    "    def __str__(self):\n",
    "\n",
    "      #   Returning a human readable string\n",
    "      return f'{self.name} from{self.house}'\n",
    "\n",
    "def main():\n",
    "\n",
    "  #   Print out the student\n",
    "  student = GetStudent()\n",
    "  print(f'{student.name} from {student.house}')\n",
    "\n",
    "\n",
    "def GetStudent():\n",
    "\n",
    "  #   Prompts the user for name, and house\n",
    "  name = input('Name')\n",
    "  house = input('House')\n",
    "  student = Student(name, house)\n",
    "\n",
    "  return student\n",
    "\n",
    "if __name__ == '__main__':\n",
    "  main()"
   ]
  },
  {
   "cell_type": "markdown",
   "metadata": {},
   "source": [
    "Notice how `def__str__(self)` provides a means by which a student is returned when called. Therefore, the programmer can now print an object, its attributes, or alsmost anthing the programmer desires related to the object.\n",
    "\n",
    "`__str__` is a built-in method that comes with Python classes. It happens that the programmer can create his own methods for a class as well !"
   ]
  },
  {
   "cell_type": "code",
   "execution_count": null,
   "metadata": {},
   "outputs": [],
   "source": [
    "#   Creating an object\n",
    "class Student:\n",
    "\n",
    "    '''\n",
    "      #   Raising ValueError if name is missing,\n",
    "      #   Rasing ValueError if the house is Invalid\n",
    "    '''\n",
    "\n",
    "    #   Designing the book.\n",
    "    def __init__(self, name, house, patronus):\n",
    "\n",
    "      #   Initializing class attributes\n",
    "      self.name = name\n",
    "      self.house = house\n",
    "      self.patronus = patronus\n",
    "\n",
    "      if not self.name: raise ValueError('Missing Student name')\n",
    "      elif self.house not in ['Gryffindor', 'Slytherin', 'Hufflepuff', 'Ravenclaw']: raise ValueError('Invalid house')\n",
    "\n",
    "      return\n",
    "\n",
    "    def __str__(self):\n",
    "\n",
    "      #   Returning a human readable string\n",
    "      return f'{self.name} from{self.house}'\n",
    "\n",
    "    def charm(self):\n",
    "      match self.patronus:\n",
    "            case \"Stag\":\n",
    "                return \"🐴\"\n",
    "            case \"Otter\":\n",
    "                return \"🦦\"\n",
    "            case \"Jack Russell terrier\":\n",
    "                return \"🐶\"\n",
    "            case _:\n",
    "                return \"🪄\"\n",
    "def main():\n",
    "\n",
    "  #   Print out the student\n",
    "  student = GetStudent()\n",
    "  print(f'Expecto Patronum\\n{student.charm}')\n",
    "\n",
    "\n",
    "def GetStudent():\n",
    "\n",
    "  #   Prompts the user for name, and house\n",
    "  name = input('Name')\n",
    "  house = input('House')\n",
    "  patronus = input('Patronus:') or None\n",
    "\n",
    "  return Student(name, house, patronus)\n",
    "\n",
    "\n",
    "if __name__ == '__main__':\n",
    "  main()"
   ]
  },
  {
   "cell_type": "markdown",
   "metadata": {},
   "source": [
    "Notice how the program has defined its own method `charm`. Unlike dictionaries, classes can have built-in functions called methods. In this case the programmer has defined a method called `charm` where specific cases have specific results.\n",
    "\n",
    "Further notice that Python has the ability to utilize emojis. Before moving forward the programmer has removed the charm function."
   ]
  },
  {
   "cell_type": "code",
   "execution_count": null,
   "metadata": {},
   "outputs": [],
   "source": [
    "#   Creating an object\n",
    "class Student:\n",
    "\n",
    "    '''\n",
    "      #   Raising ValueError if name is missing,\n",
    "      #   Rasing ValueError if the house is Invalid\n",
    "    '''\n",
    "\n",
    "    #   Designing the book.\n",
    "    def __init__(self, name, house, patronus):\n",
    "\n",
    "      #   Initializing class attributes\n",
    "      self.name = name\n",
    "      self.house = house\n",
    "      self.patronus = patronus\n",
    "\n",
    "      if not self.name: raise ValueError('Missing Student name')\n",
    "      elif self.house not in ['Gryffindor', 'Slytherin', 'Hufflepuff', 'Ravenclaw']: raise ValueError('Invalid house')\n",
    "\n",
    "      return\n",
    "\n",
    "    def __str__(self):\n",
    "\n",
    "      #   Returning a human readable string\n",
    "      return f'{self.name} from{self.house}'\n",
    "\n",
    "def main():\n",
    "\n",
    "  #   Print out the student\n",
    "  student = GetStudent()\n",
    "  print(f'Expecto Patronum\\n{student.charm}')\n",
    "\n",
    "\n",
    "def GetStudent():\n",
    "\n",
    "  #   Prompts the user for name, and house\n",
    "  name = input('Name')\n",
    "  house = input('House')\n",
    "  patronus = input('Patronus:') or None\n",
    "\n",
    "  return Student(name, house, patronus)\n",
    "\n",
    "\n",
    "if __name__ == '__main__':\n",
    "  main()"
   ]
  },
  {
   "cell_type": "markdown",
   "metadata": {},
   "source": [
    "# Decorators\n",
    "\n",
    "Properties can be utilized to harden the code. In Python properties can be defined using a function 'decorators'. which begins with `@` "
   ]
  },
  {
   "cell_type": "code",
   "execution_count": 8,
   "metadata": {},
   "outputs": [
    {
     "name": "stdout",
     "output_type": "stream",
     "text": [
      "test from test\n"
     ]
    }
   ],
   "source": [
    "#   Creating an object\n",
    "class Student:\n",
    "\n",
    "    '''\n",
    "      #   Raising ValueError if name is missing,\n",
    "      #   Rasing ValueError if the house is Invalid\n",
    "    '''\n",
    "\n",
    "    #   Designing the book.\n",
    "    def __init__(self, name, house):\n",
    "\n",
    "      #   Initializing class attributes\n",
    "      self._name = name\n",
    "      self._house = house\n",
    "\n",
    "      if not self._name: raise ValueError('Missing Student name')\n",
    "\n",
    "      return\n",
    "\n",
    "    def __str__(self):\n",
    "\n",
    "      #   Returning a human readable string\n",
    "      return f'{self._name} from {self._house}'\n",
    "\n",
    "    #   Get the house\n",
    "    @property\n",
    "    def house(self):\n",
    "      return self._house\n",
    "\n",
    "    #   Rules for house property\n",
    "    @house.setter\n",
    "    def house(self, house):\n",
    "\n",
    "      # Checking if the prompted message is in the list\n",
    "      if house not in ['Gryffindor', 'Slytherin', 'Hufflepuff', 'Ravenclaw']: raise ValueError('Invalid house')\n",
    "\n",
    "      self._house = house\n",
    "\n",
    "      return self._house\n",
    "\n",
    "def main():\n",
    "\n",
    "  #   Print out the student\n",
    "  student = GetStudent()\n",
    "  print(student)\n",
    "\n",
    "\n",
    "def GetStudent():\n",
    "\n",
    "  #   Prompts the user for name, and house\n",
    "  name = input('Name')\n",
    "  house = input('House')\n",
    "\n",
    "  return Student(name, house)\n",
    "\n",
    "\n",
    "if __name__ == '__main__':\n",
    "  main()"
   ]
  },
  {
   "cell_type": "markdown",
   "metadata": {},
   "source": [
    "Notice how the programmer has written `@property` above the function called `House`. Doing so defines `House` as a property of the class. With `house` as a property, the program has the ability to define how some attribute of the class `_house` should be set and retrieved. Indeed the programmer can now define a function called a 'setter',\n",
    "through `@house.setter`, which wiill be called whenever the house property is set. \n",
    "\n",
    "e.g\n",
    "with ``Student.house = 'Gryffindor'`.\n",
    "\n",
    "Here the programmer made the setter validate values of `house` for the users. Notice how the program can raise a valueError if the value of `house` is not any of the Harry Potter houses, otherwise. the program use `house` to update the value of `_house`. <br>\n",
    "**Why `_house` and not `house`?**<br>\n",
    "`house` is a property of the class. with functions via which a user attempts to set the program's class attribute- `_house` is that class attribute itself. the leading underscore `_`, indicates to programmers they need not ( and indeed shouldn't !) modify this value directly. `_house` should only be set through the `house` setter.\n",
    "\n",
    "Notice how the `house` property simply returns that value of `_house`,  the class attribute that has presumably been validated using the `house` setter. When a programmer calls `student.house`, they're getting the value of `_house` through `house` getter-\n",
    "\n",
    "In addition to the name of the house, the name of the student class can be protected aswell."
   ]
  },
  {
   "cell_type": "code",
   "execution_count": 4,
   "metadata": {},
   "outputs": [
    {
     "name": "stdout",
     "output_type": "stream",
     "text": [
      " from erg\n"
     ]
    }
   ],
   "source": [
    "#   Creating an object\n",
    "class Student:\n",
    "\n",
    "    '''\n",
    "      #   Raising ValueError if name is missing,\n",
    "      #   Rasing ValueError if the house is Invalid\n",
    "    '''\n",
    "\n",
    "    #   Designing the book.\n",
    "    def __init__(self, name, house):\n",
    "\n",
    "      #   Initializing class attributes\n",
    "      self._name = name\n",
    "      self._house = house\n",
    "\n",
    "      return\n",
    "\n",
    "    def __str__(self):\n",
    "\n",
    "      #   Returning a human readable string\n",
    "      return f'{self._name} from {self._house}'\n",
    "\n",
    "    #   Get the name\n",
    "    @property\n",
    "    def name(self):\n",
    "      return self._name\n",
    "\n",
    "    #   Get the house\n",
    "    @property\n",
    "    def house(self):\n",
    "      return self._house\n",
    "\n",
    "    #   Rules that applies for name\n",
    "    @name.setter\n",
    "    def name(self, name):\n",
    "      if not name: raise ValueError('Missing name')\n",
    "      self._name = name\n",
    "\n",
    "    #   Rules that applies for house\n",
    "    @house.setter\n",
    "    def house(self, house):\n",
    "\n",
    "      # Checking if the prompted message is in the list\n",
    "      if house not in ['Gryffindor', 'Slytherin', 'Hufflepuff', 'Ravenclaw']: raise ValueError('Invalid house')\n",
    "      print('setter called')\n",
    "      self._house = house\n",
    "\n",
    "def main():\n",
    "\n",
    "  #   Print out the student\n",
    "  student = GetStudent()\n",
    "  print(student)\n",
    "\n",
    "\n",
    "def GetStudent():\n",
    "\n",
    "  #   Prompts the user for name, and house\n",
    "  name = input('Name:')\n",
    "  house = input('House:')\n",
    "\n",
    "  return Student(name, house)\n",
    "\n",
    "\n",
    "if __name__ == '__main__':\n",
    "  main()"
   ]
  },
  {
   "cell_type": "markdown",
   "metadata": {},
   "source": [
    "Notice how, much like the previous code, we provided a getter and a setter for the name.\n",
    "\n",
    "more can be learned in [Python's documentation of methods](https://docs.python.org/3/tutorial/classes.html)"
   ]
  },
  {
   "cell_type": "markdown",
   "metadata": {},
   "source": [
    "##  Connecting to Previous Studies in CS50 Course"
   ]
  },
  {
   "cell_type": "markdown",
   "metadata": {},
   "source": [
    "While not explicitly stated in the past portions of the cs50 course, classes and objects has been used the whole way.\n",
    "\n",
    "### Int\n",
    "\n",
    "If you dig into the documentation of `int` you'll see that it is a class with a constructor. It's a book for creating objects of type `int`. You can learn more in [Python's documentation of int](https://docs.python.org/3/library/functions.html#int)\n",
    "\n",
    "### Strings\n",
    "\n",
    "Strings too are also a class. If you have used `str.lower()`, you were using a method that are that came within the `str` class. learn more in [Python's documentation of str](https://docs.python.org/3/library/stdtypes.html#str),\n",
    "\n",
    "### list\n",
    "\n",
    "`list` is also a class. Looking at that documentation for `list`, You can see the methods that are contained therein, like `list.append()`. learn more in [Python's documentation of list](https://docs.python.org/3/library/stdtypes.html#list)\n",
    "\n",
    "### Dict\n",
    "\n",
    "`dict` is also a class with-in Python. Learn more in [Python's documentation of dict](https://docs.python.org/3/library/stdtypes.html#dict)\n"
   ]
  },
  {
   "cell_type": "code",
   "execution_count": 1,
   "metadata": {},
   "outputs": [
    {
     "name": "stdout",
     "output_type": "stream",
     "text": [
      "<class 'int'>\n"
     ]
    }
   ],
   "source": [
    "##  How class is used\n",
    "print(type(50))"
   ]
  },
  {
   "cell_type": "markdown",
   "metadata": {},
   "source": [
    "Notice how by executing this code, will indicate this is of the class `int`\n",
    "\n",
    "it applies for `str` aswell"
   ]
  },
  {
   "cell_type": "code",
   "execution_count": null,
   "metadata": {},
   "outputs": [],
   "source": [
    "print(type('Hello, World'))"
   ]
  },
  {
   "cell_type": "markdown",
   "metadata": {},
   "source": [
    "Notice how by executing this code, will indicate this is of the class `str`.\n",
    "applies for `list` as follows"
   ]
  },
  {
   "cell_type": "code",
   "execution_count": 2,
   "metadata": {},
   "outputs": [
    {
     "name": "stdout",
     "output_type": "stream",
     "text": [
      "<class 'list'>\n",
      "<class 'list'>\n"
     ]
    }
   ],
   "source": [
    "print(type(list()))\n",
    "print(type([]))"
   ]
  },
  {
   "cell_type": "markdown",
   "metadata": {},
   "source": [
    "Notice how by executing this code, will indicate this is of the class `list`.\n",
    "it applies for `dict()` as well"
   ]
  },
  {
   "cell_type": "code",
   "execution_count": null,
   "metadata": {},
   "outputs": [],
   "source": [
    "print(type(dict()))"
   ]
  },
  {
   "cell_type": "markdown",
   "metadata": {},
   "source": [
    "Notice how by executing this code, will indicate this is of the class `dict`"
   ]
  },
  {
   "cell_type": "markdown",
   "metadata": {},
   "source": [
    "##  Class Method\n",
    "\n",
    "Sometimes a class needs a functionallity, not instances.<br>\n",
    "`@classmethod` is a function that can be used to add functionallity to a class as a whole<br>\n",
    "An example below"
   ]
  },
  {
   "cell_type": "code",
   "execution_count": 6,
   "metadata": {},
   "outputs": [],
   "source": [
    "#   Importing responsories\n",
    "import random as r\n",
    "\n",
    "#   Creating a object\n",
    "class Hat:\n",
    "\n",
    "  # Constructing the Initializer\n",
    "  def __init__(self):\n",
    "\n",
    "    self.houses = ['Gryffindor', 'Hufflepuff', 'Ravenclaw', 'Slytherin']\n",
    "  \n",
    "\n",
    "  def sort(self, name):\n",
    "\n",
    "    '''\n",
    "    \n",
    "      # Sorting Students by random\n",
    "    \n",
    "    '''\n",
    "    \n",
    "    print(f'{name} is in {r.choice(self.houses)}')\n",
    "\n",
    "    hat = Hat()\n",
    "    hat.sort('Harry Potter')"
   ]
  },
  {
   "cell_type": "markdown",
   "metadata": {},
   "source": [
    "Notice how the program interacts when the user pass the name of the student to the sorting hat, it will tell the user what house has been assigned to the student.\n",
    "\n",
    "Notice that `hat = Hat()`\n",
    "instantiates a `hat`. The `sort` functionallity is alwaus handled by the instance of the class `Hat`.\n",
    "\n",
    "By executing `hat.sort('Harry Potter')`. the user pass the name of the student to the `sort` method of the particular instance of `Hat`, which has been called for `hat`.\n",
    "\n",
    "The user may want, tto run the `sort` function without creating a particular instance of the sorting hat (there is only one after all). "
   ]
  },
  {
   "cell_type": "code",
   "execution_count": 7,
   "metadata": {},
   "outputs": [],
   "source": [
    "#   Importing responsories\n",
    "import random as r\n",
    "\n",
    "#   Creating a object\n",
    "class Hat:\n",
    "\n",
    "\n",
    "  houses = ['Gryffindor', 'Hufflepuff', 'Ravenclaw', 'Slytherin']\n",
    "  \n",
    "\n",
    "  @classmethod\n",
    "  def sort(cls, name):\n",
    "\n",
    "    '''\n",
    "    \n",
    "      # Sorting Students by random\n",
    "    \n",
    "    '''\n",
    "    \n",
    "    print(f'{name} is in {r.choice(cls.houses)}')\n"
   ]
  },
  {
   "cell_type": "markdown",
   "metadata": {},
   "source": [
    "Notice how the `__init__` method is removed because there is no need to instantiate a hat anywhere in the program. `self` therefore, is no longer relevant and is removed. `sort` can be specified as a `@classmethod`, replacing `self`, with `cls`. \n",
    "\n",
    "Finally notice how `Hat` is capitalized by convention near the end of the code, because this is the name of the class.\n",
    "\n",
    "**Returning back to Student class**"
   ]
  },
  {
   "cell_type": "code",
   "execution_count": 8,
   "metadata": {},
   "outputs": [
    {
     "name": "stdout",
     "output_type": "stream",
     "text": [
      "test from test\n"
     ]
    }
   ],
   "source": [
    "#   Creating an object\n",
    "class Student:\n",
    "\n",
    "    '''\n",
    "      #   Raising ValueError if name is missing,\n",
    "      #   Rasing ValueError if the house is Invalid\n",
    "    '''\n",
    "\n",
    "    #   Designing the book.\n",
    "    def __init__(self, name, house):\n",
    "\n",
    "      #   Initializing class attributes\n",
    "      self._name = name\n",
    "      self._house = house\n",
    "\n",
    "      return\n",
    "\n",
    "    def __str__(self):\n",
    "\n",
    "      #   Returning a human readable string\n",
    "      return f'{self._name} from {self._house}'\n",
    "\n",
    "    @classmethod\n",
    "    def GetStudent(cls):\n",
    "\n",
    "      name = input('Name:')\n",
    "      house = input('house:')\n",
    "\n",
    "      return cls(name, house)\n",
    "\n",
    "def main():\n",
    "\n",
    "  #   Print out the student\n",
    "  student = Student.GetStudent()\n",
    "  print(student)\n",
    "\n",
    "if __name__ == '__main__':\n",
    "  main()"
   ]
  },
  {
   "cell_type": "markdown",
   "metadata": {},
   "source": [
    "Notice that `GetStudent` is modified a `@classmethod` called. The method can now be called without having to creat a student first."
   ]
  },
  {
   "cell_type": "markdown",
   "metadata": {},
   "source": [
    "##  Static Method\n",
    "\n",
    "It turns out that beside `@classmethod`'s, which are distinct from instance methods, there are other types of methods as well.\n",
    "\n",
    "Using `@staticmethod` may be something you might wish to explore. While not covered explicitly. \n",
    "It can be leaned more about static methods and their distinction from class methods."
   ]
  },
  {
   "cell_type": "markdown",
   "metadata": {},
   "source": [
    "##  Inheritance\n",
    "\n",
    "Inheritance is, perhaps, the most powerful feature of OOP. It just so happens that programmers can create a class that 'inherits' methods, variables, and attributes from another class."
   ]
  },
  {
   "cell_type": "code",
   "execution_count": null,
   "metadata": {},
   "outputs": [],
   "source": [
    "# Creating a object\n",
    "class Wizard:\n",
    "\n",
    "  def __init__(self, name):\n",
    "\n",
    "    if not name:raise ValueError('Missing name')\n",
    "    self.name = name\n",
    "\n",
    "class Student(Wizard):\n",
    "  def __init__(self, name, house):\n",
    "    super().__init__(name)\n",
    "\n",
    "class Professor(Wizard):\n",
    "\n",
    "  def __init__(self, name, subject):\n",
    "\n",
    "    super.__init__(name):\n",
    "    self.subject = subject\n",
    "  \n",
    "\n",
    "wizard = Wizard('Albus')\n",
    "student = Student('Harry Potter', 'Gryffindor')\n",
    "professor = Professor('Severus', 'Defence Against the Dark Arts')\n"
   ]
  },
  {
   "cell_type": "markdown",
   "metadata": {},
   "source": [
    "Notice that there is a class above called `Wizard` and a class called `Student`.<br>\n",
    "Further notice that there is a class called `Professor`.<br>\n",
    "Both students and professors have names. <br>\n",
    "Also both students and professors are wizards.<br>\n",
    "Therefore, both `Student` and `Professor` inherit the characteristics of `Wizard`. Within the \"child\" class `Student`, `Student` can inherit from the \"parent\" or \"super\" class `Wizard` as the line `super().__init__(name)` runs the `init` method of `Wizard`.<br>\n",
    "Finally notice that the last lines of the code create a wizard called Albus, a student called Harry Potter and so on.\n",
    "\n",
    "\n",
    "\n",
    "\n",
    "\n",
    "\n",
    "\n",
    "\n"
   ]
  },
  {
   "cell_type": "markdown",
   "metadata": {},
   "source": [
    "##  Inheritance and Exceptions\n",
    "\n"
   ]
  },
  {
   "cell_type": "markdown",
   "metadata": {},
   "source": [
    "##  Operator Overloading"
   ]
  }
 ],
 "metadata": {
  "kernelspec": {
   "display_name": "Python 3.10.5 64-bit",
   "language": "python",
   "name": "python3"
  },
  "language_info": {
   "codemirror_mode": {
    "name": "ipython",
    "version": 3
   },
   "file_extension": ".py",
   "mimetype": "text/x-python",
   "name": "python",
   "nbconvert_exporter": "python",
   "pygments_lexer": "ipython3",
   "version": "3.10.7"
  },
  "orig_nbformat": 4,
  "vscode": {
   "interpreter": {
    "hash": "949777d72b0d2535278d3dc13498b2535136f6dfe0678499012e853ee9abcab1"
   }
  }
 },
 "nbformat": 4,
 "nbformat_minor": 2
}
