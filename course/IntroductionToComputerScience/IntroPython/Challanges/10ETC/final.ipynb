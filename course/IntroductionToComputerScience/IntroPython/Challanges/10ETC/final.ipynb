{
 "cells": [
  {
   "cell_type": "markdown",
   "metadata": {},
   "source": [
    "#   Arrest Statistics\n",
    "\n",
    "Fetching arrest statistics in norway"
   ]
  },
  {
   "cell_type": "code",
   "execution_count": 9,
   "metadata": {},
   "outputs": [
    {
     "name": "stdout",
     "output_type": "stream",
     "text": [
      "                                  Unnamed: 0     2021\n",
      "0                   Anmeldte lovbrudd, i alt  278 833\n",
      "1                           ¬ Eiendomstyveri   79 515\n",
      "2                   ¬ Annet vinningslovbrudd   25 066\n",
      "3                            ¬ Eiendomsskade   19 881\n",
      "4                      ¬ Vold og mishandling   35 988\n",
      "5                          ¬ Seksuallovbrudd    7 989\n",
      "6                        ¬ Rusmiddellovbrudd   30 241\n",
      "7          ¬ Ordens- og integritetskrenkelse   28 906\n",
      "8                      ¬ Trafikkovertredelse   43 014\n",
      "9                           ¬ Annet lovbrudd    8 233\n",
      "10                                       NaN      NaN\n",
      "11   Anmeldte lovbrudd med personofre, i alt  141 105\n",
      "12   Personofre for anmeldte lovbrudd, i alt  130 047\n",
      "13       Personofre for eiendomstyveri i alt   55 624\n",
      "14  Personofre for vold og mishandling i alt   31 890\n"
     ]
    }
   ],
   "source": [
    "#   Importing libraries\n",
    "import pandas as pd\n",
    "\n",
    "class Norway():\n",
    "\n",
    "    def __init__(self):\n",
    "        return\n",
    "\n",
    "    def __str__(self):\n",
    "        return\n",
    "\n",
    "    def main(self):\n",
    "\n",
    "        return self.AnmeldteLovBrudd()\n",
    "\n",
    "    def AnmeldteLovBrudd(self):\n",
    "        df = pd.read_csv('resources/csv/tabell.csv', sep = ';', encoding='utf-8-sig')\n",
    "        \n",
    "\n",
    "\n",
    "        print(df)\n",
    "\n",
    "if __name__ == '__main__':\n",
    "    cls = Norway()\n",
    "    cls.main()\n"
   ]
  }
 ],
 "metadata": {
  "kernelspec": {
   "display_name": "Python 3.10.8 ('env': venv)",
   "language": "python",
   "name": "python3"
  },
  "language_info": {
   "codemirror_mode": {
    "name": "ipython",
    "version": 3
   },
   "file_extension": ".py",
   "mimetype": "text/x-python",
   "name": "python",
   "nbconvert_exporter": "python",
   "pygments_lexer": "ipython3",
   "version": "3.10.8"
  },
  "orig_nbformat": 4,
  "vscode": {
   "interpreter": {
    "hash": "8065dec36b372275595ec3e993e1f8ac4356fa63ea1010e9adb1a9b4fa8da162"
   }
  }
 },
 "nbformat": 4,
 "nbformat_minor": 2
}
