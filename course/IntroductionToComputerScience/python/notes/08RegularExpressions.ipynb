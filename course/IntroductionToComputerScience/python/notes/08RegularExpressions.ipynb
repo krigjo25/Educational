{
 "cells": [
  {
   "cell_type": "markdown",
   "metadata": {},
   "source": [
    "#   Regular Expressions Notebook"
   ]
  },
  {
   "cell_type": "markdown",
   "metadata": {},
   "source": [
    "\n",
    "## Regular expressions or “regexes”\n",
    "\n",
    "enables the programmer to examine patterns within the code.\n",
    "\n",
    "f.ex :\n",
    "\n",
    "The programmer might want to validate that an email address is formatted correctly. <br>\n",
    "Regular expressions will enable us to examine expressions in this fashion.<br>"
   ]
  },
  {
   "cell_type": "code",
   "execution_count": null,
   "metadata": {},
   "outputs": [],
   "source": [
    "email = input(\"What's your email? \").strip()\n",
    "\n",
    "#   Examine E-mail pattern\n",
    "\n",
    "if \"@\" in email:\n",
    "    print(\"Valid\")\n",
    "else:\n",
    "    print(\"Invalid\")\n"
   ]
  },
  {
   "cell_type": "markdown",
   "metadata": {},
   "source": [
    "Notice that strip removes the whitespace at the beginning or end of the input.<br>\n",
    "Running the program, you will see that as long as an '*@*' symbol is inputted,<br>\n",
    "the program will regard the input as valid.\n",
    "\n",
    "It can be imagined, that one could input *@@* alone and the input could be<br>\n",
    "regarded as valid. The programmer could regard an email address as having at<br>\n",
    "least one *@* and a *.* somewhere within it."
   ]
  },
  {
   "cell_type": "code",
   "execution_count": null,
   "metadata": {},
   "outputs": [
    {
     "name": "stdout",
     "output_type": "stream",
     "text": [
      "Valid\n"
     ]
    }
   ],
   "source": [
    "email = input(\"What's your email? \").strip()\n",
    "\n",
    "#   Examine email patters '@' and '.'\n",
    "if \"@\" in email and \".\" in email:\n",
    "    print(\"Valid\")\n",
    "else:\n",
    "    print(\"Invalid\")"
   ]
  },
  {
   "cell_type": "markdown",
   "metadata": {},
   "source": [
    "\n",
    "Notice that while this works as expected, our user could be adversarial,<br>\n",
    "typing simply *@.* would result in the program returning valid.\n",
    "\n",
    "The logic of the program can be modified as follows."
   ]
  },
  {
   "cell_type": "code",
   "execution_count": null,
   "metadata": {},
   "outputs": [],
   "source": [
    "email = input(\"What's your email? \").strip()\n",
    "\n",
    "username, domain = email.split(\"@\")\n",
    "\n",
    "if username and \".\" in domain:\n",
    "    print(\"Valid\")\n",
    "else:\n",
    "    print(\"Invalid\")\n"
   ]
  },
  {
   "cell_type": "markdown",
   "metadata": {},
   "source": [
    "Notice how the strip method is used to determine if username exists and if.<br>\n",
    "is inside the domain variable. Running this program, a standard email address<br>\n",
    "typed in could be considered valid. Typing in *malan@harvard* alone, you’ll<br>\n",
    "find that the program regards this input as invalid.<br>\n",
    "\n",
    "We can be even more precise, modifying our code as follows:\n"
   ]
  },
  {
   "cell_type": "code",
   "execution_count": null,
   "metadata": {},
   "outputs": [],
   "source": [
    "email = input(\"What's your email? \").strip()\n",
    "\n",
    "username, domain = email.split(\"@\")\n",
    "\n",
    "if username and domain.endswith(\".edu\"):\n",
    "    print(\"Valid\")\n",
    "else:\n",
    "    print(\"Invalid\")"
   ]
  },
  {
   "cell_type": "markdown",
   "metadata": {},
   "source": [
    "Notice how the endswith method will check to see if domain contains .edu. Still, however, a nefarious user could still break our code. For example, a user could type in malan@.edu and it would be considered valid.\n",
    "\n",
    "Indeed, we could keep iterating upon this code ourselves. However, it turns out that Python has an existing library called re that has a number of built-in functions that can validate user inputs against patterns.\n",
    "\n",
    "One of the most versatile functions within the library re is search.\n",
    "The search library follows the signature re.search(pattern, string, \n",
    "flags=0). \n",
    "\n",
    "##  The Search method\n",
    "*re.search()*<br>\n",
    "searches the string after a match and returns a match object\n",
    "\n",
    "Following this signature, we can modify our code as follows:\n"
   ]
  },
  {
   "cell_type": "code",
   "execution_count": null,
   "metadata": {},
   "outputs": [],
   "source": [
    "import re\n",
    "\n",
    "email = input(\"What's your email? \").strip()\n",
    "\n",
    "if re.search(\"@\", email):\n",
    "    print(\"Valid\")\n",
    "else:\n",
    "    print(\"Invalid\")\n"
   ]
  },
  {
   "cell_type": "markdown",
   "metadata": {},
   "source": [
    "Notice this does not increase the functionality of our program at all. In fact, it is somewhat a step back.\n",
    "\n",
    "\n",
    "We can further our program’s functionality. However, we need to advance our vocabulary around validation. It turns out that in the world of regular expressions there are certain symbols that allow us to identify patterns. At this point, we have only been checking for specific pieces of text like @. It so happens that many special symbols can be passed to the compiler for the purpose of engaging in validation. A non-exhaustive list of those patterns is as follows:\n",
    "\n",
    "-   .   any character except a new line\n",
    "-   *   0 or more repetitions\n",
    "-   +   1 or more repetitions\n",
    "-   ?   0 or 1 repetition\n",
    "-   {m} m repetitions\n",
    "-   {m, n} m-n repetitions\n",
    "Implementing this inside of our code, modify yours as follows:"
   ]
  },
  {
   "cell_type": "code",
   "execution_count": null,
   "metadata": {},
   "outputs": [],
   "source": [
    "import re\n",
    "\n",
    "email = input(\"What's your email? \").strip()\n",
    "\n",
    "if re.search(\".+@.+\", email):\n",
    "    print(\"Valid\")\n",
    "else:\n",
    "    print(\"Invalid\")"
   ]
  },
  {
   "cell_type": "markdown",
   "metadata": {},
   "source": [
    "Notice that we don’t care what the username or domain is. What we care about is the pattern. .+ is used to determine if anything is to the left of the email address and if anything is to the right of the email address. Running your code, typing in malan@, you’ll notice that the input is regarded as invalid as we would hope.\n",
    "\n",
    "Had we used a regular expression .*@.* in our code above, you can visualize this as follows: State Machine.\n",
    "\n",
    "Notice the depiction of the state machine of our regular expression. On the left, the compiler begins evaluating the statement from left to right. Once we reach q1 or question 1, the compiler reads time and time again based on the expression handed to it. Then, the state is changed looking now at q2 or the second question being validated. Again, the arrow indicates how the expression will be evaluated time and time again based upon our programming. Then, as depicted by the double circle, the final state of state machine is reached.\n",
    "\n",
    "Considering the regular expression we used in our code, .+@.+, you can visualize it as follows: State Machine.\n",
    "\n",
    "Notice how q1 is any character provided by the user, including ‘q2’ as 1 or more repetitions of characters. This is followed by the ‘@’ symbol. Then, q3 looks for any character provided by the user, including q4 as 1 or more repetitions of characters.\n",
    "\n",
    "The re and re.search functions and ones like them look for patterns.\n",
    "Continuing our improvement of this code, we could improve our code as follows:"
   ]
  },
  {
   "cell_type": "code",
   "execution_count": null,
   "metadata": {},
   "outputs": [],
   "source": [
    "import re\n",
    "\n",
    "email = input(\"What's your email? \").strip()\n",
    "\n",
    "if re.search(\".+@.+.edu\", email):\n",
    "    print(\"Valid\")\n",
    "else:\n",
    "    print(\"Invalid\")"
   ]
  },
  {
   "cell_type": "markdown",
   "metadata": {},
   "source": [
    "Notice, however, that one could type in malan@harvard?edu and it could be considered valid. Why is this the case? You might recognize that in the language of validation, a . means any character!\n",
    "\n",
    "We can modify our code as follows:"
   ]
  },
  {
   "cell_type": "code",
   "execution_count": null,
   "metadata": {},
   "outputs": [],
   "source": [
    "import re\n",
    "\n",
    "email = input(\"What's your email? \").strip()\n",
    "\n",
    "if re.search(\".+@.+\\.edu\", email):\n",
    "    print(\"Valid\")\n",
    "else:\n",
    "    print(\"Invalid\")"
   ]
  },
  {
   "cell_type": "markdown",
   "metadata": {},
   "source": [
    "Now we’ve ensured the Python interpreter won’t treat \\. as a special character. Instead, simply as a \\ followed by a .—which, in regular expression terms, means matching a literal “.”.\n",
    "\n",
    "You can imagine still how our users could create problems for us! For example, you could type in a sentence such as My email address is malan@harvard.edu and this whole sentence would be considered valid. We can be even more precise in our coding.\n",
    "It just so happens we have more special symbols at our disposal in validation:\n",
    "^   matches the start of the string\n",
    "$   matches the end of the string or just before the newline at the end of the string\n",
    "We can modify our code using our added vocabulary as follows:"
   ]
  },
  {
   "cell_type": "code",
   "execution_count": null,
   "metadata": {},
   "outputs": [],
   "source": [
    "import re\n",
    "\n",
    "email = input(\"What's your email? \").strip()\n",
    "\n",
    "if re.search(r\"^.+@.+\\.edu$\", email):\n",
    "    print(\"Valid\")\n",
    "else:\n",
    "    print(\"Invalid\")"
   ]
  },
  {
   "cell_type": "markdown",
   "metadata": {},
   "source": [
    "Notice this has the effect of looking for this exact pattern matching to the start and end of the expression being validated. Typing in a sentence such as My email address is malan@harvard.edu now is regarded as invalid.\n",
    "\n",
    "We propose we can do even better! Even though we are now looking for the username at the start of the string, the @ symbol, and the domain name at the end, we could type in as many @ symbols as we wish! malan@@@harvard.edu is considered valid!\n",
    "We can add to our vocabulary as follows:\n",
    "[]    set of characters\n",
    "[^]   complementing the set\n",
    "Using these newfound abilities, we can modify our expression as follows:"
   ]
  },
  {
   "cell_type": "code",
   "execution_count": null,
   "metadata": {},
   "outputs": [],
   "source": [
    "import re\n",
    "\n",
    "email = input(\"What's your email? \").strip()\n",
    "\n",
    "if re.search(r\"^[^@]+@[^@]+\\.edu$\", email):\n",
    "    print(\"Valid\")\n",
    "else:\n",
    "    print(\"Invalid\")"
   ]
  },
  {
   "cell_type": "markdown",
   "metadata": {},
   "source": [
    "Notice that ^ means to match at the start of the string. All the way at the end of our expression, $ means to match at the end of the string. [^@]+ means any character except an @. Then, we have a literal @. [^@]+\\.edu means any character except an @ followed by an expression ending in .edu. Typing in malan@@@harvard.edu is now regarded as invalid.\n",
    "\n",
    "We can still improve this regular expression further. It turns out there are certain requirements for what an email address can be! Currently, our validation expression is far too accomodating. We might only want to allow for characters normally used in a sentence. We can modify our code as follows:"
   ]
  },
  {
   "cell_type": "code",
   "execution_count": null,
   "metadata": {},
   "outputs": [],
   "source": [
    "import re\n",
    "\n",
    "email = input(\"What's your email? \").strip()\n",
    "\n",
    "if re.search(r\"^[a-zA-Z0-9_]+@[a-zA-Z0-9_].+\\.edu$\", email):\n",
    "    print(\"Valid\")\n",
    "else:\n",
    "    print(\"Invalid\")"
   ]
  },
  {
   "cell_type": "markdown",
   "metadata": {},
   "source": [
    "Notice that [a-zA-Z0-9_] tells the validation that characters must be between a and z, between A and Z, between 0 and 9 and potentially include an _ symbol. Testing the input, you’ll find that many potential user mistakes can be indicated.\n",
    "\n",
    "Thankfully, common patterns have been built into regular expressions by hard-working programmers. In this case, you can modify your code as follows:"
   ]
  },
  {
   "cell_type": "code",
   "execution_count": null,
   "metadata": {},
   "outputs": [],
   "source": [
    "import re\n",
    "\n",
    "email = input(\"What's your email? \").strip()\n",
    "\n",
    "if re.search(r\"^\\w+@\\w.+\\.edu$\", email):\n",
    "    print(\"Valid\")\n",
    "else:\n",
    "    print(\"Invalid\")"
   ]
  },
  {
   "cell_type": "markdown",
   "metadata": {},
   "source": [
    "Notice that \\w is the same as [a-zA-Z0-9_]. Thanks, hard-working programmers!\n",
    "\n",
    "Here are some additional patterns we can add to our vocabulary:\n",
    "\\d    decimal digit\n",
    "\\D    not a decimal digit\n",
    "\\s    whitespace characters\n",
    "\\S    not a whitespace character\n",
    "\\w    word character, as well as numbers and the underscore\n",
    "\\W    not a word character\n",
    "Now, we know that there are not simply .edu email addresses. We could modify our code as follows:"
   ]
  },
  {
   "cell_type": "code",
   "execution_count": null,
   "metadata": {},
   "outputs": [],
   "source": [
    "import re\n",
    "\n",
    "email = input(\"What's your email? \").strip()\n",
    "\n",
    "if re.search(r\"^\\w+@\\w.+\\.(com|edu|gov|net|org)$\", email):\n",
    "    print(\"Valid\")\n",
    "else:\n",
    "    print(\"Invalid\")"
   ]
  },
  {
   "cell_type": "markdown",
   "metadata": {},
   "source": [
    "Notice that the | has the impact of an or in our expression.\n",
    "\n",
    "Adding even more symbols to our vocabulary, here are some more to consider:\n",
    "A|B     either A or B\n",
    "(...)   a group\n",
    "(?:...) non-caputuring version"
   ]
  },
  {
   "cell_type": "markdown",
   "metadata": {},
   "source": [
    "## Case Sensitivity\n",
    "\n",
    "To illustrate how you might address issues around case sensitivity, where there is a difference between EDU and edu and the like, let’s rewind our code to the following:"
   ]
  },
  {
   "cell_type": "code",
   "execution_count": null,
   "metadata": {},
   "outputs": [],
   "source": [
    "import re\n",
    "\n",
    "email = input(\"What's your email? \").strip()\n",
    "\n",
    "if re.search(r\"^\\w+@\\w.+\\.edu$\", email):\n",
    "    print(\"Valid\")\n",
    "else:\n",
    "    print(\"Invalid\")"
   ]
  },
  {
   "cell_type": "markdown",
   "metadata": {},
   "source": [
    "Notice how we have removed the | statements provided previously.\n",
    "\n",
    "Recall that within the re.search function, there is a parameter for flags.\n",
    "Some built-in flag variables are:\n",
    "re.IGNORECASE\n",
    "re.MULTILINE\n",
    "re.DOTALL\n",
    "Consider how you might use these in your code.\n",
    "\n",
    "Therefore, we can change our code as follows."
   ]
  },
  {
   "cell_type": "code",
   "execution_count": null,
   "metadata": {},
   "outputs": [],
   "source": [
    "import re\n",
    "\n",
    "email = input(\"What's your email? \").strip()\n",
    "\n",
    "if re.search(r\"^\\w+@\\w.+\\.edu$\", email, re.IGNORECASE):\n",
    "    print(\"Valid\")\n",
    "else:\n",
    "    print(\"Invalid\")"
   ]
  },
  {
   "cell_type": "markdown",
   "metadata": {},
   "source": [
    "Notice how we added a third parameter re.IGNORECASE. Running this program with MALAN@HARVARD.EDU, the input is now considered valid.\n",
    "\n",
    "Consider the following email address malan@cs50.harvard.edu. Using our code above, this would be considered invalid. Why might that be?\n",
    "Since there is an additional ., the program considers this invalid.\n",
    "It turns out that we can, looking at our vocabulary from before, we can group together ideas.\n",
    "A|B     either A or B\n",
    "(...)   a group\n",
    "(?:...) non-caputuring version\n",
    "We can modify our code as follows:"
   ]
  },
  {
   "cell_type": "code",
   "execution_count": null,
   "metadata": {},
   "outputs": [],
   "source": [
    "import re\n",
    "\n",
    "email = input(\"What's your email? \").strip()\n",
    "\n",
    "if re.search(r\"^\\w+@(\\w+\\.)?\\w+\\.edu$\", email, re.IGNORECASE):\n",
    "    print(\"Valid\")\n",
    "else:\n",
    "    print(\"Invalid\")"
   ]
  },
  {
   "cell_type": "markdown",
   "metadata": {},
   "source": [
    "Notice how the (\\w+\\.)? communicates to the compiler that this new expression can be there once or not at all. Hence, both malan@cs50.harvard.edu and malan@harvard.edu are considered valid.\n",
    "\n",
    "Interestingly enough, the edits we have done so far to our code do not fully encompass all the checking that could be done to ensure a valid email address. Indeed, here is the full expression that one would have to type to ensure that a valid email is inputted:\n",
    "\n",
    "^[a-zA-Z0-9.!#$%&'*+\\/=?^_`{|}~-]+@[a-zA-Z0-9](?:[a-zA-Z0-9-]{0,61}[a-zA-Z0-9])?(?:\\.[a-zA-Z0-9](?:[a-zA-Z0-9-]{0,61}[a-zA-Z0-9])?)*$\n",
    "There are other functions within the re library you might find useful. re.match and re.fullmatch are ones you might find exceedingly useful.\n",
    "\n",
    "You can learn more in Python’s documentation of [re]()."
   ]
  },
  {
   "cell_type": "markdown",
   "metadata": {},
   "source": [
    "##  Cleaning up User input\n",
    "\n",
    "You should never expect your users to always follow your hopes for clean input. Indeed, users will often violate your intentions as a programmer.\n",
    "There are ways to clean up your data.\n",
    "In the terminal window, type code format.py. Then, in the text-editor, code as follows:"
   ]
  },
  {
   "cell_type": "code",
   "execution_count": null,
   "metadata": {},
   "outputs": [],
   "source": [
    "name = input(\"What's your name? \").strip()\n",
    "print(f\"hello, {name}\")"
   ]
  },
  {
   "cell_type": "markdown",
   "metadata": {},
   "source": [
    "Notice that we have created, essentially, a “hello world” program. Running this program and typing in David, it works well! However, typing in Malan, David notice how the program does not function as intended. How could we modify our program to clean up this input?\n",
    "\n",
    "Modify your code as follows."
   ]
  },
  {
   "cell_type": "code",
   "execution_count": null,
   "metadata": {},
   "outputs": [],
   "source": [
    "name = input(\"What's your name? \").strip()\n",
    "if \",\" in name:\n",
    "    last, first = name.split(\", \")\n",
    "    name = f\"{first} {last}\"\n",
    "\n",
    "print(f\"hello, {name}\")"
   ]
  },
  {
   "cell_type": "markdown",
   "metadata": {},
   "source": [
    "Notice how last, first = name.split(\", \") is run if there is a , in the name. Then, the name is standardized as first and last. Running our code, typing in Malan, David, you can see how this program does clean up at least one scenario where a user types in something unexpected.\n",
    "\n",
    "You might notice that typing in Malan,David with no space causes the compiler to throw an error. Since we now know some regular expression syntax, let’s apply that to our code:"
   ]
  },
  {
   "cell_type": "code",
   "execution_count": null,
   "metadata": {},
   "outputs": [],
   "source": [
    "import re\n",
    "\n",
    "name = input(\"What's your name? \").strip()\n",
    "matches = re.search(r\"^(.+), (.+)$\", name)\n",
    "if matches:\n",
    "    last, first = matches.groups()\n",
    "    name = f\"{first} {last}\"\n",
    "print(f\"hello, {name}\")"
   ]
  },
  {
   "cell_type": "markdown",
   "metadata": {},
   "source": [
    "Notice that re.search can return a set of matches that are extracted from the user’s input. If matches are returned by re.search. Running this program, typing in David Malan notice how the if condition is not run and the name is returned. If you run the program by typing Malan, David, the name is also returned properly.\n",
    "\n",
    "It just so happens that we can request specific groups back using matches.group. We can modify our code as follows:"
   ]
  },
  {
   "cell_type": "code",
   "execution_count": null,
   "metadata": {},
   "outputs": [],
   "source": [
    "import re\n",
    "\n",
    "name = input(\"What's your name? \").strip()\n",
    "matches = re.search(r\"^(.+), (.+)$\", name)\n",
    "if matches:\n",
    "    last = matches.group(1)\n",
    "    first = matches.group(2)\n",
    "    name = f\"{first} {last}\"\n",
    "print(f\"hello, {name}\")"
   ]
  },
  {
   "cell_type": "markdown",
   "metadata": {},
   "source": [
    "Notice how, in this implementation, group is not plural (there is no s).\n",
    "\n",
    "Our code can be further tightened as follows:"
   ]
  },
  {
   "cell_type": "code",
   "execution_count": null,
   "metadata": {},
   "outputs": [],
   "source": [
    "import re\n",
    "\n",
    "name = input(\"What's your name? \").strip()\n",
    "matches = re.search(r\"^(.+), (.+)$\", name)\n",
    "if matches:\n",
    "    name = matches.group(2) + \" \" + matches.group(1)\n",
    "print(f\"hello, {name}\")"
   ]
  },
  {
   "cell_type": "markdown",
   "metadata": {},
   "source": [
    "Notice how group(2) and group(1) are concatenated together with a space. The first group is that which is left of the comma. The second group is that which is right of the comma.\n",
    "\n",
    "Recognize still that typing in Malan,David with no space will still break our code. Therefore, we can make the following modification:"
   ]
  },
  {
   "cell_type": "code",
   "execution_count": null,
   "metadata": {},
   "outputs": [],
   "source": [
    "import re\n",
    "\n",
    "name = input(\"What's your name? \").strip()\n",
    "matches = re.search(r\"^(.+), *(.+)$\", name)\n",
    "if matches:\n",
    "    name = matches.group(2) + \" \" + matches.group(1)\n",
    "print(f\"hello, {name}\")"
   ]
  },
  {
   "cell_type": "markdown",
   "metadata": {},
   "source": [
    "Notice the addition of the * in our validation statement. This code will now accept and properly process Malan,David. Further, it will properly handle ` David,Malan with many spaces in front of David`.\n",
    "\n",
    "It is very common to utilize re.search as we have in the previous examples, where matches is on a line of code after. However, we can combine these statements:"
   ]
  },
  {
   "cell_type": "code",
   "execution_count": null,
   "metadata": {},
   "outputs": [],
   "source": [
    "import re\n",
    "\n",
    "name = input(\"What's your name? \").strip()\n",
    "if matches := re.search(r\"^(.+), *(.+)$\", name):\n",
    "    name = matches.group(2) + \" \" + matches.group(1)\n",
    "print(f\"hello, {name}\")"
   ]
  },
  {
   "cell_type": "markdown",
   "metadata": {},
   "source": [
    "Notice how we combine two lines of our code. The walrus := operator assigns a value from right to left and allows us to ask a boolean question at the same time. Turn your head sideways and you’ll see why this is called a walrus operator.\n",
    "\n",
    "You can learn more in Python’s documentation of [re]()."
   ]
  },
  {
   "cell_type": "markdown",
   "metadata": {},
   "source": [
    "##  Extracting User input\n",
    "\n",
    "So far, we have validated the user’s input and cleaned up the user’s input.\n",
    "Now, let’s extract some specific information from user input. In the terminal window, type code twitter.py and code as follows in the text editor window:"
   ]
  },
  {
   "cell_type": "code",
   "execution_count": null,
   "metadata": {},
   "outputs": [],
   "source": [
    "url = input(\"URL: \").strip()\n",
    "print(url)"
   ]
  },
  {
   "cell_type": "markdown",
   "metadata": {},
   "source": [
    "Notice that if we type in https://twitter.com/davidjmalan, it shows exactly what the user typed. However, how would we be able to extract just the username and ignore the rest of the URL?\n",
    "\n",
    "You can imagine how we would simply be able to get rid of the beginning of the standard Twitter URL. We can attempt this as follows:"
   ]
  },
  {
   "cell_type": "code",
   "execution_count": null,
   "metadata": {},
   "outputs": [],
   "source": [
    "url = input(\"URL: \").strip()\n",
    "\n",
    "username = url.replace(\"https://twitter.com/\", \"\")\n",
    "print(f\"Username: {username}\")"
   ]
  },
  {
   "cell_type": "markdown",
   "metadata": {},
   "source": [
    "Notice how the replace method allows us to find one item and replace it with another. In this case, we are finding part of the URL and replacing it with nothing. Typing in the full URL https://twitter.com/davidjmalan, the program effectively outputs the username. However, what are some shortcomings of this current program?\n",
    "\n",
    "What if the user simply typed twitter.com instead of including the https:// and the like? You can imagine many scenarios where the user may input or neglect to input parts of the URL that would create strange output by this program. To improve this program, we can code as follows:"
   ]
  },
  {
   "cell_type": "code",
   "execution_count": null,
   "metadata": {},
   "outputs": [],
   "source": [
    "url = input(\"URL: \").strip()\n",
    "\n",
    "username = url.removeprefix(\"https://twitter.com/\")\n",
    "print(f\"Username: {username}\")"
   ]
  },
  {
   "cell_type": "markdown",
   "metadata": {},
   "source": [
    "Notice how we utilize the removeprefix method. This method will remove the beginning of a string.\n",
    "\n",
    "Regular expressions simply allow us to succinctly express the patterns and goals.\n",
    "Within the re library, there is a method called sub. This method allows us to substitute a pattern with something else.\n",
    "The signature of the sub method is as follows\n",
    "re.sub(pattern, repl, string, count=0, flags=0)\n",
    "Notice how pattern refers to the regular expression we are looking for. Then, there is a repl string that we can replace the pattern with. Finally, there is the string that we want to do the substitution on.\n",
    "\n",
    "Implementing this method in our code, we can modify our program as follows:"
   ]
  },
  {
   "cell_type": "code",
   "execution_count": null,
   "metadata": {},
   "outputs": [],
   "source": [
    "import re\n",
    "\n",
    "url = input(\"URL: \").strip()\n",
    "\n",
    "username re.sub(r\"https://twitter.com/\", \"\", url)\n",
    "print(f\"Username: {username}\")"
   ]
  },
  {
   "cell_type": "markdown",
   "metadata": {},
   "source": [
    "Notice how executing this program and inputting https://twitter.com/davidjmalan produces the correct outcome. However, there are some problems still present in our code.\n",
    "\n",
    "The protocol, subdomain, and the possibility that the user inputted any part of the URL after the username are all reasons that this code is still not ideal. We can further address these shortcomings as follows:"
   ]
  },
  {
   "cell_type": "code",
   "execution_count": null,
   "metadata": {},
   "outputs": [],
   "source": [
    "import re\n",
    "\n",
    "url = input(\"URL: \").strip()\n",
    "\n",
    "username re.sub(r\"^(https?://)?(www\\.)?twitter\\.com/\", \"\", url)\n",
    "print(f\"Username: {username}\")"
   ]
  },
  {
   "cell_type": "markdown",
   "metadata": {},
   "source": [
    "Notice how the ^ carrot was added to the url. Notice also how the . could be interpreted improperly by the compiler. Therefore, we escape it using a \\ to make it \\. For the purpose of tolerating both http and https, we add a ? to the end of https?, making the s optional. Further, to accommodate www we add (www\\.)? to our code. Finally, just in case the user decides to leave out the protocol altogether, the http:// or https:// is made optional using (https?://).\n",
    "\n",
    "Still, we are blindly expecting that what the user inputted a url that, indeed, has a username.\n",
    "Using our knowledge of re.search, we can further improve our code."
   ]
  },
  {
   "cell_type": "code",
   "execution_count": null,
   "metadata": {},
   "outputs": [],
   "source": [
    "import re\n",
    "\n",
    "url = input(\"URL: \").strip()\n",
    "\n",
    "matches = re.search(r\"^https?://(www\\.)?twitter\\.com/(.+)$\", url, re.IGNORECASE)\n",
    "if matches:\n",
    "    print(f\"Username:\", matches.group(2))"
   ]
  },
  {
   "cell_type": "markdown",
   "metadata": {},
   "source": [
    "Notice how we are searching for the regular expression above in the string provided by the user. In particular, we are capturing that which appears at the end of the URL using (.+)$ regular expression. Therefore, if the user fails to input a URL without a username, no input will be presented.\n",
    "\n",
    "Even further tightening up our program, we can utilize our := operator as follows:"
   ]
  },
  {
   "cell_type": "code",
   "execution_count": null,
   "metadata": {},
   "outputs": [],
   "source": [
    "import re\n",
    "\n",
    "url = input(\"URL: \").strip()\n",
    "\n",
    "if matches := re.search(r\"^https?://(?:www\\.)?twitter\\.com/(.+)$\", url, re.IGNORECASE):\n",
    "    print(f\"Username:\", matches.group(1))"
   ]
  },
  {
   "cell_type": "markdown",
   "metadata": {},
   "source": [
    "Notice that the ?: tells the compiler it does not have to capture what is in that spot in our regular expression.\n",
    "\n",
    "Still, we can be more explicit to ensure that the username inputted is correct. Using Twitter’s documentation, we can add the following to our regular expression:"
   ]
  },
  {
   "cell_type": "code",
   "execution_count": null,
   "metadata": {},
   "outputs": [],
   "source": [
    "import re\n",
    "\n",
    "url = input(\"URL: \").strip()\n",
    "\n",
    "if matches := re.search(r\"^https?://(?:www\\.)?twitter\\.com/([a-z0-9_]+)\", url, re.IGNORECASE):\n",
    "    print(f\"Username:\", matches.group(1))"
   ]
  },
  {
   "cell_type": "markdown",
   "metadata": {},
   "source": [
    "Notice that the [a-z0-9_]+ tells the compiler to only expect a-z, 0-9, and _ as part of the regular expression. The + indicates that we are expecting one or more characters.\n",
    "\n",
    "You can learn more in Python’s documentation of re."
   ]
  }
 ],
 "metadata": {
  "kernelspec": {
   "display_name": "Python 3.10.5 64-bit",
   "language": "python",
   "name": "python3"
  },
  "language_info": {
   "codemirror_mode": {
    "name": "ipython",
    "version": 3
   },
   "file_extension": ".py",
   "mimetype": "text/x-python",
   "name": "python",
   "nbconvert_exporter": "python",
   "pygments_lexer": "ipython3",
   "version": "3.10.6"
  },
  "orig_nbformat": 4,
  "vscode": {
   "interpreter": {
    "hash": "949777d72b0d2535278d3dc13498b2535136f6dfe0678499012e853ee9abcab1"
   }
  }
 },
 "nbformat": 4,
 "nbformat_minor": 2
}
