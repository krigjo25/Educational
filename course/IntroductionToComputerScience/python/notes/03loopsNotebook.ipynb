{
 "cells": [
  {
   "cell_type": "markdown",
   "metadata": {},
   "source": [
    "#   Loops Notebook"
   ]
  },
  {
   "cell_type": "markdown",
   "metadata": {},
   "source": []
  },
  {
   "cell_type": "markdown",
   "metadata": {},
   "source": [
    "##   Loops\n",
    "Loops are a way to do something over and over again"
   ]
  },
  {
   "cell_type": "code",
   "execution_count": null,
   "metadata": {},
   "outputs": [],
   "source": [
    "#   hard coding meow over again to illustrate the importance of a loop\n",
    "print('meow')\n",
    "print('meow')\n",
    "print('meow')\n",
    "\n"
   ]
  },
  {
   "cell_type": "markdown",
   "metadata": {},
   "source": [
    "In developing as a programmer, you want to consider how<br>\n",
    "one could improve areas of one's code where one types<br>\n",
    "the same thing over and over again. Imagine where one <br>\n",
    "has to type meow 500 times. Would it be logical to use <br>\n",
    "`print('meow')`? or automate the code with a block of code<br>\n",
    "that executes over and over again?"
   ]
  },
  {
   "cell_type": "markdown",
   "metadata": {},
   "source": [
    "##  While Loops\n",
    "The while loop is nearly unversial throughout all coding<br>\n",
    "languages. Such a loop will repear a block of code untill<br>\n",
    "it returns false.\n",
    "\n",
    "`i = 3`\n",
    "`While i != 0`\n",
    "    `print('meow*)`\n",
    "\n",
    "**Notice** even though this code will execute *meow* multiple<br>\n",
    "times, it will loop forever, as the code `while i != 0` never<br>\n",
    "returns false.  The `while` loop works by repeatingly ask if <br>\n",
    "the condition is `True`, while its true the complier asks<br>\n",
    "'Does i not equal to zero?', Ihere is an override in python<br>\n",
    "if the loops runs forever, you can press **control-c** on the<br>\n",
    "keyboard to break out of the loop.\n",
    "\n",
    "To fix the infinity loop, the code can be modified as follows."
   ]
  },
  {
   "cell_type": "code",
   "execution_count": null,
   "metadata": {},
   "outputs": [],
   "source": [
    "#   Initializing variables\n",
    "i = 1\n",
    "\n",
    "while i <= 3:\n",
    "\n",
    "    #   Printing the output\n",
    "    print('meow')\n",
    "\n",
    "    #   Adding one to the variable\n",
    "    i +=1"
   ]
  },
  {
   "cell_type": "markdown",
   "metadata": {},
   "source": [
    "Notice how the `i = i + 1` has been assigned the value of `i`<br>\n",
    "from the right to the left. Above the program starting `ì`<br>\n",
    "at one, like most of the humans counts. If the code get<br>\n",
    "executed, the *meow* will be printed four times. In<br>\n",
    "programming its a common practice to start from zero"
   ]
  },
  {
   "cell_type": "code",
   "execution_count": null,
   "metadata": {},
   "outputs": [],
   "source": [
    "#   Initializing variables\n",
    "i = 0\n",
    "\n",
    "#   iterating through the variable\n",
    "while i < 3:\n",
    "\n",
    "    #   Printing the output\n",
    "    print('meow')\n",
    "\n",
    "    #   Count up\n",
    "    i += 1"
   ]
  },
  {
   "cell_type": "markdown",
   "metadata": {},
   "source": [
    "Notice the change of the operator to `i < 3` allows the<br>\n",
    "code to function as it's intended. It begins from 0 and<br>\n",
    "iterates through the loop three times, producing the meow<br>\n",
    "three times. Also notice how `i += 1` is the same thing as `i = i + 1`.\n",
    "\n"
   ]
  },
  {
   "cell_type": "markdown",
   "metadata": {},
   "source": [
    "##  For loops\n",
    "\n",
    "A for loop is another type of a loop<br>\n",
    "To understand a for loop in the best way, its best<br>\n",
    "to talk about a new variable called `list` in Python.<br>\n",
    "As in other area of our lives, we can have a grocery list or a to-do list, bucket list etc.\n",
    "\n",
    "A for loop iterates through a list of items. "
   ]
  },
  {
   "cell_type": "code",
   "execution_count": 1,
   "metadata": {},
   "outputs": [
    {
     "name": "stdout",
     "output_type": "stream",
     "text": [
      "meow\n",
      "meow\n",
      "meow\n"
     ]
    }
   ],
   "source": [
    "for i in [0, 1, 2]:\n",
    "    print('meow')"
   ]
  },
  {
   "cell_type": "markdown",
   "metadata": {},
   "source": [
    "**Notice** how clean its is compared to the `while` loop code.<br>\n",
    "In this code, `i` begins with `0`, the i is assigned firstly 0,<br>\n",
    "and the code prints out 'meow', and repeats it self.\n",
    "\n",
    "While this code accomplishes what we want, there are some<br>\n",
    "possibilites for improvements. At first glace the code<br>\n",
    "block looks grat. However, what if you wanted to iterate<br>\n",
    "with higher integers. Its best to design the code to create<br>\n",
    "such extreme cases, Accordingly, the code can be improved by."
   ]
  },
  {
   "cell_type": "code",
   "execution_count": 2,
   "metadata": {},
   "outputs": [
    {
     "name": "stdout",
     "output_type": "stream",
     "text": [
      "meow\n",
      "meow\n",
      "meow\n"
     ]
    }
   ],
   "source": [
    "for i in range(3):\n",
    "    print('meow')"
   ]
  },
  {
   "cell_type": "markdown",
   "metadata": {},
   "source": [
    "**Notice** how `range(3)` provides back three values,<br>\n",
    "automatically. This code will be executed and produce<br>\n",
    "the intended effect *mowing three times*.\n",
    "\n",
    "The code can be further improved. notice how the i is used<br>\n",
    "Python needs a variable as a place to store the number<br>\n",
    "of the iteration of the loop, if such a variable does not <br>\n",
    "have any other significance in our code, we can simply<br>\n",
    "represent this variable as a single underscore '_'<br>\n",
    "Therefore the program can be modified"
   ]
  },
  {
   "cell_type": "code",
   "execution_count": 1,
   "metadata": {},
   "outputs": [
    {
     "name": "stdout",
     "output_type": "stream",
     "text": [
      "meow\n",
      "meow\n",
      "meow\n"
     ]
    }
   ],
   "source": [
    "for _ in range(3):\n",
    "    print('meow')"
   ]
  },
  {
   "cell_type": "markdown",
   "metadata": {},
   "source": [
    "Notice how the variable `i` to `_` has no impact on<br>\n",
    "the fuctionallity of the program. \n",
    "\n",
    "The program can be futher improved. To stretch the<br>\n",
    "mind to the possibilites within Python, consider the<br>\n",
    "following program"
   ]
  },
  {
   "cell_type": "code",
   "execution_count": 4,
   "metadata": {},
   "outputs": [
    {
     "name": "stdout",
     "output_type": "stream",
     "text": [
      "MeowMeowMeow "
     ]
    }
   ],
   "source": [
    "print('Meow' *3)"
   ]
  },
  {
   "cell_type": "markdown",
   "metadata": {},
   "source": [
    "Notice how the output will meow three times, the program produces `meowmeowmeow` as the output.\n",
    "\n",
    "Consider : How could you create a line braeak at the end of each meow?"
   ]
  },
  {
   "cell_type": "code",
   "execution_count": 5,
   "metadata": {},
   "outputs": [
    {
     "name": "stdout",
     "output_type": "stream",
     "text": [
      "meow\n",
      "meow\n",
      "meow\n",
      "\n"
     ]
    }
   ],
   "source": [
    "print('meow\\n' *3)"
   ]
  },
  {
   "cell_type": "markdown",
   "metadata": {},
   "source": [
    "The program now produces three meows, on seperated lines. By adding `\\n` we tell the complier to add a line break the end of each meow."
   ]
  },
  {
   "cell_type": "markdown",
   "metadata": {},
   "source": [
    "##  Improving with User Input\n",
    "\n",
    "the program request a `input` from a user.<br>\n",
    "Loops can be used as away of validating the user input.\n",
    "\n",
    "A common paradigm within Python is to use a `while` loop<br>\n",
    "to validate the user input.\n"
   ]
  },
  {
   "cell_type": "code",
   "execution_count": 7,
   "metadata": {},
   "outputs": [
    {
     "name": "stdout",
     "output_type": "stream",
     "text": [
      "meow\n",
      "meow\n",
      "meow\n",
      "meow\n",
      "meow\n",
      "meow\n",
      "meow\n",
      "meow\n",
      "meow\n",
      "meow\n"
     ]
    }
   ],
   "source": [
    "while True:\n",
    "\n",
    "    n = int(input('What is n? :'))\n",
    "    if n > 0:\n",
    "        break\n",
    "\n",
    "for i in range(n):\n",
    "    print('meow')"
   ]
  },
  {
   "cell_type": "markdown",
   "metadata": {},
   "source": [
    "Notice how the while loop will run infinite until `n`<br>\n",
    "is greater than 0, the loop breaks. The `break` statement is<br>\n",
    "a method by which to get out of the most recently executed<br>\n",
    "loop. The `range` of the for loop is now `n`. Execute the code<br>\n",
    "and see if it works as intended.\n",
    "\n",
    "We can use functions to further improve the code"
   ]
  },
  {
   "cell_type": "code",
   "execution_count": 11,
   "metadata": {},
   "outputs": [
    {
     "name": "stdout",
     "output_type": "stream",
     "text": [
      "meow\n"
     ]
    }
   ],
   "source": [
    "def main():\n",
    "    n = GetN()\n",
    "    meow(n)\n",
    "\n",
    "def GetN():\n",
    "\n",
    "    while True:\n",
    "        n = int(input('What is n? :'))\n",
    "        if n > 0:\n",
    "            break\n",
    "\n",
    "    return n\n",
    "\n",
    "def meow(n):\n",
    "    for _ in range(n):\n",
    "        print('meow')\n",
    "\n",
    "main()"
   ]
  },
  {
   "cell_type": "markdown",
   "metadata": {},
   "source": [
    "Notice how not only did we change the code to operate in multiple functions, but it also used a `return` statement to return the value of\n",
    "`n` back to the `main` function"
   ]
  },
  {
   "cell_type": "markdown",
   "metadata": {},
   "source": [
    "##  More about lists\n",
    "\n",
    "Consider the world of Hogwarts from the fammed<br>\n",
    "Harry Potter universe."
   ]
  },
  {
   "cell_type": "code",
   "execution_count": null,
   "metadata": {},
   "outputs": [],
   "source": [
    "student = [\n",
    "            'Hermonie',\n",
    "            'Harry',\n",
    "            'Ron',\n",
    "]\n",
    "\n",
    "print(student[0])\n",
    "print(student[1])\n",
    "print(student[2])\n"
   ]
  },
  {
   "cell_type": "markdown",
   "metadata": {},
   "source": [
    "Notice there is a `list` of students with their names as above. Then the program `prints` the student at 0th location, `'Hermonie'`. Every student is printed as well\n",
    "\n",
    "Just as illustrated, there is room for improvements in the program.\n",
    "a loop can be used to iterate over the list."
   ]
  },
  {
   "cell_type": "code",
   "execution_count": null,
   "metadata": {},
   "outputs": [],
   "source": [
    "student = [\n",
    "            'Hermonie',\n",
    "            'Harry',\n",
    "            'Ron',\n",
    "]\n",
    "\n",
    "for i in student:\n",
    "    print(student)"
   ]
  },
  {
   "cell_type": "markdown",
   "metadata": {},
   "source": [
    "## Length\n",
    "\n",
    "`len` can be utilized as a way of retrieveing the length<br>\n",
    "of the `list` called `student`.\n",
    "\n",
    "Imagine that you dont simply want to print the name of the<br>\n",
    "student, but also their position in the list. To accomplish<br>\n",
    "this, you can modify the code as follows."
   ]
  },
  {
   "cell_type": "code",
   "execution_count": 2,
   "metadata": {},
   "outputs": [
    {
     "name": "stdout",
     "output_type": "stream",
     "text": [
      "1 Hermonie\n",
      "2 Harry\n",
      "3 Ron\n"
     ]
    }
   ],
   "source": [
    "student = [\n",
    "            'Hermonie',\n",
    "            'Harry',\n",
    "            'Ron',\n",
    "]\n",
    "\n",
    "for i in range(len(student)):\n",
    "    print(i + 1, student[i])"
   ]
  },
  {
   "cell_type": "markdown",
   "metadata": {},
   "source": [
    "Notice how the code executes the output, not only by getting the position of each student plus one using `i + 1`, but also prints the name of each student. `len` allow you to dynamically see how long the list of the students is regardless how much it grows.\n",
    "\n",
    "find more about list in [Python's Documentations of len](https://docs.python.org/3/library/functions.html?highlight=len#len)"
   ]
  },
  {
   "cell_type": "markdown",
   "metadata": {},
   "source": [
    "##  Dictionaries\n",
    "\n",
    "`dict` or dictionaries is a data structure that allows you to<br>\n",
    "associate keys with values. Where a `list` is a list of multiple<br>\n",
    "values, a `dict` associates a key with a value.\n",
    "\n",
    "Considering the houses of Hogwarts, we might assign specific students<br>\n",
    "to specific house We could use `list`s alone to accomplish this."
   ]
  },
  {
   "cell_type": "code",
   "execution_count": null,
   "metadata": {},
   "outputs": [],
   "source": [
    "#   Initializing Lists\n",
    "\n",
    "student = ['Hermonie', 'Harry', 'Ron', 'Draco']\n",
    "houses = ['Gryffindor', 'Gryfindor', 'Griffindoor', 'Slytherin']\n"
   ]
  },
  {
   "cell_type": "markdown",
   "metadata": {},
   "source": [
    "Notice that the list is always ordered.<br>\n",
    "The individual at the first position of<br>\n",
    "`student` is associated with the house at<br>\n",
    "the first position of the `houses` list, and<br>\n",
    "so on. This is technique that can become quite<br>\n",
    "cumbeersome as the list grows.\n",
    "\n",
    "We can improve the program by adding a dictionary."
   ]
  },
  {
   "cell_type": "code",
   "execution_count": null,
   "metadata": {},
   "outputs": [],
   "source": [
    "student = {\n",
    "            'Hermonie':'Gryffindor',\n",
    "            'Harry':'Gryffindor',\n",
    "            'Ron':'Gryffindor',\n",
    "            'Draco':'Slytherin',\n",
    "\n",
    "}\n",
    "\n",
    "print(student['Hermonie'])\n",
    "print(student['Harry'])\n",
    "print(student['Ron'])\n",
    "print(student['Draco'])\n"
   ]
  },
  {
   "cell_type": "markdown",
   "metadata": {},
   "source": [
    "Notice how use `{}` curly braces to create a dictionary.<br>\n",
    "Where `list`s use numbers to iterate through the list, `dict`<br>\n",
    "allow us to use words.\n",
    "\n",
    "The code can be improved by using a loop."
   ]
  },
  {
   "cell_type": "code",
   "execution_count": 3,
   "metadata": {},
   "outputs": [
    {
     "name": "stdout",
     "output_type": "stream",
     "text": [
      "Hermonie\n",
      "Harry\n",
      "Ron\n",
      "Draco\n"
     ]
    }
   ],
   "source": [
    "#   Initializing a dictionary\n",
    "student = {\n",
    "            'Hermonie':'Gryffindor',\n",
    "            'Harry':'Gryffindor',\n",
    "            'Ron':'Gryffindor',\n",
    "            'Draco':'Slytherin',\n",
    "\n",
    "}\n",
    "\n",
    "#   Iterating through the dictionary\n",
    "\n",
    "for i in student:\n",
    "    print(i)"
   ]
  },
  {
   "cell_type": "markdown",
   "metadata": {},
   "source": [
    "Notice while executing the code, the for loop<br>\n",
    "will only iteriate through all the keys,<br>\n",
    "resulting in a list of the student names.\n",
    "\n",
    "How can the for loop iterate through the values and keys?"
   ]
  },
  {
   "cell_type": "code",
   "execution_count": 8,
   "metadata": {},
   "outputs": [
    {
     "name": "stdout",
     "output_type": "stream",
     "text": [
      "Hermonie, Gryffindor\n",
      "Harry, Gryffindor\n",
      "Ron, Gryffindor\n",
      "Draco, Slytherin\n"
     ]
    }
   ],
   "source": [
    "#   Initializing a dictionary\n",
    "student = {\n",
    "            'Hermonie':'Gryffindor',\n",
    "            'Harry':'Gryffindor',\n",
    "            'Ron':'Gryffindor',\n",
    "            'Draco':'Slytherin',\n",
    "\n",
    "}\n",
    "\n",
    "#   Iterating through the dictionary\n",
    "\n",
    "for i in student:\n",
    "    print(f'{i}, {student[i]}')"
   ]
  },
  {
   "cell_type": "markdown",
   "metadata": {},
   "source": [
    "Notice `student[i]` will go to each student's key<br>\n",
    "and find the value of their house. Execute the code<br>\n",
    "and it will be noticed how the output is a bit messy.\n",
    "\n",
    "The code can be cleaned up with the print function by<br>\n",
    "improving the code"
   ]
  },
  {
   "cell_type": "code",
   "execution_count": 9,
   "metadata": {},
   "outputs": [
    {
     "name": "stdout",
     "output_type": "stream",
     "text": [
      "Hermonie,Gryffindor\n",
      "Harry,Gryffindor\n",
      "Ron,Gryffindor\n",
      "Draco,Slytherin\n"
     ]
    }
   ],
   "source": [
    "#   Initializing a dictionary\n",
    "student = {\n",
    "            'Hermonie':'Gryffindor',\n",
    "            'Harry':'Gryffindor',\n",
    "            'Ron':'Gryffindor',\n",
    "            'Draco':'Slytherin',\n",
    "\n",
    "}\n",
    "\n",
    "#   Iterating through the dictionary\n",
    "\n",
    "for i in student:\n",
    "    print(i, student[i], sep = ', ')"
   ]
  },
  {
   "cell_type": "markdown",
   "metadata": {},
   "source": [
    "Notice how this creates a clean seperation of a<br>\n",
    "`, ` between each item printed.\n",
    "\n",
    "What if we want more information about the students?<br>\n",
    "How could we associate more data with each of the students?\n",
    "\n",
    "it could be imagined to hve lots of data associated<br>\n",
    "multiple things with one key, Enchance the code as follows."
   ]
  },
  {
   "cell_type": "code",
   "execution_count": null,
   "metadata": {},
   "outputs": [],
   "source": [
    "student = [\n",
    "            {'name':'Hermonie', 'house', 'Gryffindor', 'patronus': 'Otter'},\n",
    "            {'name':'Harry', 'house', 'Gryffindor', 'patronus': 'Sag'},\n",
    "            {'name':'Ron', 'house', 'Gryffindor', 'patronus': 'Jack Russell terrier'},\n",
    "            {'name':'Draco', 'house', 'Slytherin', 'patronus': None},\n",
    "]"
   ]
  },
  {
   "cell_type": "markdown",
   "metadata": {},
   "source": [
    "Notice how the code creates a `list` of `dict`s.<br>\n",
    "The `list` called `student` has four `dict`s within it.<br>\n",
    "One for each student. Also, notice that Python has a<br>\n",
    "special `None` designation where there is no value<br>\n",
    "associated with a key. Now, you have access to a whole<br>\n",
    "host of interesting data about these students.<br>\n",
    "Now, further improve the code as follows."
   ]
  },
  {
   "cell_type": "code",
   "execution_count": 11,
   "metadata": {},
   "outputs": [
    {
     "name": "stdout",
     "output_type": "stream",
     "text": [
      "Hermonie, Gryffindor, Otter\n",
      "Harry, Gryffindor, Sag\n",
      "Ron, Gryffindor, Jack Russell terrier\n",
      "Draco, Slytherin, None\n"
     ]
    }
   ],
   "source": [
    "student = [\n",
    "            {'name':'Hermonie', 'house':'Gryffindor', 'patronus': 'Otter'},\n",
    "            {'name':'Harry', 'house':'Gryffindor', 'patronus': 'Sag'},\n",
    "            {'name':'Ron', 'house':'Gryffindor', 'patronus': 'Jack Russell terrier'},\n",
    "            {'name':'Draco', 'house':'Slytherin', 'patronus': None},\n",
    "]\n",
    "\n",
    "for i in student:\n",
    "    print(i['name'], i['house'], i['patronus'], sep = ', ')"
   ]
  },
  {
   "cell_type": "markdown",
   "metadata": {},
   "source": [
    "Notice how the for loop iterates through each of the `dict`s inside the `list` called `student`.\n",
    "\n",
    "Leanr more about dictionaries at  [Python's Documentation of dict's](https://docs.python.org/3/tutorial/datastructures.html#dictionaries)"
   ]
  },
  {
   "cell_type": "markdown",
   "metadata": {},
   "source": [
    "##  Mario\n",
    "\n",
    "Remember that the classic game Mario has a hero jumping over bricks. Let's create a textual representation of the game.\n",
    "\n"
   ]
  },
  {
   "cell_type": "code",
   "execution_count": 12,
   "metadata": {},
   "outputs": [
    {
     "name": "stdout",
     "output_type": "stream",
     "text": [
      "#\n",
      "#\n",
      "#\n"
     ]
    }
   ],
   "source": [
    "#   Representing bricks\n",
    "print('#')\n",
    "print('#')\n",
    "print('#')"
   ]
  },
  {
   "cell_type": "markdown",
   "metadata": {},
   "source": [
    "Notice how the code is copied over and over again.\n"
   ]
  },
  {
   "cell_type": "code",
   "execution_count": 14,
   "metadata": {},
   "outputs": [
    {
     "name": "stdout",
     "output_type": "stream",
     "text": [
      "#\n",
      "#\n",
      "#\n"
     ]
    }
   ],
   "source": [
    "#   Representing bricks\n",
    "for i in range(3):\n",
    "    print('#')"
   ]
  },
  {
   "cell_type": "markdown",
   "metadata": {},
   "source": [
    "Notice how the code is improved by using a for loop, columns can grow as much as it want without any 'hard coding'.\n",
    "\n",
    "Let us try to print a row horizontally.\n",
    "\n"
   ]
  },
  {
   "cell_type": "code",
   "execution_count": 16,
   "metadata": {},
   "outputs": [
    {
     "name": "stdout",
     "output_type": "stream",
     "text": [
      "????\n"
     ]
    }
   ],
   "source": [
    "def main():\n",
    "    return Rows(4)\n",
    "\n",
    "def Rows(width):\n",
    "    return print('?' * width)\n",
    "\n",
    "main()"
   ]
  },
  {
   "cell_type": "markdown",
   "metadata": {},
   "source": [
    "Consider how could we implent both rows and columns within our code?"
   ]
  },
  {
   "cell_type": "code",
   "execution_count": 17,
   "metadata": {},
   "outputs": [
    {
     "name": "stdout",
     "output_type": "stream",
     "text": [
      "#\n",
      "#\n",
      "#\n",
      "\n",
      "#\n",
      "#\n",
      "#\n",
      "\n",
      "#\n",
      "#\n",
      "#\n",
      "\n"
     ]
    }
   ],
   "source": [
    "#   Create a function to call PrintS function\n",
    "def main():\n",
    "    return PrintS(3)\n",
    "\n",
    "\n",
    "#   Creating the Prints function \n",
    "\n",
    "def PrintS(size):\n",
    "\n",
    "    #   for each row in square\n",
    "    for i in range(size):\n",
    "\n",
    "        #   For each brick in row\n",
    "        for j in range(size):\n",
    "\n",
    "            #   Print the bricks\n",
    "            print('#')\n",
    "        print()\n",
    "\n",
    "\n",
    "main()"
   ]
  },
  {
   "cell_type": "markdown",
   "metadata": {},
   "source": [
    "Notice that we have an outer loop addresses<br>\n",
    "each row in the square. Then we have an inner<br>\n",
    "loop that prints a brick in each row. Finally,<br>\n",
    "we have a `print` statement that prints a blank line.\n",
    "\n",
    "we can further abstract away the code."
   ]
  },
  {
   "cell_type": "code",
   "execution_count": 18,
   "metadata": {},
   "outputs": [
    {
     "name": "stdout",
     "output_type": "stream",
     "text": [
      "###\n",
      "###\n",
      "###\n",
      "###\n",
      "###\n",
      "###\n",
      "###\n",
      "###\n",
      "###\n"
     ]
    }
   ],
   "source": [
    "#   Create a function to call PrintS function\n",
    "def main():\n",
    "    return PrintS(3)\n",
    "\n",
    "\n",
    "#   Creating the Prints function \n",
    "\n",
    "def PrintS(size):\n",
    "\n",
    "    #   for each row in square\n",
    "    for i in range(size):\n",
    "\n",
    "        #   For each brick in row\n",
    "        PrintRow(size)\n",
    "\n",
    "#   Create a function to print rows\n",
    "def PrintRow(width):\n",
    "\n",
    "    for i in range(width):\n",
    "        print('#' * width)\n",
    "\n",
    "\n",
    "main()"
   ]
  }
 ],
 "metadata": {
  "kernelspec": {
   "display_name": "Python 3.10.5 64-bit",
   "language": "python",
   "name": "python3"
  },
  "language_info": {
   "codemirror_mode": {
    "name": "ipython",
    "version": 3
   },
   "file_extension": ".py",
   "mimetype": "text/x-python",
   "name": "python",
   "nbconvert_exporter": "python",
   "pygments_lexer": "ipython3",
   "version": "3.10.5"
  },
  "orig_nbformat": 4,
  "vscode": {
   "interpreter": {
    "hash": "949777d72b0d2535278d3dc13498b2535136f6dfe0678499012e853ee9abcab1"
   }
  }
 },
 "nbformat": 4,
 "nbformat_minor": 2
}
