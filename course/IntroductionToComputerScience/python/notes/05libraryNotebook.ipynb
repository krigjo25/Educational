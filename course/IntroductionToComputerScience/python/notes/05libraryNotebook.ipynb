{
 "cells": [
  {
   "cell_type": "markdown",
   "metadata": {},
   "source": [
    "#   Libraries NoteBook"
   ]
  },
  {
   "cell_type": "markdown",
   "metadata": {},
   "source": [
    "##   libraries\n",
    "\n",
    "Generally, library are bits of code which is either self created or create by someone else,<br>\n",
    "that can be used in the program. Python allows the programmers to share functions with other<br>\n",
    "as 'modules'. modules or library could be brought into the new project insted of copy and pasting old code.\n"
   ]
  },
  {
   "cell_type": "markdown",
   "metadata": {},
   "source": [
    "##  Random\n",
    "\n",
    "`Random` is a library that comes with the interpreter, it can be imported in a project.<br>\n",
    "As programmer its easier to stand on the shoulders of prior programmers.<br>\n",
    "How do you load a module into a new project? by using `import` you can<br>\n",
    "import modules into the new project<br>\n",
    "\n",
    "inside the `random` module, there is a built-in function called<br>\n",
    "`random.choice(seq)`.`random` is the module which is imported. inside<br>\n",
    "there is the `choice` function. That function takes an argument `(seq)`<br>\n",
    "or a sequence which is a list.\n",
    "\n"
   ]
  },
  {
   "cell_type": "code",
   "execution_count": null,
   "metadata": {},
   "outputs": [],
   "source": [
    "#   Importing Python Responsories\n",
    "import random as r\n",
    "\n",
    "#   Initializing variables\n",
    "coin = r.choice(['heads','tails'])\n",
    "\n",
    "#   Printing the output\n",
    "print(coin)"
   ]
  },
  {
   "cell_type": "markdown",
   "metadata": {},
   "source": [
    "Notice that the list within `choice` has square quotes, and a comma.<br>\n",
    "Since there has been passed in two items, Python does the math and gives<br>\n",
    "a 50% chance for \"heads\", and \"tails\". Running the code, you will notice<br>\n",
    "that it does function well.\n",
    "\n",
    "The code can be improved by adding `from` it allows the programmer to be<br>\n",
    "very specific about what the programmer would like to import. Prior the `import`<br>\n",
    "line of code is bringing the entire contents of the functions of `random`. However<br>\n",
    "in the code below we load only a small part of the module."
   ]
  },
  {
   "cell_type": "code",
   "execution_count": null,
   "metadata": {},
   "outputs": [],
   "source": [
    "#   Importing Python Responsories\n",
    "from random import choice\n",
    "\n",
    "#   Initializing variables\n",
    "coin = choice(['heads','tails'])\n",
    "\n",
    "#   Printing the output\n",
    "print(coin)"
   ]
  },
  {
   "cell_type": "markdown",
   "metadata": {},
   "source": [
    "Consider the function `random.randint(a,b)`.<br>\n",
    "This function will generate a random number between `a` and `b`\n",
    "\n",
    "Notice that the code below will randomly generate a number `1-10`"
   ]
  },
  {
   "cell_type": "code",
   "execution_count": null,
   "metadata": {},
   "outputs": [],
   "source": [
    "#   Importing Python Responsory\n",
    "import random as r\n",
    "\n",
    "#   Initializing variables\n",
    "nr = r.randint(1,10)\n",
    "print(nr)"
   ]
  },
  {
   "cell_type": "markdown",
   "metadata": {},
   "source": [
    "Introducing shuffle by using `random.shuffle()` it will shuffle between a list into a random order.\n",
    "\n",
    "Notice the code below will shuffle the cards. Unlike other functions, it will not return a value, insted<br>\n",
    "it will take the cards and shuffle them inside that list"
   ]
  },
  {
   "cell_type": "code",
   "execution_count": null,
   "metadata": {},
   "outputs": [],
   "source": [
    "#   Importing Python Responsory\n",
    "import random as r\n",
    "\n",
    "#   Initializing a list\n",
    "cards = [\n",
    "            'Two', 'Three', 'Four', \n",
    "            'five', 'Six', 'Seven', \n",
    "            'Eight','Nine','Ten',\n",
    "            'Jack','Queen','King',\n",
    "            'Es','Joker'\n",
    "        ]\n",
    "\n",
    "r.shuffle(cards)\n",
    "for card in cards:\n",
    "    print(card)"
   ]
  },
  {
   "cell_type": "markdown",
   "metadata": {},
   "source": [
    "There has been three ways above to generate random information.<br>\n",
    "Read more at [Python's documentation of random](https://docs.python.org/3/library/random.html)"
   ]
  },
  {
   "cell_type": "markdown",
   "metadata": {},
   "source": [
    "##  Statistics\n",
    "\n",
    "Python comes with a built-in `statistics` library. How can this module be used?<br>\n",
    "`average` is a function of this library that is quite useful.\n",
    "\n",
    "Notice there is a different library  called `statistics`. The `mean` function takes a list of values.<br>\n",
    "Prints out the average of the values in the list.\n",
    "\n",
    "Consider the possibilities of using the `statistics` module in your own program\n",
    "\n",
    "Read more at [Python's documentation of statistics](https://docs.python.org/3/library/statistics.html)"
   ]
  },
  {
   "cell_type": "code",
   "execution_count": null,
   "metadata": {},
   "outputs": [],
   "source": [
    "#   Importing Python's Responsories\n",
    "import statistics as s\n",
    "\n",
    "print (s.mean([100,0]))"
   ]
  },
  {
   "cell_type": "markdown",
   "metadata": {},
   "source": [
    "##  Command-Line Arguments\n",
    "\n",
    "So far we've provided all values within the program that we have created.<br>\n",
    "How can a program be able to take input from the command-line?<br>\n",
    "Rather than typing `file.py` in the terminal, and do it manually.\n",
    "\n",
    "`sys` Module allows the program to take arguments from the command line.<br>\n",
    "`sys.argv` is a function within the `sys` module that allows programmers to learn about what the user typed in the command line.<br>\n",
    "Notice how  `sys.argv` utilizes in the code below."
   ]
  },
  {
   "cell_type": "code",
   "execution_count": null,
   "metadata": {},
   "outputs": [],
   "source": [
    "#   Importing Responsories\n",
    "import sys\n",
    "\n",
    "print('Hello,', sys.argv[1])\n"
   ]
  },
  {
   "cell_type": "markdown",
   "metadata": {},
   "source": [
    "Notice that the program is going to look at what has been typed in the command line currently, if using `python filename.py argOne` into the terminal window.<br>\n",
    "The output will be the printed information. Notice that `sys.argv` appends the texts as a list, so `sys.argv[0]` would be the file name, and the argument comes after.<br>\n",
    "\n",
    "There is an issue with the code above, What if the user did not input an argument after calling the file?<br>\n",
    "An exception would occour in the complier. The reason would be that there is no argument at `sys.argv[1]`<br>\n"
   ]
  },
  {
   "cell_type": "code",
   "execution_count": null,
   "metadata": {},
   "outputs": [],
   "source": [
    "#   Importing Responsories\n",
    "import sys\n",
    "\n",
    "try :\n",
    "    print('Hello,', sys.argv[1])\n",
    "\n",
    "except IndexError as e:\n",
    "    print('Too few arguments')"
   ]
  },
  {
   "cell_type": "markdown",
   "metadata": {},
   "source": [
    "Notice  that the user will nmow be prompted with a useful hint about how to make the program work, if they forgot to type in a string.<br>\n",
    "However, is there any other ways to ensure the user inputs the right value(s)?"
   ]
  },
  {
   "cell_type": "code",
   "execution_count": null,
   "metadata": {},
   "outputs": [],
   "source": [
    "#   Importing Responsories\n",
    "import sys\n",
    "\n",
    "if len(sys.argv)< 2: print('Too few arguments')\n",
    "elif len(sys.argv) > 2: print('Too many arguments')\n",
    "else: print('Hello,', sys.argv[1])\n"
   ]
  },
  {
   "cell_type": "markdown",
   "metadata": {},
   "source": [
    "Under the testing of this code, notice that these exceptions are handled, providing the user with more refined advice.<br>\n",
    "Even if the user types in too many or too few arguments, the user is provided clear instructions about how to fix the issue.\n",
    "\n",
    "Right now our code is logically correct. However there is something very nice about keeping the error checking seperate<br>\n",
    "from the remainder of the code. How could the error handling seperate out?"
   ]
  },
  {
   "cell_type": "code",
   "execution_count": null,
   "metadata": {},
   "outputs": [],
   "source": [
    "#   Importing Responsories\n",
    "import sys\n",
    "\n",
    "if len(sys.argv)< 2: sys.exit('Too few arguments')\n",
    "elif len(sys.argv) > 2: sys.exit('Too many arguments')\n",
    "else: print('Hello,', sys.argv[1])\n",
    "\n",
    "print('Hello', sys.argv[1])\n"
   ]
  },
  {
   "cell_type": "markdown",
   "metadata": {},
   "source": [
    "Notice how using a built-in function of `sys` called `exit` that allows the programmer to exit the program,<br>\n",
    "if the program introduced an error.  the programmer can be assured now that the program will never execute<br>\n",
    "the final code and trigger an error. Therefore `sys.argv` provides a way by which users can introduce<br>\n",
    "information from the command line. `sys.exit` provides a means by which the program can exist if an error arises.<br>\n",
    "[Python's documentation of sys](https://docs.python.org/3/library/sys.html)"
   ]
  },
  {
   "cell_type": "markdown",
   "metadata": {},
   "source": [
    "### Slice\n",
    "\n",
    "`slice` is a command that allow us to take a `list` and tell the complier where it should<br>\n",
    "consider the start of the `list`, and the end of the `list`.\n"
   ]
  },
  {
   "cell_type": "code",
   "execution_count": null,
   "metadata": {},
   "outputs": [],
   "source": [
    "import sys\n",
    "\n",
    "if len(sys.argv) < 2:\n",
    "    sys.exit('Too few arguments')\n",
    "\n",
    "for i in sys.argv[1:]:\n",
    "    print('Hello,', i)\n"
   ]
  },
  {
   "cell_type": "markdown",
   "metadata": {},
   "source": [
    "Notice rather than starting the list at `0`, there is square brackets to tell the complier to start at `1` and go on.<br>\n",
    "using the `[1:]` argument. "
   ]
  },
  {
   "cell_type": "markdown",
   "metadata": {},
   "source": [
    "##  Packages\n",
    "\n",
    "One of the reasons Python is so popular is that there are numerous powerful third-party libraries that add functionallity.<br>\n",
    "They are called for third-party libraries, implented as a folder, 'packages'.\n",
    "\n",
    "PyPi is a repository or directory of all available third-party packages currently available<br>\n",
    "`cowsay` is a well-known package that allows a cow to talk to the user.\n",
    "\n",
    "Python has a package manager called `pip` that allows the programmer to install packages quickly into the Machine system.\n",
    "\n",
    "by using `pip install cowsay` Python installs the library cowsay"
   ]
  },
  {
   "cell_type": "code",
   "execution_count": null,
   "metadata": {},
   "outputs": [],
   "source": [
    "#   Importing Responsories\n",
    "import sys\n",
    "import cowsay as c\n",
    "\n",
    "if len(sys.argv) == 2:\n",
    "    c.cow('hello' + sys.argv[1])\n",
    "    "
   ]
  },
  {
   "cell_type": "markdown",
   "metadata": {},
   "source": [
    "Notice that the program checks that the user inputted at least two arguments at the command line.<br>\n",
    "Then, the cow should speak to the user. Type python say.py Davd and the cow will say 'hello David'\n",
    "\n",
    "Further improve the code as follows"
   ]
  },
  {
   "cell_type": "code",
   "execution_count": null,
   "metadata": {},
   "outputs": [],
   "source": [
    "#   Importing Responsories\n",
    "import sys\n",
    "import cowsay as c\n",
    "\n",
    "if len(sys.argv) == 2:\n",
    "    c.trex('hello, ', sys.argv[1])"
   ]
  },
  {
   "cell_type": "markdown",
   "metadata": {},
   "source": [
    "Notice that a t-rex says 'hello'.<br>\n",
    "*   Learned how to install third-party packages\n",
    "-   Learn more at [PyPl's entry for cowsay](https://pypi.org/project/cowsay/)\n",
    "-   Find other third-party packages at [PyPl](https://pypi.org/)"
   ]
  },
  {
   "cell_type": "markdown",
   "metadata": {},
   "source": [
    "##  Apis\n",
    "\n",
    "APIs (Application Program Interfaces), allows the programmer to connect to the code of others.<br>\n",
    "`requests` is a package that allows the programmer's program to behave as a web browser.\n",
    "\n",
    "### Installing `requests`\n",
    "\n",
    "1. In the terminal type `pip install requests`.\n",
    "\n",
    "It turns out that Apple iTunes has its own API that can be accsessed in the program. Visit [iTunes.Apple.com/search?](https://itunes.apple.com/search?entity=song&limit=1&term=weezer)<br>\n",
    "and a file will be downloaded. The url can be constructed by reading the [Apple's API documentation](https://developer.apple.com/documentation/docc/api-reference-syntax)<br>\n",
    "Looking at this text file that is downloaded, you might find the format to be similar to that we’ve programmed previously in Python.<br>\n",
    "The format in the downloaded text file is called JSON, a text-based format that is used to exchange text-based data between applications.<br>\n",
    "Literally, Apple is providing a JSON file that we could interprete with the Python program.\n"
   ]
  },
  {
   "cell_type": "code",
   "execution_count": 2,
   "metadata": {},
   "outputs": [
    {
     "ename": "SystemExit",
     "evalue": "",
     "output_type": "error",
     "traceback": [
      "An exception has occurred, use %tb to see the full traceback.\n",
      "\u001b[0;31mSystemExit\u001b[0m\n"
     ]
    }
   ],
   "source": [
    "#   importing Responsories\n",
    "import sys\n",
    "import requests\n",
    "\n",
    "#   Checking if sys.arg not equal two\n",
    "if len(sys.argv) != 2:\n",
    "    sys.exit()\n",
    "\n",
    "r = requests.get(\"https://itunes.apple.com/search?entity=song&limit=1&term=\" + sys.argv[1])\n",
    "print(r.json())"
   ]
  },
  {
   "cell_type": "markdown",
   "metadata": {},
   "source": [
    "Notice how the returned value of `request.get` will be stored in `response`. Running the code the user will see a json file returned by Apple.<br>\n",
    "However , the JSON response is converted by Python into a dictionary. Loking at the output, can be quite dizzying\n",
    "\n",
    "It turns out that Python has a built-in JSON library that might help to interprete the data received."
   ]
  },
  {
   "cell_type": "code",
   "execution_count": null,
   "metadata": {},
   "outputs": [],
   "source": [
    "#   Importing Responsories\n",
    "import sys\n",
    "import json\n",
    "import requests as r\n",
    "\n",
    "if len(sys.argv) != 2:\n",
    "    sys.exit()\n",
    "\n",
    "res = r.get(\"https://itunes.apple.com/search?entity=song&limit=1&term=\" + sys.argv[1])\n",
    "print(json.dump(res.json(), indent=2))"
   ]
  },
  {
   "cell_type": "markdown",
   "metadata": {},
   "source": [
    "Notice that json.dumps is implented such that it utilizes `indent` to make the output more readable.<br>\n",
    "Running the file, you will see the same JSON file. However this time, it is much more readable.<br>\n",
    "Notice that you will see a dictionary called `result` inside the output. Inside that dictionary<br>\n",
    "called `results` there are numerous keys present. Look at the `trackName` value in the output.<br>\n",
    "What trck name can be seen as the result?\n",
    "\n",
    "How could the program output that trackname simply?"
   ]
  },
  {
   "cell_type": "code",
   "execution_count": 1,
   "metadata": {},
   "outputs": [
    {
     "ename": "SystemExit",
     "evalue": "",
     "output_type": "error",
     "traceback": [
      "An exception has occurred, use %tb to see the full traceback.\n",
      "\u001b[0;31mSystemExit\u001b[0m\n"
     ]
    },
    {
     "name": "stderr",
     "output_type": "stream",
     "text": [
      "/home/ubuntu/.local/lib/python3.10/site-packages/IPython/core/interactiveshell.py:3406: UserWarning: To exit: use 'exit', 'quit', or Ctrl-D.\n",
      "  warn(\"To exit: use 'exit', 'quit', or Ctrl-D.\", stacklevel=1)\n"
     ]
    }
   ],
   "source": [
    "#   Importing responsories\n",
    "import sys\n",
    "import json\n",
    "import requests\n",
    "\n",
    "if len(sys.argv) != 2:\n",
    "    sys.exit()\n",
    "\n",
    "r = requests.get(\"https://itunes.apple.com/search?entity=song&limit=1&term=\" + sys.argv[1])\n",
    "\n",
    "o = r.json()\n",
    "\n",
    "for i in o['results']:\n",
    "    print(i['trackName'])"
   ]
  },
  {
   "cell_type": "markdown",
   "metadata": {},
   "source": [
    "Notice how the program interpretes the result of `res.json()` and storing it in `o` (lowercase letter).<br>\n",
    "Then the program iterates through the `results` in `o` and printing each `trackname`. Also notice how the<br>\n",
    "limit is increased.\n",
    "\n",
    "[API Reference for requests](https://requests.readthedocs.io/en/latest/),<br>\n",
    "[Python's documentation on JSON](https://docs.python.org/3/library/json.html)"
   ]
  },
  {
   "cell_type": "markdown",
   "metadata": {},
   "source": [
    "##  Making Your Own Libraries\n",
    "\n",
    "As a Python Programmer there is an ability to create a own library.<br>\n",
    "Imagine situations where you may want to re-use bits of code time and time again or even share them.<br>\n",
    "Let's create a package to allow users tyo say 'hello' and 'goodbye'."
   ]
  },
  {
   "cell_type": "code",
   "execution_count": null,
   "metadata": {},
   "outputs": [],
   "source": [
    "def hello(name):\n",
    "    print(f'Hello,{name}')\n",
    "\n",
    "def goodbye(name):\n",
    "    print(f'Good bye,{name}')\n"
   ]
  },
  {
   "cell_type": "markdown",
   "metadata": {},
   "source": [
    "Notice that the code itself does not do anything for the user. However if a programmer were to import this package<br>\n",
    "into their own program, the abilities created by the functions above could be implented in their code.\n",
    "\n",
    "Let's see how o implent ode utilizing this package which has already been created.\n",
    "\n",
    "Notice the code below imports the abilites of `goodbye` from the `saying` package.<br>\n",
    "If the user inputed at least two arguments at the command line, it will say `goodbye`<br>\n",
    "along with the string inputed at the command line."
   ]
  },
  {
   "cell_type": "code",
   "execution_count": null,
   "metadata": {},
   "outputs": [],
   "source": [
    "#   Importing Responsories\n",
    "import sys\n",
    "\n",
    "#   Custom Responsories\n",
    "from saying import goodbye\n",
    "\n",
    "if len(sys.argv) == 2:\n",
    "        goodbye(sys.argv[1])"
   ]
  }
 ],
 "metadata": {
  "kernelspec": {
   "display_name": "Python 3.10.5 64-bit",
   "language": "python",
   "name": "python3"
  },
  "language_info": {
   "codemirror_mode": {
    "name": "ipython",
    "version": 3
   },
   "file_extension": ".py",
   "mimetype": "text/x-python",
   "name": "python",
   "nbconvert_exporter": "python",
   "pygments_lexer": "ipython3",
   "version": "3.10.5"
  },
  "orig_nbformat": 4,
  "vscode": {
   "interpreter": {
    "hash": "949777d72b0d2535278d3dc13498b2535136f6dfe0678499012e853ee9abcab1"
   }
  }
 },
 "nbformat": 4,
 "nbformat_minor": 2
}
