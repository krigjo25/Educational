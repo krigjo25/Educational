{
 "cells": [
  {
   "cell_type": "markdown",
   "metadata": {},
   "source": [
    "# File I/O Notebook"
   ]
  },
  {
   "cell_type": "markdown",
   "metadata": {},
   "source": [
    "##  File I/O\n",
    "\n",
    "Untill now, everything that has been programmed has stored information in memory.<br>\n",
    "Once the program is ended, all the information gathered from the user or genreated by the program is lost.\n",
    "\n",
    "- File I/O is the ability of a program to take a file as input or create a file as output.\n",
    "\n",
    "Notice that running the code below has the desired output, for once. The user inputs a name. The output is as expected.\n"
   ]
  },
  {
   "cell_type": "code",
   "execution_count": null,
   "metadata": {},
   "outputs": [],
   "source": [
    "name = input('username?: ')\n",
    "print(f'Welcome, {name}')"
   ]
  },
  {
   "cell_type": "markdown",
   "metadata": {},
   "source": [
    "However, what if multiple names gets inputted? How can it be achived?<br>\n",
    "Recall that `list` is a data structure that allows multiple values into a single variable.\n"
   ]
  },
  {
   "cell_type": "code",
   "execution_count": null,
   "metadata": {},
   "outputs": [],
   "source": [
    "#   Initializing a list\n",
    "name = []\n",
    "\n",
    "# iterating  through list\n",
    "for i in range(3):\n",
    "\n",
    "    #   Prompting the user for information\n",
    "    i = input('What is your name?: ')\n",
    "\n",
    "    # appending a value to the list\n",
    "    name.append(i)"
   ]
  },
  {
   "cell_type": "markdown",
   "metadata": {},
   "source": [
    "Notice when this code is running, the user will be prompted 3 times. the `append()` method adds the value of `i` into a the list.\n",
    "\n",
    "to simplify the code we can do as follows"
   ]
  },
  {
   "cell_type": "code",
   "execution_count": null,
   "metadata": {},
   "outputs": [],
   "source": [
    "#   Initializing a list\n",
    "name = []\n",
    "\n",
    "# iterating  through list\n",
    "for i in range(3):\n",
    "\n",
    "    # appending a value to the list\n",
    "    name.append(input('What is your name?: '))"
   ]
  },
  {
   "cell_type": "markdown",
   "metadata": {},
   "source": [
    "Improving the code slightly to sort the names in the list"
   ]
  },
  {
   "cell_type": "code",
   "execution_count": null,
   "metadata": {},
   "outputs": [],
   "source": [
    "#   Initializing a list\n",
    "name = []\n",
    "\n",
    "# iterating  through list\n",
    "for i in range(3):\n",
    "\n",
    "    # appending a value to the list\n",
    "    name.append(input('What is your name?: '))\n",
    "\n",
    "# Sorting and iterating through the list\n",
    "for i in sorted(name):\n",
    "    print(f'Hello, {i}')"
   ]
  },
  {
   "cell_type": "markdown",
   "metadata": {},
   "source": [
    "After the execution of the code, the information will be lost. File I/O allows the program to store the information for later use."
   ]
  },
  {
   "cell_type": "markdown",
   "metadata": {},
   "source": [
    "### Open"
   ]
  },
  {
   "cell_type": "markdown",
   "metadata": {},
   "source": [
    "`open` is a builtin functionallity in Python which allows the program to open a file and utilize it in the program.<br>\n",
    "the `open` function allows the program to open a file, in a such way it can be readable, written to. <br>\n",
    "\n",
    "To show off how to enable file I/O in the program:<br>"
   ]
  },
  {
   "cell_type": "markdown",
   "metadata": {},
   "source": [
    "#### Modes\n",
    "\n",
    "-   W\n",
    "-   -   Writing mode\n",
    "\n",
    "-   R\n",
    "-   -   Read mode\n",
    "\n",
    "-   a\n",
    "-   -   Appending mode\n"
   ]
  },
  {
   "cell_type": "code",
   "execution_count": null,
   "metadata": {},
   "outputs": [],
   "source": [
    "name = input('What is your name?: ')\n",
    "\n",
    "f = open('resources/textfiles/reWritingnames.txt', 'w')\n",
    "f.write(name)\n",
    "f.close()"
   ]
  },
  {
   "cell_type": "markdown",
   "metadata": {},
   "source": [
    "Notice the `open` function opens a file called `name.txt` with writing enabled. as signified by the `w`.<br>\n",
    "The code above assigns that opened file to a variable called `f`. The line `f.write(name)` writes the name to the text file.<br>\n",
    "The line after that closes the file.\n",
    "\n",
    "###### Testing out the code\n",
    "\n",
    "1.  You can input a name and the program saves to the text file.\n",
    "2.  If the program is re-run multiple times, with different outputs.\n",
    "3.  The program will entirely rewrite the `names.txt` file, each time.\n",
    "\n",
    "Ideally we'd like the program to append each of the names to the file."
   ]
  },
  {
   "cell_type": "code",
   "execution_count": null,
   "metadata": {},
   "outputs": [],
   "source": [
    "name = input('What is your name?: ')\n",
    "\n",
    "f = open('resources/textfiles/appendingNames.txt', 'a')\n",
    "f.write(name)\n",
    "f.close()"
   ]
  },
  {
   "cell_type": "markdown",
   "metadata": {},
   "source": [
    "Notice that the only thing which has been changed in the code is the mode `w` to `a`<br>\n",
    "Rerunning the program multiple times. Its noticeable that the names are running together.<br>\n",
    "without any gaps, between the names.<br>\n",
    "The issue can be fixed and the program improved."
   ]
  },
  {
   "cell_type": "code",
   "execution_count": null,
   "metadata": {},
   "outputs": [],
   "source": [
    "name = input('What is your name?: ')\n",
    "\n",
    "f = open('resources/textfiles/appendingNames.txt', 'a')\n",
    "f.write(f'{name}\\n')\n",
    "f.close()"
   ]
  },
  {
   "cell_type": "markdown",
   "metadata": {},
   "source": [
    "Notice that the line with file.write has been modified to add a line break at the end of each name.\n",
    "\n",
    "This code is working quite well. However, there are ways to improve this program. It so happens that it’s quite easy to forget to close the file.<br>\n",
    "[Python’s documentation of open](https://docs.python.org/3/library/functions.html#open).\n"
   ]
  },
  {
   "cell_type": "markdown",
   "metadata": {},
   "source": [
    "### with"
   ]
  },
  {
   "cell_type": "markdown",
   "metadata": {},
   "source": [
    "the keyword `with` allows you to automate the closing of a file."
   ]
  },
  {
   "cell_type": "code",
   "execution_count": null,
   "metadata": {},
   "outputs": [],
   "source": [
    "name = input('What is your name?: ')\n",
    "\n",
    "#   Using a with keyworda and iterating \n",
    "with open('resources/textfiles/appendingNames.txt', 'a') as f:\n",
    "\n",
    "    #   Writing to a file\n",
    "    f.write(f'{name}\\n')\n"
   ]
  },
  {
   "cell_type": "markdown",
   "metadata": {},
   "source": [
    "Untill this point we have been exclusively writing to a file. <br>\n",
    "What if the file has to be read? Enable this functionallity by modify the code as follows"
   ]
  },
  {
   "cell_type": "code",
   "execution_count": null,
   "metadata": {},
   "outputs": [],
   "source": [
    "#   Iterating through file\n",
    "with open('resources/textfiles/appendingNames.txt', 'r') as f:\n",
    "\n",
    "    lines = f.readlines()\n",
    "    #   Writing to a file\n",
    "    for i in lines:\n",
    "        print(f'Hello, {i}')"
   ]
  },
  {
   "cell_type": "markdown",
   "metadata": {},
   "source": [
    "Notice that readlines has a special ability to read all the lines of a file and store them in a file called lines.<br>\n",
    "Running the program, its noticeable that the output is less fine. There seem to be multiple line breaks where there should be only one.<br>\n",
    "There is multiple approaches to fix the issue, However here is a simple wway to fix the error."
   ]
  },
  {
   "cell_type": "code",
   "execution_count": null,
   "metadata": {},
   "outputs": [],
   "source": [
    "with open(\"names.txt\", \"r\") as f:\n",
    "    for i in f:\n",
    "        print(\"hello,\", i.rstrip())"
   ]
  },
  {
   "cell_type": "markdown",
   "metadata": {},
   "source": [
    "Notice running the code. it is correct, however the names is not sorted.<br>\n",
    "The code could be further improved to allow for the name sorting"
   ]
  },
  {
   "cell_type": "code",
   "execution_count": null,
   "metadata": {},
   "outputs": [],
   "source": [
    "name = []\n",
    "\n",
    "with open(\"names.txt\") as file:\n",
    "    for i in file:\n",
    "        name.append(i.rstrip())\n",
    "\n",
    "for i in sorted(name):\n",
    "    print(f\"hello, {i}\")"
   ]
  },
  {
   "cell_type": "markdown",
   "metadata": {},
   "source": [
    "Notice that names is a blank list where we can collect the names. Each name is appended to the names list in memory. Then, each name in the sorted list in memory is printed. Running your code, you will see that the names are now properly sorted.\n",
    "\n",
    "What if we wanted the ability to store more than just the names of students? What if we wanted to store both the student’s name and their house as well?"
   ]
  },
  {
   "cell_type": "markdown",
   "metadata": {},
   "source": [
    "## CSV"
   ]
  },
  {
   "cell_type": "markdown",
   "metadata": {},
   "source": [
    "-   CSV stands for 'comma seperated values'\n"
   ]
  },
  {
   "cell_type": "code",
   "execution_count": null,
   "metadata": {},
   "outputs": [],
   "source": [
    "with open('resources/csv/students.csv') as f:\n",
    "    for i in f:\n",
    "        r = i.rstrip().split(',')\n",
    "        print(f'{r[0]}, is in house,{r[1]}')"
   ]
  },
  {
   "cell_type": "markdown",
   "metadata": {},
   "source": [
    "Notice that `rstrip` removes the end of each line in the csv file, `split` tells the complier where to find end of each value.<br>\n",
    "`r[0]` is the first element in each line and `r[1]` is the second element in each line.\n",
    "\n",
    "The code above is effective as it divides each record (line). It can be a little bit cryptic for unfamiliar eyes.<br>\n",
    "Python has a built-in ability that could further improve the code."
   ]
  },
  {
   "cell_type": "code",
   "execution_count": null,
   "metadata": {},
   "outputs": [],
   "source": [
    "with open('resources/csv/students.csv') as f:\n",
    "    for i in f:\n",
    "        n, h = i.rstrip().split(',')\n",
    "        print(f'{n}, is in house,{h}')"
   ]
  },
  {
   "cell_type": "markdown",
   "metadata": {},
   "source": [
    "Notice the split function actually returns two values.<br>\n",
    "The one before comma, and the second after comma.<br>\n",
    "Accordingly, the functionallity can be relied on to assign two variables at once instead of one.<br>\n",
    "\n",
    "Imagine that again the program would provide this list as a sorted output"
   ]
  },
  {
   "cell_type": "code",
   "execution_count": null,
   "metadata": {},
   "outputs": [],
   "source": [
    "#   Initializing a list\n",
    "student = sorted([])\n",
    "\n",
    "#   Opening a csv file\n",
    "with open('resources/csv/students.csv') as f:\n",
    "    for i in f:\n",
    "        n, h = i.rstrip().split(',')\n",
    "        student.append(f'{n}, is in house,{h}')\n",
    "\n",
    "for i in student:\n",
    "    print (i)\n"
   ]
  },
  {
   "cell_type": "markdown",
   "metadata": {},
   "source": [
    "Notice in the code above there is a list in the program called student. the program append each string to this list.<br>\n",
    "Then we output a sorted version of the list.\n",
    "\n",
    "Recall that Python allows dictonaaries where a key is assosicated with a value."
   ]
  },
  {
   "cell_type": "code",
   "execution_count": null,
   "metadata": {},
   "outputs": [],
   "source": [
    "#   Initializing a list\n",
    "student = sorted([])\n",
    "\n",
    "#   Opening a csv file\n",
    "with open('resources/csv/students.csv') as f:\n",
    "    for i in f:\n",
    "        n, h = i.rstrip().split(',')\n",
    "        dictionary = {}\n",
    "        dictionary['name'] = n\n",
    "        dictionary['house'] = h\n",
    "        student.append(dictionary)\n",
    "\n",
    "for i in student:\n",
    "    print(f'{i[\"name\"]} is in house {i[\"house\"]}')"
   ]
  },
  {
   "cell_type": "markdown",
   "metadata": {},
   "source": [
    "Notice there is a dictionary in the program called dictionary.<br>\n",
    "the values of each student, including their name and house is added into the dictionary<br>\n",
    "Then the dictionary is appended into the student list.<br>\n",
    "\n",
    "There is always room for improvement, how can the program have less lines?"
   ]
  },
  {
   "cell_type": "code",
   "execution_count": null,
   "metadata": {},
   "outputs": [],
   "source": [
    "#   Initializing a list\n",
    "student = []\n",
    "\n",
    "#   Opening a csv file\n",
    "with open('resources/csv/students.csv') as f:\n",
    "    for i in f:\n",
    "        n, h = i.rstrip().split(',')\n",
    "        dictionary = {'name':n, 'house':h}\n",
    "        student.append(dictionary)\n",
    "\n",
    "for i in student:\n",
    "    print(f'{i[\"name\"]} is in house {i[\"house\"]}')"
   ]
  },
  {
   "cell_type": "markdown",
   "metadata": {},
   "source": [
    "Notice that the program above produces closely the desired outcome, excluded the sorting.\n",
    "\n",
    "Unfortuantely, the students can not be sorted as its has been done earlier, as each student is now a dictionary inside a list. It would be helpful if Pyghon could sort the students list of student dictionaries that sorts this list of dictionaries by the name of the student.\n",
    "\n",
    "to imporve the code there could be following changes."
   ]
  },
  {
   "cell_type": "code",
   "execution_count": null,
   "metadata": {},
   "outputs": [],
   "source": [
    "#   Initializing a list\n",
    "student = []\n",
    "\n",
    "#   Opening a csv file\n",
    "with open('resources/csv/students.csv') as f:\n",
    "    for i in f:\n",
    "        n, h = i.rstrip().split(',')\n",
    "        student.append({\"name\":n, \"house\":h})\n",
    "\n",
    "def GetName(arg): return arg['name']\n",
    "\n",
    "for i in sorted(student, key=GetName):\n",
    "    print(f'{i[\"name\"]}, is in {i[\"house\"]}')\n"
   ]
  },
  {
   "cell_type": "markdown",
   "metadata": {},
   "source": [
    "Notice that `sorted` needs to know how to get the key of each student,<br>\n",
    "Python allows a parameter called `key` where the program can define on<br>\n",
    "what \"key\" the list of students will be sorted. Therefore the `GetName`<br>\n",
    " function simply returns the key of `i['name']`. \n",
    "\n",
    "Running the program, the programmer will see that the list is now sorted by name.\n",
    "\n",
    "Still the program can be further improved upon. it just so happens<br>\n",
    "if you are only going to use a function like `GetName` once, you can<br>\n",
    "simplify the code, by using `lambda` keyword"
   ]
  },
  {
   "cell_type": "code",
   "execution_count": null,
   "metadata": {},
   "outputs": [],
   "source": [
    "#   Initializing a list\n",
    "student = []\n",
    "\n",
    "#   Opening a csv file\n",
    "with open('resources/csv/students.csv') as f:\n",
    "    for i in f:\n",
    "        n, h = i.rstrip().split(',')\n",
    "        student.append({\"name\":n, \"house\":h})\n",
    "\n",
    "for i in sorted(student, key=lambda i:i['name']):\n",
    "    print(f'{i[\"name\"]}, is in {i[\"house\"]}')"
   ]
  },
  {
   "cell_type": "markdown",
   "metadata": {},
   "source": [
    "Notice how `lambda` function is used\n",
    "\n",
    "*   `lamdba`\n",
    "Is an annonymous function  (a function with out a name)\n",
    "\n",
    "Unfortuantely the code is still a bit fragile.<br>\n",
    "Suppost the CSV file is changed, such that w"
   ]
  },
  {
   "cell_type": "code",
   "execution_count": null,
   "metadata": {},
   "outputs": [],
   "source": [
    "#   Initializing a list\n",
    "student = []\n",
    "\n",
    "#   Opening a csv file\n",
    "with open('resources/csv/students.csv') as f:\n",
    "\n",
    "    for i in f:\n",
    "\n",
    "        name, house, home = i.rstrip().split(',')\n",
    "        student.append({\"name\":name, \"house\":house, 'home':home})\n",
    "\n",
    "for i in sorted(student, key=lambda i:i['name']):\n",
    "    print(f'{i[\"name\"]}, is in {i[\"house\"]}')"
   ]
  },
  {
   "cell_type": "markdown",
   "metadata": {},
   "source": [
    "Notice that running our program still does not work properly. Can you guess why?\n",
    "\n",
    "The `ValueError: too many values to unpack` error produced by the compiler is a result of the fact that we previously created this program expecting the CSV file is split using a , (comma). We could spend more time addressing this, but indeed someone else has already developed a way to “parse” (that is, to read) CSV files!\n",
    "\n",
    "Python’s built-in csv library comes with an object called a reader. As the name suggests, we can use a reader to read our CSV file despite the extra comma in “Number Four, Privet Drive”. A reader works in a for loop, where each iteration the reader gives us another row from our CSV file. This row itself is a list, where each value in the list corresponds to an element in that row. row[0], for example, is the first element of the given row, while row[1] is the second element."
   ]
  },
  {
   "cell_type": "code",
   "execution_count": null,
   "metadata": {},
   "outputs": [],
   "source": [
    "#   importing responsories\n",
    "import csv\n",
    "\n",
    "#   Initializing a list\n",
    "student = []\n",
    "\n",
    "#   Opening a csv file\n",
    "with open('resources/csv/students.csv') as f:\n",
    "\n",
    "    for i in csv.reader(f):\n",
    "        student.append({'name':i['name'], 'house':i['house'], 'home':i['home']})\n",
    "\n",
    "for i in sorted(student, key=lambda i:i['name']):\n",
    "    print(f'{i[\"name\"]}, is in {i[\"house\"]} and lives in {i[\"home\"]}')"
   ]
  },
  {
   "cell_type": "markdown",
   "metadata": {},
   "source": [
    "Notice that our program now works as expected.\n",
    "\n",
    "Up until this point, we have been relying upon our program to specifically decide what parts of our CSV file are the names and what parts are the homes. It’s better design, though, to bake this directly into our CSV file by editing it as follows:\n",
    "\n",
    "Notice how we are explicitly saying in our CSV file that anything reading it should expect there to be a name value and a home value in each line.\n",
    "\n",
    "We can modify our code to use a part of the csv library called a DictReader to treat our CSV file with even more flexibilty:"
   ]
  },
  {
   "cell_type": "code",
   "execution_count": null,
   "metadata": {},
   "outputs": [],
   "source": [
    "#   importing responsories\n",
    "import csv\n",
    "\n",
    "#   Initializing a list\n",
    "student = []\n",
    "\n",
    "#   Opening a csv file\n",
    "with open('resources/csv/students.csv') as f:\n",
    "\n",
    "    for i in csv.DictReader(f):\n",
    "        student.append({'name':i['name'], 'house':i['house'], 'home':i['home']})\n",
    "\n",
    "for i in sorted(student, key=lambda i:i['name']):\n",
    "    print(f'{i[\"name\"]}, is in {i[\"house\"]} and lives in {i[\"home\"]}')"
   ]
  },
  {
   "cell_type": "markdown",
   "metadata": {},
   "source": [
    "Notice that `reader` has been replace with `DictReader`, which returns one dictionary at a time.<br>\n",
    "Also, notice the complier will directly accsess the `i` dictionary, retrieveing the name, house, and home of each student.<br>\n",
    "This is an example of coding defensively.<br>\n",
    "As long the person designing the CSV file has inputted the correct header information on the first line, it can be accessed using our program.\n",
    "\n",
    "Untill this point, the program has been reading CSV files. What if the program could write to a CSV file?\n",
    "\n",
    "Clean up, removing the csv file and lets create one !"
   ]
  },
  {
   "cell_type": "code",
   "execution_count": null,
   "metadata": {},
   "outputs": [],
   "source": [
    "# importing responsories\n",
    "\n",
    "n = input('What is your name?: ')\n",
    "s = input('What is the name of your school?: ')\n",
    "h = input ('Where is your home?: ')\n",
    "\n",
    "with open('student.csv', 'a') as f:\n",
    "    w = csv.DictWriter(f, fieldnames = ['Name', 'School', 'Home'])\n",
    "    w.writerow({'Name': n, 'School':s, 'Home':h})"
   ]
  },
  {
   "cell_type": "markdown",
   "metadata": {},
   "source": [
    "Notice how we are leveraging the built-in functionality of DictWriter, which takes two parameters: the file being written to and the fieldnames to write. Further, notice how the writerow function takes a dictionary as its parameter. Quite literally, we are telling the compiler to write a row with two fields called name and home.\n",
    "\n",
    "Note that there are many types of files that you can read from and write to.<br>\n",
    "[Python’s documentation of CSV](https://docs.python.org/3/library/csv.html)."
   ]
  },
  {
   "cell_type": "markdown",
   "metadata": {},
   "source": [
    "## Binary Files and PIL\n",
    "\n",
    "**Binary Files**<br>\n",
    "One more type of file that we will discuss today is a binary file. <br>\n",
    "A binary file is simply a collection of ones and zeros. This type of file can store anything including, music and image data.<br>\n",
    "\n",
    "**PIL**<br>\n",
    "There is a popular Python library called PIL that works well with image files.<br>\n",
    "Animated GIFs are a popular type of image file that has many image files within it that are played in sequence over and over again, creating a simplistic animation or video effect.<br>\n",
    "\n",
    "Before proceeding, please make sure that you have downloaded the source code files from the course website.<br>\n",
    "\n",
    "It will not be possible for you to code the following without having the two images above in your possession and stored in your IDE.<br>\n",
    "In the terminal window type code costumes.py and code as follows:<br>\n",
    "\n",
    "\n"
   ]
  },
  {
   "cell_type": "code",
   "execution_count": null,
   "metadata": {},
   "outputs": [],
   "source": [
    "import sys\n",
    "\n",
    "from PIL import Image\n",
    "\n",
    "images = []\n",
    "\n",
    "for arg in sys.argv[1:]:\n",
    "    image = Image.open(arg)\n",
    "    images.append(image)\n",
    "\n",
    "images[0].save(\"costumes.gif\", save_all=True, append_images=[images[1]], duration=20\n",
    "\n"
   ]
  },
  {
   "cell_type": "markdown",
   "metadata": {},
   "source": [
    "Notice that we import the Image functionality from PIL.<br>\n",
    "Notice that the first for loop simply loops through the images provided as command-line arguments and stores<br>\n",
    "theme into the list called images. The 1: starts slicing argv at its second element. The last lines of code saves<br>\n",
    "the first image and also appends a second image to it as well, creating an animated gif.<br>\n",
    " Typing python costumes.py costume1.gif costume2.gif into the terminal.<br>\n",
    " Now, type code costumes.gif into the terminal window, and you can now see an animated GIF.<br>\n",
    "\n",
    "You can learn more in Pillow’s documentation of [PIL](https://pillow.readthedocs.io/en/stable/)."
   ]
  },
  {
   "cell_type": "markdown",
   "metadata": {},
   "source": [
    "##  Summing up\n"
   ]
  }
 ],
 "metadata": {
  "kernelspec": {
   "display_name": "Python 3.10.5 64-bit",
   "language": "python",
   "name": "python3"
  },
  "language_info": {
   "codemirror_mode": {
    "name": "ipython",
    "version": 3
   },
   "file_extension": ".py",
   "mimetype": "text/x-python",
   "name": "python",
   "nbconvert_exporter": "python",
   "pygments_lexer": "ipython3",
   "version": "3.10.5"
  },
  "orig_nbformat": 4,
  "vscode": {
   "interpreter": {
    "hash": "949777d72b0d2535278d3dc13498b2535136f6dfe0678499012e853ee9abcab1"
   }
  }
 },
 "nbformat": 4,
 "nbformat_minor": 2
}
