{
 "cells": [
  {
   "attachments": {},
   "cell_type": "markdown",
   "metadata": {},
   "source": [
    "# 10 ETC..."
   ]
  },
  {
   "attachments": {},
   "cell_type": "markdown",
   "metadata": {},
   "source": [
    "## Et Cetra\n",
    "\n",
    "Over the past lessons, much related to Python has been covered. \n",
    "\n",
    "In the final lesson the focus will be upon many of the **et cetra** items not previously discussed. **Et cetra**, literally means *and the rest*.\n"
   ]
  },
  {
   "attachments": {},
   "cell_type": "markdown",
   "metadata": {},
   "source": [
    "### set\n",
    "\n",
    "in math, a set is considered a set of numbers, without any duplicates.\n"
   ]
  },
  {
   "cell_type": "code",
   "execution_count": null,
   "metadata": {},
   "outputs": [],
   "source": [
    "students = [\n",
    "    {\"name\": \"Hermione\", \"house\": \"Gryffindor\"},\n",
    "    {\"name\": \"Harry\", \"house\": \"Gryffindor\"},\n",
    "    {\"name\": \"Ron\", \"house\": \"Gryffindor\"},\n",
    "    {\"name\": \"Draco\", \"house\": \"Slytherin\"},\n",
    "    {\"name\": \"Padma\", \"house\": \"Ravenclaw\"},\n",
    "]\n",
    "\n",
    "houses = []\n",
    "\n",
    "for student in students:\n",
    "    if student[\"house\"] not in houses:\n",
    "        houses.append(student[\"house\"])\n",
    "\n",
    "for house in sorted(houses):\n",
    "    print(house)"
   ]
  },
  {
   "attachments": {},
   "cell_type": "markdown",
   "metadata": {},
   "source": [
    "Notice how the list of dictionaries, each being a student,<br>\n",
    "An empty list is called `house` is created. by iterating through each `student` in `students`. if a student's `house` is not in `houses`, the program appends to the list of `houses`.<br>\n",
    "\n",
    "It turns out the built-in `set` features to eliminate duplicates."
   ]
  },
  {
   "cell_type": "code",
   "execution_count": null,
   "metadata": {},
   "outputs": [],
   "source": [
    "students = [\n",
    "    {\"name\": \"Hermione\", \"house\": \"Gryffindor\"},\n",
    "    {\"name\": \"Harry\", \"house\": \"Gryffindor\"},\n",
    "    {\"name\": \"Ron\", \"house\": \"Gryffindor\"},\n",
    "    {\"name\": \"Draco\", \"house\": \"Slytherin\"},\n",
    "    {\"name\": \"Padma\", \"house\": \"Ravenclaw\"},\n",
    "]\n",
    "\n",
    "houses = set()\n",
    "for student in students:\n",
    "    houses.add(student[\"house\"])\n",
    "\n",
    "for house in sorted(houses):\n",
    "    print(house)"
   ]
  },
  {
   "attachments": {},
   "cell_type": "markdown",
   "metadata": {},
   "source": [
    "Notice how no checking needs to be included to ensure there are no duplicates. The set object takes care of this for us automatically.\n",
    "More can be learned in the [Python's documentation of set](https://docs.python.org/3/library/stdtypes.html#set)"
   ]
  },
  {
   "attachments": {},
   "cell_type": "markdown",
   "metadata": {},
   "source": [
    "##    Global Variables\n",
    "\n",
    "In other programming languages, there is the notion of global variables, that are accessible to any function.\n",
    "\n",
    "we can leverage this ability within Python. "
   ]
  },
  {
   "cell_type": "code",
   "execution_count": null,
   "metadata": {},
   "outputs": [],
   "source": [
    "# Initializing global variable\n",
    "balance = 0\n",
    "\n",
    "def main():\n",
    "  return print(f'Balance : {balance}')\n",
    "\n",
    "if __name__ == '__main__':\n",
    "  main()"
   ]
  },
  {
   "attachments": {},
   "cell_type": "markdown",
   "metadata": {},
   "source": [
    "Notice how the global variable called `balance` is created, outside of any function.\n",
    "\n",
    "Since no errors are presented by executing the code above, it should be well. However, its not"
   ]
  },
  {
   "cell_type": "code",
   "execution_count": null,
   "metadata": {},
   "outputs": [],
   "source": [
    "balance = 0\n",
    "\n",
    "def main():\n",
    "\n",
    "  print(f'Balance : {balance}')\n",
    "\n",
    "  deposit(100)\n",
    "  withdraw(50)\n",
    "  return print(f'Balance {balance}')\n",
    "\n",
    "def deposit(x):\n",
    "\n",
    "  balance += x\n",
    "\n",
    "  return balance\n",
    "\n",
    "def withdraw(x):\n",
    "\n",
    "  balance -= x\n",
    "  return balance\n",
    "\n",
    "if __name__ == '__main__':\n",
    "    main()"
   ]
  },
  {
   "attachments": {},
   "cell_type": "markdown",
   "metadata": {},
   "source": [
    "Notice how the functionallity is added and withdraw funds to and from `balance`. However, executing this program result in a `UnboundLocalError`.  It could be gussed, at least in a way the program is currently coded `balance` and our `deposit` and `withdraw` functions, can not be reassigned. To interact with global variables inside a function, the solution is to use the `global` keyword."
   ]
  },
  {
   "cell_type": "code",
   "execution_count": null,
   "metadata": {},
   "outputs": [],
   "source": [
    "balance = 0\n",
    "\n",
    "def main():\n",
    "\n",
    "  print(f'Balance : {balance}')\n",
    "\n",
    "  deposit(100)\n",
    "  withdraw(50)\n",
    "  return print(f'Balance {balance}')\n",
    "\n",
    "def deposit(x):\n",
    "\n",
    "  global balance \n",
    "  balance += x\n",
    "\n",
    "  return balance\n",
    "\n",
    "def withdraw(x):\n",
    "\n",
    "  global balance\n",
    "  balance -= x\n",
    "\n",
    "  return balance\n",
    "\n",
    "if __name__ == '__main__':\n",
    "    main()"
   ]
  },
  {
   "attachments": {},
   "cell_type": "markdown",
   "metadata": {},
   "source": [
    "Notice how the `global` keyword tells each function that `balance` does not refer to a local variable. Instead, it refers to the global variable we originally placed at the top of our code. Now. the program is functional.\n",
    "\n",
    "Utilizing the power of experience with Object Oriented Programming (OOP). Can the code be modified using a class instead of a global variable."
   ]
  },
  {
   "cell_type": "code",
   "execution_count": null,
   "metadata": {},
   "outputs": [],
   "source": [
    "class Account:\n",
    "    def __init__(self):\n",
    "        self._balance = 0\n",
    "\n",
    "    @property\n",
    "    def balance(self):\n",
    "        return self._balance\n",
    "\n",
    "    def deposit(self, n):\n",
    "        self._balance += n\n",
    "\n",
    "    def withdraw(self, n):\n",
    "        self._balance -= n\n",
    "\n",
    "\n",
    "def main():\n",
    "    account = Account()\n",
    "    print(\"Balance:\", account.balance)\n",
    "    account.deposit(100)\n",
    "    account.withdraw(50)\n",
    "    print(\"Balance:\", account.balance)\n",
    "\n",
    "\n",
    "if __name__ == \"__main__\":\n",
    "    main()"
   ]
  },
  {
   "attachments": {},
   "cell_type": "markdown",
   "metadata": {},
   "source": [
    "Notice how the program use `account = Account()` to create an account. classes allows us to solve this issue of needing a global variable more cleanly because these instance variables are  accssible to all the methods of this class utilizing `self`.<br>\n",
    "Generallly speaking, global variables should be used quite sparingly, if at all."
   ]
  },
  {
   "attachments": {},
   "cell_type": "markdown",
   "metadata": {},
   "source": [
    "## Constants\n",
    "\n",
    "Some languages allow the programmer to create variables that are unchangeable, (constatns).<br>\n",
    "Constants allows the programmer to program defensively and reduce the oppertunities for important values to be altered"
   ]
  },
  {
   "cell_type": "code",
   "execution_count": null,
   "metadata": {},
   "outputs": [],
   "source": [
    "MEOW = 3\n",
    "for i in range(MEOW)\n",
    "print('meow')"
   ]
  },
  {
   "attachments": {},
   "cell_type": "markdown",
   "metadata": {},
   "source": [
    "Notice `MEOW` is our constant in this case.<br>\n",
    "Constants are typically denoted by capital variable names and are placed at the top of the program.<br> \n",
    "Though this looks like a constant, in reallity, Python actually has no mechanism to prevent us from changing that value within the program.<br>\n",
    "Instead the programmer are on the honor system.<br>\n",
    "If a variable name is written in all caps, just dont change it.<br>\n",
    "the program can have a constant class.<br>"
   ]
  },
  {
   "cell_type": "code",
   "execution_count": null,
   "metadata": {},
   "outputs": [],
   "source": [
    "class Cat():\n",
    "\n",
    "  MEOWS = 3\n",
    "\n",
    "  def meow(self):\n",
    "    for i in range(Cat.MEOWS):\n",
    "      return print('meow')\n",
    "\n",
    "cat = Cat()\n",
    "cat.meow()"
   ]
  },
  {
   "attachments": {},
   "cell_type": "markdown",
   "metadata": {},
   "source": [
    "Because `MEOWS` is defined outside any particular class method, all of them have access to that value through `Cat.MEOWS`."
   ]
  },
  {
   "attachments": {},
   "cell_type": "markdown",
   "metadata": {},
   "source": [
    "##  Type Hints\n",
    "\n",
    "In other programming languages, one expresses explicitly what variable type the programmer want to use.<br>\n",
    "As seen earlier in the course, Python does not require the explicit declaration of types.<br>\n",
    "Nevertheless, it is a good practice need to ensure all of the variables are of the right type.<br>\n",
    "`mypy` is a program that helps the programmer to test wheter all of the variables are of the right type."
   ]
  },
  {
   "cell_type": "code",
   "execution_count": null,
   "metadata": {},
   "outputs": [],
   "source": [
    "def meow(n):\n",
    "  for _ in range(n): print(\"meow\")\n",
    "  return\n",
    "\n",
    "number = input(\"Number: \")\n",
    "\n",
    "meow(number)"
   ]
  },
  {
   "attachments": {},
   "cell_type": "markdown",
   "metadata": {},
   "source": [
    "In the program the user may see that `number = input('Number :')` returns a `string`, not an `int`.<br>\n",
    "But `meow` will likely want an `int`. a type hint can be added to give Python a hint of what type of variable `meow` should expect."
   ]
  },
  {
   "cell_type": "code",
   "execution_count": null,
   "metadata": {},
   "outputs": [],
   "source": [
    "def meow(n:int):\n",
    "  for _ in range(n): print(\"meow\")\n",
    "  return\n",
    "\n",
    "number = input(\"Number: \")\n",
    "\n",
    "meow(number)"
   ]
  },
  {
   "attachments": {},
   "cell_type": "markdown",
   "metadata": {},
   "source": [
    "Notice, though, that the program still throws an error. After installing `mypy`, execute `mypy meows.py` in the terminal window. <br> `mypy` will provide some how to fix guidance.\n",
    "\n",
    "You can annotate all your variables."
   ]
  },
  {
   "cell_type": "code",
   "execution_count": null,
   "metadata": {},
   "outputs": [],
   "source": [
    "def meow(n:int):\n",
    "  for _ in range(n): print(\"meow\")\n",
    "  return\n",
    "\n",
    "number : int = input(\"Number: \")\n",
    "\n",
    "meow(number)"
   ]
  },
  {
   "attachments": {},
   "cell_type": "markdown",
   "metadata": {},
   "source": [
    "Notice how running `mypy` hhow produces no error because cast our input as an integer.<br>\n",
    "Let's introduce a new error by assuming that `meow` will return a string or `str`."
   ]
  },
  {
   "cell_type": "code",
   "execution_count": null,
   "metadata": {},
   "outputs": [],
   "source": [
    "def meow(n:int):\n",
    "  for _ in range(n): print(\"meow\")\n",
    "  return\n",
    "\n",
    "number : int = input(\"Number: \")\n",
    "meows: str = meow(number)\n",
    "\n",
    "meow(number)"
   ]
  },
  {
   "attachments": {},
   "cell_type": "markdown",
   "metadata": {},
   "source": [
    "Notice how the `meow` function has only a side effect. Because the program attempt to print 'meow', not return a value, an error is thrown when the program tries to store the return value of `meow` in `meows`. <br>\n",
    "\n",
    "Further can type hints be used to check for errors, this time annotating the return values of functions."
   ]
  },
  {
   "cell_type": "code",
   "execution_count": null,
   "metadata": {},
   "outputs": [],
   "source": [
    "def meow(n:int) -> None:\n",
    "  for _ in range(n): print(\"meow\")\n",
    "  return\n",
    "\n",
    "number : int = input(\"Number: \")\n",
    "meows: str = meow(number)\n",
    "\n",
    "meow(number)"
   ]
  },
  {
   "attachments": {},
   "cell_type": "markdown",
   "metadata": {},
   "source": [
    "Notice how the notation `-> None` tells `mypy` that there are no return values."
   ]
  },
  {
   "cell_type": "code",
   "execution_count": null,
   "metadata": {},
   "outputs": [],
   "source": [
    "def meow(n:int) -> str:\n",
    "  return 'meow\\n' * n\n",
    "\n",
    "number : int = input(\"Number: \")\n",
    "meows: str = meow(number)\n",
    "\n",
    "print(meows, end='')"
   ]
  },
  {
   "attachments": {},
   "cell_type": "markdown",
   "metadata": {},
   "source": [
    "Notice how the program stores `meows` multiple `str`s. <br>\n",
    "Running `mypy` produces no errors.<br>\n",
    "in the [Python's documentation of Type Hints](https://docs.python.org/3/library/typing.html) & [mypy Documentation](https://mypy.readthedocs.io/en/stable/) the programmer can learn more about it."
   ]
  },
  {
   "attachments": {},
   "cell_type": "markdown",
   "metadata": {},
   "source": [
    "##  DocStrings\n",
    "\n",
    "A standard way of commenting the function's purpose is to use a `docstring`.\n"
   ]
  },
  {
   "cell_type": "code",
   "execution_count": null,
   "metadata": {},
   "outputs": [],
   "source": [
    "def meow(n):\n",
    "    \"\"\"Meow n times.\"\"\"\n",
    "    return \"meow\\n\" * n\n",
    "\n",
    "\n",
    "number = int(input(\"Number: \"))\n",
    "meows = meow(number)\n",
    "print(meows, end=\"\")"
   ]
  },
  {
   "attachments": {},
   "cell_type": "markdown",
   "metadata": {},
   "source": [
    "Notice how the three double quotes designate what the function does.<br>\n",
    "Docstrings can be used to standardize how the functions features can be used.<br>"
   ]
  },
  {
   "cell_type": "code",
   "execution_count": null,
   "metadata": {},
   "outputs": [],
   "source": [
    "def meow(n):\n",
    "    \"\"\"\n",
    "    Meow n times.\n",
    "\n",
    "    :param n: Number of times to meow\n",
    "    :type n: int\n",
    "    :raise TypeError: If n is not an int\n",
    "    :return: A string of n meows, one per line\n",
    "    :rtype: str\n",
    "    \"\"\"\n",
    "    return \"meow\\n\" * n\n",
    "\n",
    "\n",
    "number = int(input(\"Number: \"))\n",
    "meows = meow(number)\n",
    "print(meows, end=\"\")"
   ]
  },
  {
   "attachments": {},
   "cell_type": "markdown",
   "metadata": {},
   "source": [
    "Notice how multiple docstring arguments are included.<br> \n",
    "\n",
    "### f.ex\n",
    "\n",
    "It describe the parameters taken by the function and what is returned by the function.\n",
    "\n",
    "Established tools, such as [SPhinx](https://www.sphinx-doc.org/en/master/index.html) can be used to parse docstrings and automatically create documentation for us in the form of webpages and pdf files which can be shared and published publicly<br>\n",
    "learn more by reading the [Python's documentation of docstrings](https://peps.python.org/pep-0257/)"
   ]
  },
  {
   "attachments": {},
   "cell_type": "markdown",
   "metadata": {},
   "source": [
    "##  argparse\n",
    "\n",
    "Suppose a program using command-line arguments in our program.<br>"
   ]
  },
  {
   "cell_type": "code",
   "execution_count": null,
   "metadata": {},
   "outputs": [],
   "source": [
    "import sys\n",
    "\n",
    "if len(sys.argv) == 1:\n",
    "    print(\"meow\")\n",
    "elif len(sys.argv) == 3 and sys.argv[1] == \"-n\":\n",
    "    n = int(sys.argv[2])\n",
    "    for _ in range(n):\n",
    "        print(\"meow\")\n",
    "else:\n",
    "    print(\"usage: meows.py [-n NUMBER]\")"
   ]
  },
  {
   "attachments": {},
   "cell_type": "markdown",
   "metadata": {},
   "source": [
    "## Unpacking"
   ]
  },
  {
   "attachments": {},
   "cell_type": "markdown",
   "metadata": {},
   "source": [
    "##  args and kwargs\n",
    "\n",
    "recall the `print` documentation which has been talked about earlier in the course\n",
    "`print(*objects, sep='', end='\\n', file=sys.stdout, flush = False)`\n",
    "\n",
    "### Args\n",
    "\n",
    "Are positional arguments, such as those which is provided to print `print('Hello', 'World')`.\n",
    "\n",
    "### kwargs\n",
    "\n",
    "Are named arguments, or 'Keyword arguments', such as those which is provided to print `print(end='')`.\n",
    "\n",
    "as seen in the prototype for the `print` function above, the program tell the function to expect a presently unkown number positional arguments. <br> The program also tell the function to expect a presently unkown number of keyword arguments."
   ]
  },
  {
   "cell_type": "code",
   "execution_count": null,
   "metadata": {},
   "outputs": [],
   "source": [
    "def lambada(*args, **kwargs):\n",
    "  return print(f'Positional : {args}')\n",
    "\n",
    "lambada(100, 50, 25)"
   ]
  },
  {
   "attachments": {},
   "cell_type": "markdown",
   "metadata": {},
   "source": [
    "Notice how the code is executed, the program will print the arguments as positional arguments.<br>\n",
    "Even a named argument can be passed."
   ]
  },
  {
   "cell_type": "code",
   "execution_count": null,
   "metadata": {},
   "outputs": [],
   "source": [
    "def lambada(*args, **kwargs):\n",
    "  return print(f'Named : {kwargs}')\n",
    "\n",
    "lambada(galleons = 100, sickles = 50, knuts = 25)"
   ]
  },
  {
   "attachments": {},
   "cell_type": "markdown",
   "metadata": {},
   "source": [
    "Notice how the named values are provided in the form of a dictionary.<br>\n",
    "Thinking about the `print` function above you can see how `*objects` takes any number of positional arguments."
   ]
  },
  {
   "attachments": {},
   "cell_type": "markdown",
   "metadata": {
    "notebookRunGroups": {
     "groupValue": "1"
    }
   },
   "source": [
    "## map"
   ]
  },
  {
   "attachments": {},
   "cell_type": "markdown",
   "metadata": {},
   "source": [
    "##  List Comprehensions"
   ]
  },
  {
   "attachments": {},
   "cell_type": "markdown",
   "metadata": {
    "notebookRunGroups": {
     "groupValue": "1"
    }
   },
   "source": [
    "##  Dictionary Comprehensions"
   ]
  },
  {
   "attachments": {},
   "cell_type": "markdown",
   "metadata": {
    "notebookRunGroups": {
     "groupValue": "1"
    }
   },
   "source": [
    "## filter\n",
    "\n",
    "Using Python's `filter` function allows the programmer to return a subset of a sequence for which a certain condition is true"
   ]
  },
  {
   "cell_type": "code",
   "execution_count": 2,
   "metadata": {},
   "outputs": [
    {
     "name": "stdout",
     "output_type": "stream",
     "text": [
      "Harry\n",
      "Hermione\n",
      "Ron\n"
     ]
    }
   ],
   "source": [
    "students = [\n",
    "    {\"name\": \"Hermione\", \"house\": \"Gryffindor\"},\n",
    "    {\"name\": \"Harry\", \"house\": \"Gryffindor\"},\n",
    "    {\"name\": \"Ron\", \"house\": \"Gryffindor\"},\n",
    "    {\"name\": \"Draco\", \"house\": \"Slytherin\"},\n",
    "]\n",
    "\n",
    "\n",
    "def IsGryffindor(s):\n",
    "    return s[\"house\"] == \"Gryffindor\"\n",
    "\n",
    "\n",
    "gryffindors = filter(IsGryffindor, students)\n",
    "\n",
    "for gryffindor in sorted(gryffindors, key=lambda s: s[\"name\"]):\n",
    "    print(gryffindor[\"name\"])"
   ]
  },
  {
   "attachments": {},
   "cell_type": "markdown",
   "metadata": {},
   "source": [
    "Notice how a function called `IsGryffindor` is created. This is the filtering function that will take a student `s` and return `True` or `False` deppending on whether the student's house is Gryffindor.<br>\n",
    "The `filter` function takes two arguments. <br>\n",
    "\n",
    "- It takes the function that will be applied to each element in a sequence in this case, `IsGryffindor`. <br>\n",
    "\n",
    "- It takes the sequence to which it will apply the filtering function in this case, `students`. In `gryffindors`,  should only output the Gryffindor students\n",
    "\n",
    "`filter` can also use lambda functions."
   ]
  },
  {
   "cell_type": "code",
   "execution_count": null,
   "metadata": {},
   "outputs": [],
   "source": [
    "students = [\n",
    "    {\"name\": \"Hermione\", \"house\": \"Gryffindor\"},\n",
    "    {\"name\": \"Harry\", \"house\": \"Gryffindor\"},\n",
    "    {\"name\": \"Ron\", \"house\": \"Gryffindor\"},\n",
    "    {\"name\": \"Draco\", \"house\": \"Slytherin\"},\n",
    "]\n",
    "\n",
    "\n",
    "gryffindors = filter(lambda s: s[\"house\"] == \"Gryffindor\", students)\n",
    "\n",
    "for gryffindor in sorted(gryffindors, key=lambda s: s[\"name\"]):\n",
    "    print(gryffindor[\"name\"])"
   ]
  },
  {
   "attachments": {},
   "cell_type": "markdown",
   "metadata": {},
   "source": [
    "Notice how the same list of students is provided.<br>\n",
    "More can be learned in [Python's documentation of filter](https://docs.python.org/3/library/functions.html#filter)"
   ]
  },
  {
   "attachments": {},
   "cell_type": "markdown",
   "metadata": {},
   "source": [
    "##  enumerate\n",
    "\n",
    "The programmer may wish to provide some ranking of each student. <br>"
   ]
  },
  {
   "cell_type": "code",
   "execution_count": null,
   "metadata": {},
   "outputs": [],
   "source": [
    "students = ['Hermione', 'Harry', 'Ron']\n",
    "\n",
    "for i in range(len(students)):\n",
    "  print((i + 1, students[i]))"
   ]
  },
  {
   "attachments": {},
   "cell_type": "markdown",
   "metadata": {},
   "source": [
    "Notice how each students is enumerated when running the code.<br>\n",
    "Utilizing enumeration, can the same be done."
   ]
  },
  {
   "cell_type": "code",
   "execution_count": null,
   "metadata": {},
   "outputs": [],
   "source": [
    "students = ['Hermione', 'Harry', 'Ron']\n",
    "\n",
    "for i in enumerate(students):\n",
    "  print((i + 1, students[i]))"
   ]
  },
  {
   "attachments": {},
   "cell_type": "markdown",
   "metadata": {},
   "source": [
    "Notice how enumerate presents the index and the value of each `student`.<br>\n",
    "more can be learned in [Python's documentation of `enumerate`](https://docs.python.org/3/library/functions.html#enumerate)."
   ]
  },
  {
   "attachments": {},
   "cell_type": "markdown",
   "metadata": {
    "notebookRunGroups": {
     "groupValue": "1"
    }
   },
   "source": [
    "## Generators and iterators"
   ]
  }
 ],
 "metadata": {
  "kernelspec": {
   "display_name": "env",
   "language": "python",
   "name": "python3"
  },
  "language_info": {
   "codemirror_mode": {
    "name": "ipython",
    "version": 3
   },
   "file_extension": ".py",
   "mimetype": "text/x-python",
   "name": "python",
   "nbconvert_exporter": "python",
   "pygments_lexer": "ipython3",
   "version": "3.10.9"
  },
  "orig_nbformat": 4,
  "vscode": {
   "interpreter": {
    "hash": "5aaf8b2ac0938c23db819b9fbb5310da72a25d333eeb407bcd1ce001b183d330"
   }
  }
 },
 "nbformat": 4,
 "nbformat_minor": 2
}
