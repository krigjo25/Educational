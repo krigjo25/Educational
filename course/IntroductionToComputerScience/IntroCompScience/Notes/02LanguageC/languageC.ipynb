{
 "cells": [
  {
   "attachments": {},
   "cell_type": "markdown",
   "metadata": {},
   "source": [
    "# Programming language C"
   ]
  },
  {
   "attachments": {},
   "cell_type": "markdown",
   "metadata": {
    "notebookRunGroups": {
     "groupValue": "1"
    }
   },
   "source": [
    "C is a programming language that has all the features of Scratch and more, but perheps a little less friendly since it's purley in text.<br>\n",
    "By the end of the term, the goal is not to have learned a specific programming languagem but how to program.<br>\n",
    "\n",
    "The syntax, or rules around structure, puntuation and symbols in code, will become familiar, even if the student might not understand what everything does right away.\n",
    "\n",
    "With Scratch, ideas of programming were explored, like\n",
    "\n",
    "- functions, argument and return values\n",
    "- Conditionals\n",
    "- Boolean expressions\n",
    "- Loops\n",
    "- Variables\n",
    "\n",
    "Today translation of some `C` ideas will be translated.<br>\n",
    "C is a computer language with new syntax and more precision, though fewer words to learn than a human language might include.\n",
    "\n",
    "Freshmens might not have known all the information about the campus right away, but instead learned what's needed to on a day-by-day basis. Here too, will the most important details be started with, and 'Wave the hands' at some of the other details which is not needed yet.\n",
    "\n",
    "When the quality of the code is evaulated, the programmer might consider the following aspects.\n",
    "- Correctness, or whether the code solves the program correctly\n",
    "- Design, or how well-written the code is, based on efficiency and readability.\n",
    "- Style, or how well-formatted the code is visually."
   ]
  },
  {
   "cell_type": "code",
   "execution_count": 1,
   "metadata": {
    "vscode": {
     "languageId": "powershell"
    }
   },
   "outputs": [
    {
     "ename": "SyntaxError",
     "evalue": "invalid syntax (1482049180.py, line 3)",
     "output_type": "error",
     "traceback": [
      "\u001b[1;36m  Cell \u001b[1;32mIn[1], line 3\u001b[1;36m\u001b[0m\n\u001b[1;33m    int main(void)\u001b[0m\n\u001b[1;37m        ^\u001b[0m\n\u001b[1;31mSyntaxError\u001b[0m\u001b[1;31m:\u001b[0m invalid syntax\n"
     ]
    }
   ],
   "source": [
    "# include <studio.h>\n",
    "\n",
    "int main(void)\n",
    "{\n",
    "  printf('Hello C World\\n');\n",
    "}"
   ]
  },
  {
   "attachments": {},
   "cell_type": "markdown",
   "metadata": {},
   "source": [
    "## IDEs, compliers, interfaces\n",
    "\n",
    "in order to turn the code into a program that the computer can actually run, it has to be translated into binary, or zeros and ones.\n",
    "\n",
    "Tools called IDEs, [integrated development environments](https://en.wikipedia.org/wiki/Integrated_development_environment) will include features for the programmer to write, translate and run the code.\n",
    "\n",
    "One Popular IDE, [VSCode](https://en.wikipedia.org/wiki/Visual_Studio_Code), contains a text editor, or area where the code van be written in plain text and saves it to a file.\n",
    "\n",
    "Now the source code or the code that can be read and written, is saved into a file called hello.c.<br>\n",
    "Next the code has to be converted into a machine code, or zeros and ones that represent instruction that tells the computer to perform low-level operations.\n",
    "\n",
    "A [complier](https://en.wikipedia.org/wiki/Compiler) is a program which converts one language to another, such as source code to machine code.\n",
    "\n",
    "Visual Studio Code, also refered to as VSCode, is typically a program that can be downloaded to the Mac or PC. But since there is different systems, its easier to get started with a cloud-based version of VSCode that can be accessed with just a browser.\n",
    "- In Problem set 1 it will be learned how to access the instance of VSCode\n",
    "\n",
    "In the bottom half of the VSCode Interface, there is a [terminal], a window into which the user can type and run text commands.\n",
    "\n",
    "- The terminal will be connected to a own Virtual Server, with its own operating system, set of files, and other installed programs that can be accessed through the browser.\n",
    "\n",
    "the terminal provides a **Command-line interface**, also kown as CLI, and it allows the user to access the virtual server's operating system, which is [Linux](https://en.wikipedia.org/wiki/Linux)\n",
    "\n",
    "A command will be runned to complie to the program `make hello`. Nothing appears to happend, but there is now another file that's just called `hello`, which van be run with `./hello`\n",
    "\n",
    "`make hello`\n",
    "`./hello`\n",
    "`Hello World`\n",
    "\n",
    "- `./hello` notifies the computer to find a file in the current folder, called `hello.c`.\n",
    "\n",
    "- `make hello` command created the `hello` file containing machine code.\n",
    "\n",
    "- The sidebar is a graphical user interrface, or GUI, with which can be interacted visually.\n",
    "\n",
    "Deleting files, f.eks can the user right-click in the sidebar and select the 'Delete permanently' option,, but the user can also use the terminal with the `rm` command\n",
    "\n",
    "`make hello`\n",
    "`./hello`\n",
    "`rm hello`\n",
    "`rm : remove regular file 'hello'? y`\n",
    "\n",
    "- the user run `rm hello` to remove the file called `hello`, and respond `y` for 'yes' to confirm when prompted.\n",
    "\n",
    "`ls` could also be run to list files in the current folder. the file will be complied again and run `ls` to see that a file called `hello` was created.\n",
    "\n",
    "`make hello`\n",
    "`ls`\n",
    "`hello* hello.c`\n",
    "- `hello` is in a green with an asterisk, `*` to indicate that its executable\n",
    "\n",
    "Now if the user changes its source code to read a different message, and run the program with `./hello`, the changes made can not be seen. <br>\n",
    "The code has to be complied again, in order to create a new version of `hello` with machine code that can be run and seen the changes in it.\n",
    "\n",
    "- `make` is actually a program that find and uses a complieer to create programs from the source code, and automatically names the program based on the name of the source code's file\n"
   ]
  },
  {
   "attachments": {},
   "cell_type": "markdown",
   "metadata": {},
   "source": [
    "## Functions, arguments, return values, variables"
   ]
  },
  {
   "attachments": {},
   "cell_type": "markdown",
   "metadata": {
    "notebookRunGroups": {
     "groupValue": "1"
    }
   },
   "source": [
    "## main, header files, commands"
   ]
  },
  {
   "attachments": {},
   "cell_type": "markdown",
   "metadata": {
    "notebookRunGroups": {
     "groupValue": "1"
    }
   },
   "source": [
    "## Types, format codes, operators"
   ]
  },
  {
   "attachments": {},
   "cell_type": "markdown",
   "metadata": {
    "notebookRunGroups": {
     "groupValue": "1"
    }
   },
   "source": [
    "## Variables, syntactic sugar"
   ]
  },
  {
   "attachments": {},
   "cell_type": "markdown",
   "metadata": {},
   "source": [
    "## Calculations"
   ]
  },
  {
   "attachments": {},
   "cell_type": "markdown",
   "metadata": {
    "notebookRunGroups": {
     "groupValue": "1"
    }
   },
   "source": [
    "##  Conditionals, Boolean expressions"
   ]
  },
  {
   "attachments": {},
   "cell_type": "markdown",
   "metadata": {
    "notebookRunGroups": {
     "groupValue": "1"
    }
   },
   "source": [
    "## Loops, functions"
   ]
  },
  {
   "attachments": {},
   "cell_type": "markdown",
   "metadata": {
    "notebookRunGroups": {
     "groupValue": "1"
    }
   },
   "source": [
    "## Mario"
   ]
  },
  {
   "attachments": {},
   "cell_type": "markdown",
   "metadata": {
    "notebookRunGroups": {
     "groupValue": "1"
    }
   },
   "source": [
    "# Imprecision, overflow"
   ]
  }
 ],
 "metadata": {
  "kernelspec": {
   "display_name": "Python 3",
   "language": "python",
   "name": "python3"
  },
  "language_info": {
   "name": "python",
   "version": "3.10.9 (tags/v3.10.9:1dd9be6, Dec  6 2022, 20:01:21) [MSC v.1934 64 bit (AMD64)]"
  },
  "orig_nbformat": 4,
  "vscode": {
   "interpreter": {
    "hash": "da24d7b7dd3c86bb9e13f4aeb887c509d17f7c3ac26293a89f48f4d1d2c687b8"
   }
  }
 },
 "nbformat": 4,
 "nbformat_minor": 2
}
