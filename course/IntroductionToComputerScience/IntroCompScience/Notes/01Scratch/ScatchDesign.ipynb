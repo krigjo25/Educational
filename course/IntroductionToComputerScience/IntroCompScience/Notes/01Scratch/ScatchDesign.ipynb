{
 "cells": [
  {
   "cell_type": "markdown",
   "metadata": {},
   "source": [
    "# Creating a Scratch workBook"
   ]
  },
  {
   "cell_type": "markdown",
   "metadata": {},
   "source": [
    "## The story of the cat 'Alfred'\n",
    "\n",
    "-   Creating an animated story\n",
    "-   Allowing users to go left or right"
   ]
  }
 ],
 "metadata": {
  "language_info": {
   "name": "python"
  },
  "orig_nbformat": 4
 },
 "nbformat": 4,
 "nbformat_minor": 2
}
