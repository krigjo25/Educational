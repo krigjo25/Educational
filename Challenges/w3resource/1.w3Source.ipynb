{
 "cells": [
  {
   "cell_type": "markdown",
   "metadata": {},
   "source": [
    "#   Python Exercises w3Source"
   ]
  },
  {
   "cell_type": "markdown",
   "metadata": {},
   "source": [
    "1. Write a Python program to print the following string in a specific format\n",
    "\n",
    "\"Twinkle, twinkle, little star,\n",
    "How I wonder what you are! Up above the world so high,\n",
    "Like a diamond in the sky. Twinkle, twinkle, little star,\n",
    "How I wonder what you are\" Output :\n",
    "\n",
    "Twinkle, twinkle, little star,\n",
    "\tHow I wonder what you are! \n",
    "\t\tUp above the world so high,   \t\t\n",
    "\t\tLike a diamond in the sky. \n",
    "Twinkle, twinkle, little star, \n",
    "\tHow I wonder what you are\n",
    "\n",
    "2. Write a program to get the Python version you are using.\n",
    "3. Write a Python program to display the current date and time.\n",
    "Sample Output : \n",
    "Current date and time : \n",
    "2014-07-05 14:34:14\n",
    "'''\n"
   ]
  },
  {
   "cell_type": "code",
   "execution_count": null,
   "metadata": {},
   "outputs": [],
   "source": [
    "#   Importing Responsories\n",
    "import sys\n",
    "\n",
    "part1 = 'Twinkle, twinkle, little star, \\n\\t How I wonder what you are! \\n\\t\\tUp above the world so high, \\n\\t\\tLike a diamond in the sky.'\n",
    "part2 = 'Twinkle, twinkle, little star, \\n\\tHow I wonder what you are' \n",
    "#   Printing a text string\n",
    "print(f'{part1}, {part2}')\n",
    "\n",
    "#   Printing the system version of python\n",
    "print (f'Python version {sys.version}')\n"
   ]
  }
 ],
 "metadata": {
  "kernelspec": {
   "display_name": "Python 3.10.5 64-bit (windows store)",
   "language": "python",
   "name": "python3"
  },
  "language_info": {
   "name": "python",
   "version": "3.10.5"
  },
  "orig_nbformat": 4,
  "vscode": {
   "interpreter": {
    "hash": "da24d7b7dd3c86bb9e13f4aeb887c509d17f7c3ac26293a89f48f4d1d2c687b8"
   }
  }
 },
 "nbformat": 4,
 "nbformat_minor": 2
}
